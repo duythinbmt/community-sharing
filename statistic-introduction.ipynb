{
 "metadata": {
  "language_info": {
   "codemirror_mode": {
    "name": "ipython",
    "version": 3
   },
   "file_extension": ".py",
   "mimetype": "text/x-python",
   "name": "python",
   "nbconvert_exporter": "python",
   "pygments_lexer": "ipython3",
   "version": "3.7.4"
  },
  "orig_nbformat": 4,
  "kernelspec": {
   "name": "python3",
   "display_name": "Python 3.7.4 64-bit ('base': conda)"
  },
  "interpreter": {
   "hash": "dca0ade3e726a953b501b15e8e990130d2b7799f14cfd9f4271676035ebe5511"
  }
 },
 "nbformat": 4,
 "nbformat_minor": 2,
 "cells": [
  {
   "source": [
    "## Statistics & Probability\n",
    "\n",
    "This note is just a brief introduction of Statistics and Probability. Attempt to explain the connection between them. \n",
    "Several other resources are recommended.\n",
    "\n",
    "> Sources: \n",
    "\n",
    "> 1. [Intro to Probability (MIT)](https://www.youtube.com/watch?v=WTyLg_I1oFY&list=PLUl4u3cNGP60hI9ATjSFgLZpbNJ7myAg6&index=5)\n",
    "> 2. [Fundamentals of Statistics](https://www.youtube.com/watch?v=VPZD_aij8H0)\n",
    "> 3. [Hackerrank 10 Days of Stats](https://www.hackerrank.com/domains/tutorials/10-days-of-statistics?filters%5Bstatus%5D%5B%5D=unsolved&badge_type=10-days-of-statistics)"
   ],
   "cell_type": "markdown",
   "metadata": {}
  },
  {
   "source": [
    "## Probability 101\n",
    "\n",
    "* Sample Space \n",
    "* Probability Axiom\n",
    "* Probability Properties \n",
    "* Discrete and Continuous\n",
    "\n",
    "![prob.png](./images/prob.png)"
   ],
   "cell_type": "markdown",
   "metadata": {}
  },
  {
   "cell_type": "code",
   "execution_count": 130,
   "metadata": {},
   "outputs": [],
   "source": [
    "import itertools\n",
    "import pandas as pd \n",
    "import numpy as np \n",
    "import matplotlib.pyplot as plt \n",
    "import altair as alt\n",
    "from scipy.stats import norm\n",
    "import random\n",
    "import seaborn as sns"
   ]
  },
  {
   "cell_type": "code",
   "execution_count": 19,
   "metadata": {},
   "outputs": [
    {
     "output_type": "execute_result",
     "data": {
      "text/plain": [
       "0.8333333333333334"
      ]
     },
     "metadata": {},
     "execution_count": 19
    }
   ],
   "source": [
    "## Problem 1: Dices\n",
    "# Probability that 2 dices have the sum <= 9 (Event A)\n",
    "sample_space = list(itertools.product(range(1,7),range(1,7))) ## Sample Space\n",
    "all_outcomes = list(map(lambda o: sum(o), sample_space))\n",
    "eventA_outcomes = [all_outcomes[i] for i,s in enumerate(all_outcomes) if s <= 9]\n",
    "prob_eventA = len(eventA_outcomes) / len(all_outcomes)\n",
    "prob_eventA"
   ]
  },
  {
   "cell_type": "code",
   "execution_count": 73,
   "metadata": {},
   "outputs": [
    {
     "output_type": "stream",
     "name": "stdout",
     "text": [
      "--- Sample Space:\n[(1, 1), (1, 2), (1, 3), (1, 4), (1, 5), (1, 6), (2, 1), (2, 2), (2, 3), (2, 4), (2, 5), (2, 6), (3, 1), (3, 2), (3, 3), (3, 4), (3, 5), (3, 6), (4, 1), (4, 2), (4, 3), (4, 4), (4, 5), (4, 6), (5, 1), (5, 2), (5, 3), (5, 4), (5, 5), (5, 6), (6, 1), (6, 2), (6, 3), (6, 4), (6, 5), (6, 6)]\n--- Possible Outcome: count = 36\n[2, 3, 4, 5, 6, 7, 3, 4, 5, 6, 7, 8, 4, 5, 6, 7, 8, 9, 5, 6, 7, 8, 9, 10, 6, 7, 8, 9, 10, 11, 7, 8, 9, 10, 11, 12]\n--- Outcomes satisfy Event A: count = 30\n[(1, 2), (1, 3), (1, 4), (1, 5), (1, 6), (2, 1), (2, 3), (2, 4), (2, 5), (2, 6), (3, 1), (3, 2), (3, 4), (3, 5), (3, 6), (4, 1), (4, 2), (4, 3), (4, 5), (4, 6), (5, 1), (5, 2), (5, 3), (5, 4), (5, 6), (6, 1), (6, 2), (6, 3), (6, 4), (6, 5)]\n--------------------\n==> Prob of Event A: 0.83\n"
     ]
    }
   ],
   "source": [
    "print('--- Sample Space:')\n",
    "print(sample_space)\n",
    "print('--- Possible Outcome: count = {}'.format(len(outcome_sum)))\n",
    "print(outcome_sum)\n",
    "print('--- Outcomes satisfy Event A: count = {}'.format(len(eventA_outcomes)))\n",
    "print(eventA_outcomes)\n",
    "print('-'*20)\n",
    "print('==> Prob of Event A: {:.2f}'.format(len(eventA_outcomes) / len(all_outcomes)))"
   ]
  },
  {
   "source": [
    "## Bayes Theorem\n",
    "\n",
    "> P(A∣B)=P(A)P(B∣A)/P(A)\n",
    "\n",
    "* P(A) means the probability of the event A to occur.\n",
    "* P(B) means the probability of the event B to occur.\n",
    "* P(B|A) means the probability of the event B to occur, knowing that the event A occured.\n",
    "Finally, P(A|B) means the probability of the event A to occur, knowing that the event B occured."
   ],
   "cell_type": "markdown",
   "metadata": {}
  },
  {
   "cell_type": "code",
   "execution_count": 11,
   "metadata": {},
   "outputs": [],
   "source": [
    "## Problem 2: Dices\n",
    "# Probability that 2 dices have different numbers (Event A), sum = 6 (Event B)\n",
    "sample_space = list(itertools.product(range(1,7),range(1,7))) ## Sample Space\n",
    "all_sum_outcomes = list(map(lambda o: sum(o), sample_space))\n",
    "eventA_space = [o for o in sample_space if o[0] != o[1]]\n",
    "eventA_sum_outcomes = list(map(lambda o: sum(o), eventA_space))\n",
    "eventB_space = [sample_space[i] for i,s in enumerate(all_sum_outcomes) if s == 6]\n",
    "eventB_sum_outcomes = list(map(lambda o: sum(o), eventB_space))\n",
    "eventB_givenA_outcomes = [eventA_space[i] for i,s in enumerate(eventA_sum_outcomes) if s == 6]\n",
    "eventA_givenB_outcomes = [o for o in eventB_space if o[0] != o[1]]\n",
    "\n",
    "# Proba\n",
    "P_A = len(eventA_space) / len(sample_space)\n",
    "P_B = len(eventB_space) / len(sample_space)\n",
    "P_BA = len(eventB_givenA_outcomes) / len(eventA_space)\n",
    "P_AB_bayes = (P_A * P_BA) / P_B ## Calculate by Bayes Theorem\n",
    "P_AB_obs = len(eventA_givenB_outcomes) / len(eventB_space)\n",
    "# comb_diff_sum = list(map(lambda o: sum(o), comb_diff))\n",
    "# sum([s == 6 for s in comb_diff_sum]) / len(outcome)"
   ]
  },
  {
   "cell_type": "code",
   "execution_count": 13,
   "metadata": {},
   "outputs": [
    {
     "output_type": "stream",
     "name": "stdout",
     "text": [
      "--- Sample Space: count = 36\n[(1, 1), (1, 2), (1, 3), (1, 4), (1, 5), (1, 6), (2, 1), (2, 2), (2, 3), (2, 4), (2, 5), (2, 6), (3, 1), (3, 2), (3, 3), (3, 4), (3, 5), (3, 6), (4, 1), (4, 2), (4, 3), (4, 4), (4, 5), (4, 6), (5, 1), (5, 2), (5, 3), (5, 4), (5, 5), (5, 6), (6, 1), (6, 2), (6, 3), (6, 4), (6, 5), (6, 6)]\n--- Possible Outcomes of Event A: diff num: count = 30\n[(1, 2), (1, 3), (1, 4), (1, 5), (1, 6), (2, 1), (2, 3), (2, 4), (2, 5), (2, 6), (3, 1), (3, 2), (3, 4), (3, 5), (3, 6), (4, 1), (4, 2), (4, 3), (4, 5), (4, 6), (5, 1), (5, 2), (5, 3), (5, 4), (5, 6), (6, 1), (6, 2), (6, 3), (6, 4), (6, 5)]\n--- Possible Outcomes of Event B: sum =< 6: count = 5\n[(1, 5), (2, 4), (3, 3), (4, 2), (5, 1)]\n--- Possible Outcomes of Event B, given Event A: count = 4\n[(1, 5), (2, 4), (4, 2), (5, 1)]\n--- Possible Outcomes of Event A, given Event B: count = 4\n[(1, 5), (2, 4), (4, 2), (5, 1)]\n--------------------\n==> P(A): 0.83\n==> P(B): 0.14\n==> P(B|A): 0.13\n==> P(A|B) - Calculated by Bayes: 0.80\n==> P(A|B) - Count by Observation: 0.80\n"
     ]
    }
   ],
   "source": [
    "print('--- Sample Space: count = {}'.format(len(sample_space)))\n",
    "print(sample_space)\n",
    "print('--- Possible Outcomes of Event A: diff num: count = {}'.format(len(eventA_space)))\n",
    "print(eventA_space)\n",
    "print('--- Possible Outcomes of Event B: sum =< 6: count = {}'.format(len(eventB_space)))\n",
    "print(eventB_space)\n",
    "print('--- Possible Outcomes of Event B, given Event A: count = {}'.format(len(eventB_givenA_outcomes)))\n",
    "print(eventB_givenA_outcomes)\n",
    "print('--- Possible Outcomes of Event A, given Event B: count = {}'.format(len(eventA_givenB_outcomes)))\n",
    "print(eventA_givenB_outcomes)\n",
    "print('-'*20)\n",
    "print('==> P(A): {:.2f}'.format(P_A))\n",
    "print('==> P(B): {:.2f}'.format(P_B))\n",
    "print('==> P(B|A): {:.2f}'.format(P_BA))\n",
    "print('==> P(A|B) - Calculated by Bayes: {:.2f}'.format(P_AB_bayes)) \n",
    "print('==> P(A|B) - Count by Observation: {:.2f}'.format(P_AB_obs))"
   ]
  },
  {
   "cell_type": "code",
   "execution_count": 34,
   "metadata": {},
   "outputs": [
    {
     "output_type": "execute_result",
     "data": {
      "text/plain": [
       "  outcome  sum_of_out\n",
       "0  (1, 1)           2\n",
       "1  (1, 2)           3\n",
       "2  (1, 3)           4\n",
       "3  (1, 4)           5\n",
       "4  (1, 5)           6"
      ],
      "text/html": "<div>\n<style scoped>\n    .dataframe tbody tr th:only-of-type {\n        vertical-align: middle;\n    }\n\n    .dataframe tbody tr th {\n        vertical-align: top;\n    }\n\n    .dataframe thead th {\n        text-align: right;\n    }\n</style>\n<table border=\"1\" class=\"dataframe\">\n  <thead>\n    <tr style=\"text-align: right;\">\n      <th></th>\n      <th>outcome</th>\n      <th>sum_of_out</th>\n    </tr>\n  </thead>\n  <tbody>\n    <tr>\n      <td>0</td>\n      <td>(1, 1)</td>\n      <td>2</td>\n    </tr>\n    <tr>\n      <td>1</td>\n      <td>(1, 2)</td>\n      <td>3</td>\n    </tr>\n    <tr>\n      <td>2</td>\n      <td>(1, 3)</td>\n      <td>4</td>\n    </tr>\n    <tr>\n      <td>3</td>\n      <td>(1, 4)</td>\n      <td>5</td>\n    </tr>\n    <tr>\n      <td>4</td>\n      <td>(1, 5)</td>\n      <td>6</td>\n    </tr>\n  </tbody>\n</table>\n</div>"
     },
     "metadata": {},
     "execution_count": 34
    }
   ],
   "source": [
    "# Distribution \n",
    "df = pd.DataFrame({'outcome':sample_space, 'sum_of_out':all_sum_outcomes})\n",
    "df.head()"
   ]
  },
  {
   "cell_type": "code",
   "execution_count": 33,
   "metadata": {},
   "outputs": [
    {
     "output_type": "execute_result",
     "data": {
      "text/html": "\n<div id=\"altair-viz-1ed7a1c71c694a0a8d99aa3ec33064e0\"></div>\n<script type=\"text/javascript\">\n  (function(spec, embedOpt){\n    let outputDiv = document.currentScript.previousElementSibling;\n    if (outputDiv.id !== \"altair-viz-1ed7a1c71c694a0a8d99aa3ec33064e0\") {\n      outputDiv = document.getElementById(\"altair-viz-1ed7a1c71c694a0a8d99aa3ec33064e0\");\n    }\n    const paths = {\n      \"vega\": \"https://cdn.jsdelivr.net/npm//vega@5?noext\",\n      \"vega-lib\": \"https://cdn.jsdelivr.net/npm//vega-lib?noext\",\n      \"vega-lite\": \"https://cdn.jsdelivr.net/npm//vega-lite@4.8.1?noext\",\n      \"vega-embed\": \"https://cdn.jsdelivr.net/npm//vega-embed@6?noext\",\n    };\n\n    function loadScript(lib) {\n      return new Promise(function(resolve, reject) {\n        var s = document.createElement('script');\n        s.src = paths[lib];\n        s.async = true;\n        s.onload = () => resolve(paths[lib]);\n        s.onerror = () => reject(`Error loading script: ${paths[lib]}`);\n        document.getElementsByTagName(\"head\")[0].appendChild(s);\n      });\n    }\n\n    function showError(err) {\n      outputDiv.innerHTML = `<div class=\"error\" style=\"color:red;\">${err}</div>`;\n      throw err;\n    }\n\n    function displayChart(vegaEmbed) {\n      vegaEmbed(outputDiv, spec, embedOpt)\n        .catch(err => showError(`Javascript Error: ${err.message}<br>This usually means there's a typo in your chart specification. See the javascript console for the full traceback.`));\n    }\n\n    if(typeof define === \"function\" && define.amd) {\n      requirejs.config({paths});\n      require([\"vega-embed\"], displayChart, err => showError(`Error loading script: ${err.message}`));\n    } else if (typeof vegaEmbed === \"function\") {\n      displayChart(vegaEmbed);\n    } else {\n      loadScript(\"vega\")\n        .then(() => loadScript(\"vega-lite\"))\n        .then(() => loadScript(\"vega-embed\"))\n        .catch(showError)\n        .then(() => displayChart(vegaEmbed));\n    }\n  })({\"config\": {\"view\": {\"continuousWidth\": 400, \"continuousHeight\": 300}}, \"data\": {\"name\": \"data-ca1cd3c2ab30403dbf79bf62a713bd89\"}, \"mark\": \"bar\", \"encoding\": {\"x\": {\"type\": \"nominal\", \"field\": \"outcome\"}, \"y\": {\"type\": \"quantitative\", \"aggregate\": \"count\"}}, \"$schema\": \"https://vega.github.io/schema/vega-lite/v4.8.1.json\", \"datasets\": {\"data-ca1cd3c2ab30403dbf79bf62a713bd89\": [{\"outcome\": [1, 1], \"sum\": 2}, {\"outcome\": [1, 2], \"sum\": 3}, {\"outcome\": [1, 3], \"sum\": 4}, {\"outcome\": [1, 4], \"sum\": 5}, {\"outcome\": [1, 5], \"sum\": 6}, {\"outcome\": [1, 6], \"sum\": 7}, {\"outcome\": [2, 1], \"sum\": 3}, {\"outcome\": [2, 2], \"sum\": 4}, {\"outcome\": [2, 3], \"sum\": 5}, {\"outcome\": [2, 4], \"sum\": 6}, {\"outcome\": [2, 5], \"sum\": 7}, {\"outcome\": [2, 6], \"sum\": 8}, {\"outcome\": [3, 1], \"sum\": 4}, {\"outcome\": [3, 2], \"sum\": 5}, {\"outcome\": [3, 3], \"sum\": 6}, {\"outcome\": [3, 4], \"sum\": 7}, {\"outcome\": [3, 5], \"sum\": 8}, {\"outcome\": [3, 6], \"sum\": 9}, {\"outcome\": [4, 1], \"sum\": 5}, {\"outcome\": [4, 2], \"sum\": 6}, {\"outcome\": [4, 3], \"sum\": 7}, {\"outcome\": [4, 4], \"sum\": 8}, {\"outcome\": [4, 5], \"sum\": 9}, {\"outcome\": [4, 6], \"sum\": 10}, {\"outcome\": [5, 1], \"sum\": 6}, {\"outcome\": [5, 2], \"sum\": 7}, {\"outcome\": [5, 3], \"sum\": 8}, {\"outcome\": [5, 4], \"sum\": 9}, {\"outcome\": [5, 5], \"sum\": 10}, {\"outcome\": [5, 6], \"sum\": 11}, {\"outcome\": [6, 1], \"sum\": 7}, {\"outcome\": [6, 2], \"sum\": 8}, {\"outcome\": [6, 3], \"sum\": 9}, {\"outcome\": [6, 4], \"sum\": 10}, {\"outcome\": [6, 5], \"sum\": 11}, {\"outcome\": [6, 6], \"sum\": 12}]}}, {\"mode\": \"vega-lite\"});\n</script>",
      "text/plain": [
       "alt.Chart(...)"
      ]
     },
     "metadata": {},
     "execution_count": 33
    }
   ],
   "source": [
    "alt.Chart(df).mark_bar().encode( # Uniform Distribution\n",
    "    alt.X('outcome:N'), ## Group by\n",
    "    y='count()' ## Aggregate Func\n",
    ")"
   ]
  },
  {
   "cell_type": "code",
   "execution_count": 35,
   "metadata": {},
   "outputs": [
    {
     "output_type": "execute_result",
     "data": {
      "text/html": "\n<div id=\"altair-viz-3fe96d20920f4b3b92e1dc4e00119aa7\"></div>\n<script type=\"text/javascript\">\n  (function(spec, embedOpt){\n    let outputDiv = document.currentScript.previousElementSibling;\n    if (outputDiv.id !== \"altair-viz-3fe96d20920f4b3b92e1dc4e00119aa7\") {\n      outputDiv = document.getElementById(\"altair-viz-3fe96d20920f4b3b92e1dc4e00119aa7\");\n    }\n    const paths = {\n      \"vega\": \"https://cdn.jsdelivr.net/npm//vega@5?noext\",\n      \"vega-lib\": \"https://cdn.jsdelivr.net/npm//vega-lib?noext\",\n      \"vega-lite\": \"https://cdn.jsdelivr.net/npm//vega-lite@4.8.1?noext\",\n      \"vega-embed\": \"https://cdn.jsdelivr.net/npm//vega-embed@6?noext\",\n    };\n\n    function loadScript(lib) {\n      return new Promise(function(resolve, reject) {\n        var s = document.createElement('script');\n        s.src = paths[lib];\n        s.async = true;\n        s.onload = () => resolve(paths[lib]);\n        s.onerror = () => reject(`Error loading script: ${paths[lib]}`);\n        document.getElementsByTagName(\"head\")[0].appendChild(s);\n      });\n    }\n\n    function showError(err) {\n      outputDiv.innerHTML = `<div class=\"error\" style=\"color:red;\">${err}</div>`;\n      throw err;\n    }\n\n    function displayChart(vegaEmbed) {\n      vegaEmbed(outputDiv, spec, embedOpt)\n        .catch(err => showError(`Javascript Error: ${err.message}<br>This usually means there's a typo in your chart specification. See the javascript console for the full traceback.`));\n    }\n\n    if(typeof define === \"function\" && define.amd) {\n      requirejs.config({paths});\n      require([\"vega-embed\"], displayChart, err => showError(`Error loading script: ${err.message}`));\n    } else if (typeof vegaEmbed === \"function\") {\n      displayChart(vegaEmbed);\n    } else {\n      loadScript(\"vega\")\n        .then(() => loadScript(\"vega-lite\"))\n        .then(() => loadScript(\"vega-embed\"))\n        .catch(showError)\n        .then(() => displayChart(vegaEmbed));\n    }\n  })({\"config\": {\"view\": {\"continuousWidth\": 400, \"continuousHeight\": 300}}, \"data\": {\"name\": \"data-4177d5ab64112b5e0d6a1b0f69ab71c9\"}, \"mark\": \"bar\", \"encoding\": {\"x\": {\"type\": \"nominal\", \"field\": \"sum_of_out\"}, \"y\": {\"type\": \"quantitative\", \"aggregate\": \"count\"}}, \"$schema\": \"https://vega.github.io/schema/vega-lite/v4.8.1.json\", \"datasets\": {\"data-4177d5ab64112b5e0d6a1b0f69ab71c9\": [{\"outcome\": [1, 1], \"sum_of_out\": 2}, {\"outcome\": [1, 2], \"sum_of_out\": 3}, {\"outcome\": [1, 3], \"sum_of_out\": 4}, {\"outcome\": [1, 4], \"sum_of_out\": 5}, {\"outcome\": [1, 5], \"sum_of_out\": 6}, {\"outcome\": [1, 6], \"sum_of_out\": 7}, {\"outcome\": [2, 1], \"sum_of_out\": 3}, {\"outcome\": [2, 2], \"sum_of_out\": 4}, {\"outcome\": [2, 3], \"sum_of_out\": 5}, {\"outcome\": [2, 4], \"sum_of_out\": 6}, {\"outcome\": [2, 5], \"sum_of_out\": 7}, {\"outcome\": [2, 6], \"sum_of_out\": 8}, {\"outcome\": [3, 1], \"sum_of_out\": 4}, {\"outcome\": [3, 2], \"sum_of_out\": 5}, {\"outcome\": [3, 3], \"sum_of_out\": 6}, {\"outcome\": [3, 4], \"sum_of_out\": 7}, {\"outcome\": [3, 5], \"sum_of_out\": 8}, {\"outcome\": [3, 6], \"sum_of_out\": 9}, {\"outcome\": [4, 1], \"sum_of_out\": 5}, {\"outcome\": [4, 2], \"sum_of_out\": 6}, {\"outcome\": [4, 3], \"sum_of_out\": 7}, {\"outcome\": [4, 4], \"sum_of_out\": 8}, {\"outcome\": [4, 5], \"sum_of_out\": 9}, {\"outcome\": [4, 6], \"sum_of_out\": 10}, {\"outcome\": [5, 1], \"sum_of_out\": 6}, {\"outcome\": [5, 2], \"sum_of_out\": 7}, {\"outcome\": [5, 3], \"sum_of_out\": 8}, {\"outcome\": [5, 4], \"sum_of_out\": 9}, {\"outcome\": [5, 5], \"sum_of_out\": 10}, {\"outcome\": [5, 6], \"sum_of_out\": 11}, {\"outcome\": [6, 1], \"sum_of_out\": 7}, {\"outcome\": [6, 2], \"sum_of_out\": 8}, {\"outcome\": [6, 3], \"sum_of_out\": 9}, {\"outcome\": [6, 4], \"sum_of_out\": 10}, {\"outcome\": [6, 5], \"sum_of_out\": 11}, {\"outcome\": [6, 6], \"sum_of_out\": 12}]}}, {\"mode\": \"vega-lite\"});\n</script>",
      "text/plain": [
       "alt.Chart(...)"
      ]
     },
     "metadata": {},
     "execution_count": 35
    }
   ],
   "source": [
    "alt.Chart(df).mark_bar().encode( # Distribution (Density)\n",
    "    alt.X('sum_of_out:N'), ## Group by\n",
    "    y='count()' ## Aggregate Func\n",
    ")"
   ]
  },
  {
   "source": [
    "Now, it looks familiar. It's the distribution that we work before in EDA and Data Viz. Why we interested in frequenct and the distribution? \n",
    "* It told us what values to be expected, so we can estimate, inference, prediction"
   ],
   "cell_type": "markdown",
   "metadata": {}
  },
  {
   "source": [
    "## Normal Distribution\n",
    "![normdist_curve.png](./images/normdist_curve.png)\n",
    "\n",
    "* The curve as a formula\n",
    "\n",
    "![norm_dist.png](./images/norm_dist.png)"
   ],
   "cell_type": "markdown",
   "metadata": {}
  },
  {
   "source": [
    "![stats-dist.png](./images/stats-dist.png)"
   ],
   "cell_type": "markdown",
   "metadata": {}
  },
  {
   "source": [
    "### Distribution Func: Density"
   ],
   "cell_type": "markdown",
   "metadata": {}
  },
  {
   "cell_type": "code",
   "execution_count": 81,
   "metadata": {},
   "outputs": [],
   "source": [
    "mu, std = 20, 2 ## Distribution Parameters\n",
    "X1 = 19.5 \n",
    "X2 = 20\n",
    "X3 = 22"
   ]
  },
  {
   "cell_type": "code",
   "execution_count": 41,
   "metadata": {},
   "outputs": [],
   "source": [
    "#Creating a Function of Density\n",
    "def normal_dist(x , mean , sd):\n",
    "    term1 = np.sqrt(2*np.pi)*sd\n",
    "    prob_density = (1/term1) * np.exp(-0.5*((x-mean)/sd)**2)\n",
    "    return prob_density"
   ]
  },
  {
   "cell_type": "code",
   "execution_count": null,
   "metadata": {},
   "outputs": [],
   "source": []
  },
  {
   "cell_type": "code",
   "execution_count": 61,
   "metadata": {},
   "outputs": [
    {
     "output_type": "execute_result",
     "data": {
      "text/plain": [
       "0.19333405840142462"
      ]
     },
     "metadata": {},
     "execution_count": 61
    }
   ],
   "source": [
    "# Check the Density\n",
    "normal_dist(X1, mu, std)"
   ]
  },
  {
   "cell_type": "code",
   "execution_count": 62,
   "metadata": {},
   "outputs": [
    {
     "output_type": "execute_result",
     "data": {
      "text/plain": [
       "0.19333405840142465"
      ]
     },
     "metadata": {},
     "execution_count": 62
    }
   ],
   "source": [
    "norm(mu, std).pdf(X1) ## Function of scipy.stats"
   ]
  },
  {
   "cell_type": "code",
   "execution_count": 73,
   "metadata": {},
   "outputs": [
    {
     "output_type": "execute_result",
     "data": {
      "text/html": "\n<div id=\"altair-viz-e17bb5a3d43b45139cc258f234893bf4\"></div>\n<script type=\"text/javascript\">\n  (function(spec, embedOpt){\n    let outputDiv = document.currentScript.previousElementSibling;\n    if (outputDiv.id !== \"altair-viz-e17bb5a3d43b45139cc258f234893bf4\") {\n      outputDiv = document.getElementById(\"altair-viz-e17bb5a3d43b45139cc258f234893bf4\");\n    }\n    const paths = {\n      \"vega\": \"https://cdn.jsdelivr.net/npm//vega@5?noext\",\n      \"vega-lib\": \"https://cdn.jsdelivr.net/npm//vega-lib?noext\",\n      \"vega-lite\": \"https://cdn.jsdelivr.net/npm//vega-lite@4.8.1?noext\",\n      \"vega-embed\": \"https://cdn.jsdelivr.net/npm//vega-embed@6?noext\",\n    };\n\n    function loadScript(lib) {\n      return new Promise(function(resolve, reject) {\n        var s = document.createElement('script');\n        s.src = paths[lib];\n        s.async = true;\n        s.onload = () => resolve(paths[lib]);\n        s.onerror = () => reject(`Error loading script: ${paths[lib]}`);\n        document.getElementsByTagName(\"head\")[0].appendChild(s);\n      });\n    }\n\n    function showError(err) {\n      outputDiv.innerHTML = `<div class=\"error\" style=\"color:red;\">${err}</div>`;\n      throw err;\n    }\n\n    function displayChart(vegaEmbed) {\n      vegaEmbed(outputDiv, spec, embedOpt)\n        .catch(err => showError(`Javascript Error: ${err.message}<br>This usually means there's a typo in your chart specification. See the javascript console for the full traceback.`));\n    }\n\n    if(typeof define === \"function\" && define.amd) {\n      requirejs.config({paths});\n      require([\"vega-embed\"], displayChart, err => showError(`Error loading script: ${err.message}`));\n    } else if (typeof vegaEmbed === \"function\") {\n      displayChart(vegaEmbed);\n    } else {\n      loadScript(\"vega\")\n        .then(() => loadScript(\"vega-lite\"))\n        .then(() => loadScript(\"vega-embed\"))\n        .catch(showError)\n        .then(() => displayChart(vegaEmbed));\n    }\n  })({\"config\": {\"view\": {\"continuousWidth\": 400, \"continuousHeight\": 300}}, \"data\": {\"name\": \"data-8f4ae3c9d90197b983d85d1ca8143f23\"}, \"mark\": \"line\", \"encoding\": {\"x\": {\"type\": \"quantitative\", \"field\": \"X\"}, \"y\": {\"type\": \"quantitative\", \"field\": \"y\"}}, \"$schema\": \"https://vega.github.io/schema/vega-lite/v4.8.1.json\", \"datasets\": {\"data-8f4ae3c9d90197b983d85d1ca8143f23\": [{\"X\": 10.0, \"y\": 7.433597573671488e-07}, {\"X\": 10.202020202020202, \"y\": 1.2255305214711653e-06}, {\"X\": 10.404040404040405, \"y\": 1.999945186208313e-06}, {\"X\": 10.606060606060606, \"y\": 3.2305831963243976e-06}, {\"X\": 10.808080808080808, \"y\": 5.165503290660852e-06}, {\"X\": 11.01010101010101, \"y\": 8.175479447912656e-06}, {\"X\": 11.212121212121213, \"y\": 1.280804059756914e-05}, {\"X\": 11.414141414141413, \"y\": 1.986191119070741e-05}, {\"X\": 11.616161616161616, \"y\": 3.0487951976494848e-05}, {\"X\": 11.818181818181818, \"y\": 4.632381766150709e-05}, {\"X\": 12.02020202020202, \"y\": 6.96705615674845e-05}, {\"X\": 12.222222222222221, \"y\": 0.00010372015438396014}, {\"X\": 12.424242424242424, \"y\": 0.00015284311273902775}, {\"X\": 12.626262626262626, \"y\": 0.0002229448624037995}, {\"X\": 12.828282828282829, \"y\": 0.0003218977489634325}, {\"X\": 13.030303030303031, \"y\": 0.0004600523848114837}, {\"X\": 13.232323232323232, \"y\": 0.0006508269208244565}, {\"X\": 13.434343434343434, \"y\": 0.0009113655480006384}, {\"X\": 13.636363636363637, \"y\": 0.0012632478890519671}, {\"X\": 13.838383838383837, \"y\": 0.001733218959487878}, {\"X\": 14.040404040404042, \"y\": 0.0023538953815616715}, {\"X\": 14.242424242424242, \"y\": 0.003164388214291381}, {\"X\": 14.444444444444445, \"y\": 0.004210767242059176}, {\"X\": 14.646464646464647, \"y\": 0.00554627741968744}, {\"X\": 14.848484848484848, \"y\": 0.0072312073988170895}, {\"X\": 15.05050505050505, \"y\": 0.009332304967033224}, {\"X\": 15.252525252525253, \"y\": 0.011921637251021437}, {\"X\": 15.454545454545453, \"y\": 0.015074806958400305}, {\"X\": 15.656565656565657, \"y\": 0.018868461570319982}, {\"X\": 15.858585858585858, \"y\": 0.023377071203352733}, {\"X\": 16.060606060606062, \"y\": 0.02866900256240651}, {\"X\": 16.262626262626263, \"y\": 0.0348019791961629}, {\"X\": 16.464646464646464, \"y\": 0.04181808860725856}, {\"X\": 16.666666666666668, \"y\": 0.049738569396374395}, {\"X\": 16.86868686868687, \"y\": 0.058558679766372246}, {\"X\": 17.070707070707073, \"y\": 0.06824300459373532}, {\"X\": 17.272727272727273, \"y\": 0.07872159380942188}, {\"X\": 17.474747474747474, \"y\": 0.08988733256240627}, {\"X\": 17.676767676767675, \"y\": 0.10159491775061187}, {\"X\": 17.87878787878788, \"y\": 0.11366175281568047}, {\"X\": 18.080808080808083, \"y\": 0.12587097349211976}, {\"X\": 18.282828282828284, \"y\": 0.13797668573505775}, {\"X\": 18.484848484848484, \"y\": 0.14971134163554983}, {\"X\": 18.686868686868685, \"y\": 0.16079501170470498}, {\"X\": 18.88888888888889, \"y\": 0.17094614708306463}, {\"X\": 19.09090909090909, \"y\": 0.17989327890631163}, {\"X\": 19.292929292929294, \"y\": 0.1873869897031951}, {\"X\": 19.494949494949495, \"y\": 0.19321142654478435}, {\"X\": 19.696969696969695, \"y\": 0.19719461700245938}, {\"X\": 19.8989898989899, \"y\": 0.19921690084567323}, {\"X\": 20.1010101010101, \"y\": 0.19921690084567323}, {\"X\": 20.303030303030305, \"y\": 0.19719461700245938}, {\"X\": 20.505050505050505, \"y\": 0.19321142654478435}, {\"X\": 20.707070707070706, \"y\": 0.1873869897031951}, {\"X\": 20.909090909090907, \"y\": 0.17989327890631174}, {\"X\": 21.11111111111111, \"y\": 0.17094614708306463}, {\"X\": 21.313131313131315, \"y\": 0.16079501170470498}, {\"X\": 21.515151515151516, \"y\": 0.14971134163554983}, {\"X\": 21.717171717171716, \"y\": 0.13797668573505775}, {\"X\": 21.919191919191917, \"y\": 0.12587097349211976}, {\"X\": 22.12121212121212, \"y\": 0.11366175281568047}, {\"X\": 22.323232323232325, \"y\": 0.10159491775061187}, {\"X\": 22.525252525252526, \"y\": 0.08988733256240627}, {\"X\": 22.727272727272727, \"y\": 0.07872159380942188}, {\"X\": 22.929292929292927, \"y\": 0.06824300459373532}, {\"X\": 23.13131313131313, \"y\": 0.058558679766372246}, {\"X\": 23.333333333333336, \"y\": 0.04973856939637425}, {\"X\": 23.535353535353536, \"y\": 0.04181808860725856}, {\"X\": 23.737373737373737, \"y\": 0.0348019791961629}, {\"X\": 23.939393939393938, \"y\": 0.02866900256240651}, {\"X\": 24.141414141414142, \"y\": 0.023377071203352733}, {\"X\": 24.343434343434343, \"y\": 0.018868461570319982}, {\"X\": 24.545454545454547, \"y\": 0.015074806958400305}, {\"X\": 24.747474747474747, \"y\": 0.011921637251021437}, {\"X\": 24.949494949494948, \"y\": 0.009332304967033243}, {\"X\": 25.15151515151515, \"y\": 0.007231207398817121}, {\"X\": 25.353535353535353, \"y\": 0.00554627741968744}, {\"X\": 25.555555555555557, \"y\": 0.004210767242059168}, {\"X\": 25.757575757575758, \"y\": 0.003164388214291381}, {\"X\": 25.95959595959596, \"y\": 0.0023538953815616715}, {\"X\": 26.161616161616163, \"y\": 0.001733218959487878}, {\"X\": 26.363636363636363, \"y\": 0.0012632478890519671}, {\"X\": 26.565656565656564, \"y\": 0.0009113655480006408}, {\"X\": 26.767676767676768, \"y\": 0.0006508269208244565}, {\"X\": 26.96969696969697, \"y\": 0.0004600523848114837}, {\"X\": 27.171717171717173, \"y\": 0.00032189774896343134}, {\"X\": 27.373737373737374, \"y\": 0.0002229448624037995}, {\"X\": 27.575757575757574, \"y\": 0.0001528431127390283}, {\"X\": 27.77777777777778, \"y\": 0.00010372015438396014}, {\"X\": 27.97979797979798, \"y\": 6.96705615674845e-05}, {\"X\": 28.18181818181818, \"y\": 4.632381766150725e-05}, {\"X\": 28.383838383838384, \"y\": 3.0487951976494848e-05}, {\"X\": 28.585858585858585, \"y\": 1.986191119070748e-05}, {\"X\": 28.78787878787879, \"y\": 1.2808040597569072e-05}, {\"X\": 28.98989898989899, \"y\": 8.175479447912656e-06}, {\"X\": 29.19191919191919, \"y\": 5.165503290660871e-06}, {\"X\": 29.393939393939394, \"y\": 3.2305831963243976e-06}, {\"X\": 29.595959595959595, \"y\": 1.999945186208313e-06}, {\"X\": 29.7979797979798, \"y\": 1.225530521471161e-06}, {\"X\": 30.0, \"y\": 7.433597573671488e-07}]}}, {\"mode\": \"vega-lite\"});\n</script>",
      "text/plain": [
       "alt.Chart(...)"
      ]
     },
     "metadata": {},
     "execution_count": 73
    }
   ],
   "source": [
    "X = np.linspace(10, 30, num=100)\n",
    "y = [normal_dist(x, mu, std) for x in X]\n",
    "df = pd.DataFrame({'X': X, 'y':y})\n",
    "alt.Chart(df).mark_line().encode(\n",
    "    x='X',\n",
    "    y='y:Q'\n",
    ")"
   ]
  },
  {
   "source": [
    "### Distribution Func: Cumulative\n",
    "\n",
    "* Normal Distribution (Cumulative): http://www.matematicasvisuales.com/english/html/probability/varaleat/normaldistribution.html\n",
    "\n",
    "![cdf.png](./images/cdf.png)"
   ],
   "cell_type": "markdown",
   "metadata": {}
  },
  {
   "cell_type": "code",
   "execution_count": 82,
   "metadata": {},
   "outputs": [
    {
     "output_type": "execute_result",
     "data": {
      "text/plain": [
       "0.4012936743170765"
      ]
     },
     "metadata": {},
     "execution_count": 82
    }
   ],
   "source": [
    "import scipy.integrate as integrate\n",
    "integrate.quad(lambda x: normal_dist(x, mu, std), -999, 19.5)[0]"
   ]
  },
  {
   "cell_type": "code",
   "execution_count": 46,
   "metadata": {},
   "outputs": [
    {
     "output_type": "execute_result",
     "data": {
      "text/plain": [
       "0.4012936743170763"
      ]
     },
     "metadata": {},
     "execution_count": 46
    }
   ],
   "source": [
    "norm(mu, std).cdf(19.5) # Pr(X <=19.5), try with mean = median = 20 (X norm dis)"
   ]
  },
  {
   "cell_type": "code",
   "execution_count": 50,
   "metadata": {},
   "outputs": [
    {
     "output_type": "execute_result",
     "data": {
      "text/plain": [
       "0.19146246127401312"
      ]
     },
     "metadata": {},
     "execution_count": 50
    }
   ],
   "source": [
    "norm(mu, std).cdf(20) - norm(mu, std).cdf(19) # Pr(19.5 <= X <= 20)"
   ]
  },
  {
   "source": [
    "### Standard Distribution (z-score)"
   ],
   "cell_type": "markdown",
   "metadata": {}
  },
  {
   "cell_type": "code",
   "execution_count": 91,
   "metadata": {},
   "outputs": [
    {
     "output_type": "execute_result",
     "data": {
      "text/html": "\n<div id=\"altair-viz-76425e96786f4c66b544082b040af147\"></div>\n<script type=\"text/javascript\">\n  (function(spec, embedOpt){\n    let outputDiv = document.currentScript.previousElementSibling;\n    if (outputDiv.id !== \"altair-viz-76425e96786f4c66b544082b040af147\") {\n      outputDiv = document.getElementById(\"altair-viz-76425e96786f4c66b544082b040af147\");\n    }\n    const paths = {\n      \"vega\": \"https://cdn.jsdelivr.net/npm//vega@5?noext\",\n      \"vega-lib\": \"https://cdn.jsdelivr.net/npm//vega-lib?noext\",\n      \"vega-lite\": \"https://cdn.jsdelivr.net/npm//vega-lite@4.8.1?noext\",\n      \"vega-embed\": \"https://cdn.jsdelivr.net/npm//vega-embed@6?noext\",\n    };\n\n    function loadScript(lib) {\n      return new Promise(function(resolve, reject) {\n        var s = document.createElement('script');\n        s.src = paths[lib];\n        s.async = true;\n        s.onload = () => resolve(paths[lib]);\n        s.onerror = () => reject(`Error loading script: ${paths[lib]}`);\n        document.getElementsByTagName(\"head\")[0].appendChild(s);\n      });\n    }\n\n    function showError(err) {\n      outputDiv.innerHTML = `<div class=\"error\" style=\"color:red;\">${err}</div>`;\n      throw err;\n    }\n\n    function displayChart(vegaEmbed) {\n      vegaEmbed(outputDiv, spec, embedOpt)\n        .catch(err => showError(`Javascript Error: ${err.message}<br>This usually means there's a typo in your chart specification. See the javascript console for the full traceback.`));\n    }\n\n    if(typeof define === \"function\" && define.amd) {\n      requirejs.config({paths});\n      require([\"vega-embed\"], displayChart, err => showError(`Error loading script: ${err.message}`));\n    } else if (typeof vegaEmbed === \"function\") {\n      displayChart(vegaEmbed);\n    } else {\n      loadScript(\"vega\")\n        .then(() => loadScript(\"vega-lite\"))\n        .then(() => loadScript(\"vega-embed\"))\n        .catch(showError)\n        .then(() => displayChart(vegaEmbed));\n    }\n  })({\"config\": {\"view\": {\"continuousWidth\": 400, \"continuousHeight\": 300}}, \"data\": {\"name\": \"data-877e7884bfc9338f59c5b157d5699141\"}, \"mark\": \"line\", \"encoding\": {\"x\": {\"type\": \"quantitative\", \"field\": \"Z_score\"}, \"y\": {\"type\": \"quantitative\", \"field\": \"y\"}}, \"$schema\": \"https://vega.github.io/schema/vega-lite/v4.8.1.json\", \"datasets\": {\"data-877e7884bfc9338f59c5b157d5699141\": [{\"Z_score\": -5.0, \"y\": 1.4867195147342977e-06}, {\"Z_score\": -4.898989898989899, \"y\": 2.4510610429423306e-06}, {\"Z_score\": -4.797979797979798, \"y\": 3.999890372416626e-06}, {\"Z_score\": -4.696969696969697, \"y\": 6.461166392648795e-06}, {\"Z_score\": -4.595959595959596, \"y\": 1.0331006581321705e-05}, {\"Z_score\": -4.494949494949495, \"y\": 1.6350958895825313e-05}, {\"Z_score\": -4.393939393939394, \"y\": 2.561608119513828e-05}, {\"Z_score\": -4.292929292929293, \"y\": 3.972382238141482e-05}, {\"Z_score\": -4.191919191919192, \"y\": 6.0975903952989696e-05}, {\"Z_score\": -4.090909090909091, \"y\": 9.264763532301418e-05}, {\"Z_score\": -3.9898989898989896, \"y\": 0.000139341123134969}, {\"Z_score\": -3.8888888888888893, \"y\": 0.00020744030876792028}, {\"Z_score\": -3.787878787878788, \"y\": 0.0003056862254780555}, {\"Z_score\": -3.686868686868687, \"y\": 0.000445889724807599}, {\"Z_score\": -3.5858585858585856, \"y\": 0.000643795497926865}, {\"Z_score\": -3.4848484848484844, \"y\": 0.0009201047696229674}, {\"Z_score\": -3.383838383838384, \"y\": 0.001301653841648913}, {\"Z_score\": -3.282828282828283, \"y\": 0.0018227310960012768}, {\"Z_score\": -3.1818181818181817, \"y\": 0.0025264957781039343}, {\"Z_score\": -3.0808080808080813, \"y\": 0.003466437918975756}, {\"Z_score\": -2.9797979797979792, \"y\": 0.004707790763123343}, {\"Z_score\": -2.878787878787879, \"y\": 0.006328776428582762}, {\"Z_score\": -2.7777777777777777, \"y\": 0.008421534484118353}, {\"Z_score\": -2.6767676767676765, \"y\": 0.01109255483937488}, {\"Z_score\": -2.575757575757576, \"y\": 0.014462414797634179}, {\"Z_score\": -2.474747474747475, \"y\": 0.018664609934066448}, {\"Z_score\": -2.3737373737373737, \"y\": 0.023843274502042874}, {\"Z_score\": -2.2727272727272734, \"y\": 0.03014961391680061}, {\"Z_score\": -2.1717171717171713, \"y\": 0.037736923140639964}, {\"Z_score\": -2.070707070707071, \"y\": 0.046754142406705466}, {\"Z_score\": -1.9696969696969688, \"y\": 0.05733800512481302}, {\"Z_score\": -1.8686868686868685, \"y\": 0.0696039583923258}, {\"Z_score\": -1.7676767676767682, \"y\": 0.08363617721451712}, {\"Z_score\": -1.666666666666666, \"y\": 0.09947713879274879}, {\"Z_score\": -1.5656565656565657, \"y\": 0.11711735953274449}, {\"Z_score\": -1.4646464646464636, \"y\": 0.13648600918747064}, {\"Z_score\": -1.3636363636363633, \"y\": 0.15744318761884377}, {\"Z_score\": -1.262626262626263, \"y\": 0.17977466512481255}, {\"Z_score\": -1.1616161616161627, \"y\": 0.20318983550122374}, {\"Z_score\": -1.0606060606060606, \"y\": 0.22732350563136094}, {\"Z_score\": -0.9595959595959584, \"y\": 0.2517419469842395}, {\"Z_score\": -0.8585858585858581, \"y\": 0.2759533714701155}, {\"Z_score\": -0.7575757575757578, \"y\": 0.29942268327109967}, {\"Z_score\": -0.6565656565656575, \"y\": 0.32159002340940995}, {\"Z_score\": -0.5555555555555554, \"y\": 0.34189229416612926}, {\"Z_score\": -0.45454545454545503, \"y\": 0.35978655781262325}, {\"Z_score\": -0.3535353535353529, \"y\": 0.3747739794063902}, {\"Z_score\": -0.2525252525252526, \"y\": 0.3864228530895687}, {\"Z_score\": -0.15151515151515227, \"y\": 0.39438923400491877}, {\"Z_score\": -0.050505050505050164, \"y\": 0.39843380169134646}, {\"Z_score\": 0.050505050505050164, \"y\": 0.39843380169134646}, {\"Z_score\": 0.15151515151515227, \"y\": 0.39438923400491877}, {\"Z_score\": 0.2525252525252526, \"y\": 0.3864228530895687}, {\"Z_score\": 0.3535353535353529, \"y\": 0.3747739794063902}, {\"Z_score\": 0.45454545454545325, \"y\": 0.3597865578126235}, {\"Z_score\": 0.5555555555555554, \"y\": 0.34189229416612926}, {\"Z_score\": 0.6565656565656575, \"y\": 0.32159002340940995}, {\"Z_score\": 0.7575757575757578, \"y\": 0.29942268327109967}, {\"Z_score\": 0.8585858585858581, \"y\": 0.2759533714701155}, {\"Z_score\": 0.9595959595959584, \"y\": 0.2517419469842395}, {\"Z_score\": 1.0606060606060606, \"y\": 0.22732350563136094}, {\"Z_score\": 1.1616161616161627, \"y\": 0.20318983550122374}, {\"Z_score\": 1.262626262626263, \"y\": 0.17977466512481255}, {\"Z_score\": 1.3636363636363633, \"y\": 0.15744318761884377}, {\"Z_score\": 1.4646464646464636, \"y\": 0.13648600918747064}, {\"Z_score\": 1.5656565656565657, \"y\": 0.11711735953274449}, {\"Z_score\": 1.6666666666666679, \"y\": 0.0994771387927485}, {\"Z_score\": 1.7676767676767682, \"y\": 0.08363617721451712}, {\"Z_score\": 1.8686868686868685, \"y\": 0.0696039583923258}, {\"Z_score\": 1.9696969696969688, \"y\": 0.05733800512481302}, {\"Z_score\": 2.070707070707071, \"y\": 0.046754142406705466}, {\"Z_score\": 2.1717171717171713, \"y\": 0.037736923140639964}, {\"Z_score\": 2.2727272727272734, \"y\": 0.03014961391680061}, {\"Z_score\": 2.3737373737373737, \"y\": 0.023843274502042874}, {\"Z_score\": 2.474747474747474, \"y\": 0.018664609934066486}, {\"Z_score\": 2.5757575757575744, \"y\": 0.014462414797634241}, {\"Z_score\": 2.6767676767676765, \"y\": 0.01109255483937488}, {\"Z_score\": 2.7777777777777786, \"y\": 0.008421534484118335}, {\"Z_score\": 2.878787878787879, \"y\": 0.006328776428582762}, {\"Z_score\": 2.9797979797979792, \"y\": 0.004707790763123343}, {\"Z_score\": 3.0808080808080813, \"y\": 0.003466437918975756}, {\"Z_score\": 3.1818181818181817, \"y\": 0.0025264957781039343}, {\"Z_score\": 3.282828282828282, \"y\": 0.0018227310960012815}, {\"Z_score\": 3.383838383838384, \"y\": 0.001301653841648913}, {\"Z_score\": 3.4848484848484844, \"y\": 0.0009201047696229674}, {\"Z_score\": 3.5858585858585865, \"y\": 0.0006437954979268627}, {\"Z_score\": 3.686868686868687, \"y\": 0.000445889724807599}, {\"Z_score\": 3.787878787878787, \"y\": 0.0003056862254780566}, {\"Z_score\": 3.8888888888888893, \"y\": 0.00020744030876792028}, {\"Z_score\": 3.9898989898989896, \"y\": 0.000139341123134969}, {\"Z_score\": 4.09090909090909, \"y\": 9.26476353230145e-05}, {\"Z_score\": 4.191919191919192, \"y\": 6.0975903952989696e-05}, {\"Z_score\": 4.292929292929292, \"y\": 3.972382238141496e-05}, {\"Z_score\": 4.3939393939393945, \"y\": 2.5616081195138144e-05}, {\"Z_score\": 4.494949494949495, \"y\": 1.6350958895825313e-05}, {\"Z_score\": 4.595959595959595, \"y\": 1.0331006581321742e-05}, {\"Z_score\": 4.696969696969697, \"y\": 6.461166392648795e-06}, {\"Z_score\": 4.797979797979798, \"y\": 3.999890372416626e-06}, {\"Z_score\": 4.8989898989899, \"y\": 2.451061042942322e-06}, {\"Z_score\": 5.0, \"y\": 1.4867195147342977e-06}]}}, {\"mode\": \"vega-lite\"});\n</script>",
      "text/plain": [
       "alt.Chart(...)"
      ]
     },
     "metadata": {},
     "execution_count": 91
    }
   ],
   "source": [
    "X = np.linspace(10, 30, num=100)\n",
    "Z_score = (X - mu)/std\n",
    "y = [normal_dist(z, 0, 1) for z in Z_score]\n",
    "df = pd.DataFrame({'Z_score': Z_score, 'y':y})\n",
    "alt.Chart(df).mark_line().encode(\n",
    "    x='Z_score',\n",
    "    y='y:Q'\n",
    ")"
   ]
  },
  {
   "cell_type": "code",
   "execution_count": 92,
   "metadata": {},
   "outputs": [],
   "source": [
    "z_20 = (20 - mu)/std \n",
    "z_19 = (19 - mu)/std"
   ]
  },
  {
   "cell_type": "code",
   "execution_count": 93,
   "metadata": {},
   "outputs": [
    {
     "output_type": "execute_result",
     "data": {
      "text/plain": [
       "0.19146246127401312"
      ]
     },
     "metadata": {},
     "execution_count": 93
    }
   ],
   "source": [
    "norm(0, 1).cdf(z_20) - norm(0, 1).cdf(z_19) # Pr(19.5-mu/std <= Z <= 20-mu/std) = Pr(19.5 <= X <= 20)"
   ]
  },
  {
   "cell_type": "code",
   "execution_count": null,
   "metadata": {},
   "outputs": [],
   "source": [
    "## Why: Statistics Test"
   ]
  },
  {
   "source": [
    "# Statistics"
   ],
   "cell_type": "markdown",
   "metadata": {}
  },
  {
   "source": [
    "## Distributions & Inferential"
   ],
   "cell_type": "markdown",
   "metadata": {}
  },
  {
   "cell_type": "code",
   "execution_count": 95,
   "metadata": {},
   "outputs": [
    {
     "output_type": "display_data",
     "data": {
      "text/plain": "<Figure size 432x288 with 1 Axes>",
      "image/svg+xml": "<?xml version=\"1.0\" encoding=\"utf-8\" standalone=\"no\"?>\n<!DOCTYPE svg PUBLIC \"-//W3C//DTD SVG 1.1//EN\"\n  \"http://www.w3.org/Graphics/SVG/1.1/DTD/svg11.dtd\">\n<!-- Created with matplotlib (https://matplotlib.org/) -->\n<svg height=\"262.19625pt\" version=\"1.1\" viewBox=\"0 0 362.5625 262.19625\" width=\"362.5625pt\" xmlns=\"http://www.w3.org/2000/svg\" xmlns:xlink=\"http://www.w3.org/1999/xlink\">\n <defs>\n  <style type=\"text/css\">\n*{stroke-linecap:butt;stroke-linejoin:round;}\n  </style>\n </defs>\n <g id=\"figure_1\">\n  <g id=\"patch_1\">\n   <path d=\"M 0 262.19625 \nL 362.5625 262.19625 \nL 362.5625 0 \nL 0 0 \nz\n\" style=\"fill:none;\"/>\n  </g>\n  <g id=\"axes_1\">\n   <g id=\"patch_2\">\n    <path d=\"M 20.5625 224.64 \nL 355.3625 224.64 \nL 355.3625 7.2 \nL 20.5625 7.2 \nz\n\" style=\"fill:#ffffff;\"/>\n   </g>\n   <g id=\"patch_3\">\n    <path clip-path=\"url(#p044441faa9)\" d=\"M 35.780682 224.64 \nL 66.217045 224.64 \nL 66.217045 190.125714 \nL 35.780682 190.125714 \nz\n\" style=\"fill:#1f77b4;\"/>\n   </g>\n   <g id=\"patch_4\">\n    <path clip-path=\"url(#p044441faa9)\" d=\"M 66.217045 224.64 \nL 96.653409 224.64 \nL 96.653409 190.125714 \nL 66.217045 190.125714 \nz\n\" style=\"fill:#1f77b4;\"/>\n   </g>\n   <g id=\"patch_5\">\n    <path clip-path=\"url(#p044441faa9)\" d=\"M 96.653409 224.64 \nL 127.089773 224.64 \nL 127.089773 224.64 \nL 96.653409 224.64 \nz\n\" style=\"fill:#1f77b4;\"/>\n   </g>\n   <g id=\"patch_6\">\n    <path clip-path=\"url(#p044441faa9)\" d=\"M 127.089773 224.64 \nL 157.526136 224.64 \nL 157.526136 155.611429 \nL 127.089773 155.611429 \nz\n\" style=\"fill:#1f77b4;\"/>\n   </g>\n   <g id=\"patch_7\">\n    <path clip-path=\"url(#p044441faa9)\" d=\"M 157.526136 224.64 \nL 187.9625 224.64 \nL 187.9625 121.097143 \nL 157.526136 121.097143 \nz\n\" style=\"fill:#1f77b4;\"/>\n   </g>\n   <g id=\"patch_8\">\n    <path clip-path=\"url(#p044441faa9)\" d=\"M 187.9625 224.64 \nL 218.398864 224.64 \nL 218.398864 121.097143 \nL 187.9625 121.097143 \nz\n\" style=\"fill:#1f77b4;\"/>\n   </g>\n   <g id=\"patch_9\">\n    <path clip-path=\"url(#p044441faa9)\" d=\"M 218.398864 224.64 \nL 248.835227 224.64 \nL 248.835227 17.554286 \nL 218.398864 17.554286 \nz\n\" style=\"fill:#1f77b4;\"/>\n   </g>\n   <g id=\"patch_10\">\n    <path clip-path=\"url(#p044441faa9)\" d=\"M 248.835227 224.64 \nL 279.271591 224.64 \nL 279.271591 190.125714 \nL 248.835227 190.125714 \nz\n\" style=\"fill:#1f77b4;\"/>\n   </g>\n   <g id=\"patch_11\">\n    <path clip-path=\"url(#p044441faa9)\" d=\"M 279.271591 224.64 \nL 309.707955 224.64 \nL 309.707955 155.611429 \nL 279.271591 155.611429 \nz\n\" style=\"fill:#1f77b4;\"/>\n   </g>\n   <g id=\"patch_12\">\n    <path clip-path=\"url(#p044441faa9)\" d=\"M 309.707955 224.64 \nL 340.144318 224.64 \nL 340.144318 155.611429 \nL 309.707955 155.611429 \nz\n\" style=\"fill:#1f77b4;\"/>\n   </g>\n   <g id=\"matplotlib.axis_1\">\n    <g id=\"xtick_1\">\n     <g id=\"line2d_1\">\n      <defs>\n       <path d=\"M 0 0 \nL 0 3.5 \n\" id=\"mbf1678ef1e\" style=\"stroke:#000000;stroke-width:0.8;\"/>\n      </defs>\n      <g>\n       <use style=\"stroke:#000000;stroke-width:0.8;\" x=\"56.071591\" xlink:href=\"#mbf1678ef1e\" y=\"224.64\"/>\n      </g>\n     </g>\n     <g id=\"text_1\">\n      <!-- 4 -->\n      <defs>\n       <path d=\"M 37.796875 64.3125 \nL 12.890625 25.390625 \nL 37.796875 25.390625 \nz\nM 35.203125 72.90625 \nL 47.609375 72.90625 \nL 47.609375 25.390625 \nL 58.015625 25.390625 \nL 58.015625 17.1875 \nL 47.609375 17.1875 \nL 47.609375 0 \nL 37.796875 0 \nL 37.796875 17.1875 \nL 4.890625 17.1875 \nL 4.890625 26.703125 \nz\n\" id=\"DejaVuSans-52\"/>\n      </defs>\n      <g transform=\"translate(52.890341 239.238437)scale(0.1 -0.1)\">\n       <use xlink:href=\"#DejaVuSans-52\"/>\n      </g>\n     </g>\n    </g>\n    <g id=\"xtick_2\">\n     <g id=\"line2d_2\">\n      <g>\n       <use style=\"stroke:#000000;stroke-width:0.8;\" x=\"96.653409\" xlink:href=\"#mbf1678ef1e\" y=\"224.64\"/>\n      </g>\n     </g>\n     <g id=\"text_2\">\n      <!-- 6 -->\n      <defs>\n       <path d=\"M 33.015625 40.375 \nQ 26.375 40.375 22.484375 35.828125 \nQ 18.609375 31.296875 18.609375 23.390625 \nQ 18.609375 15.53125 22.484375 10.953125 \nQ 26.375 6.390625 33.015625 6.390625 \nQ 39.65625 6.390625 43.53125 10.953125 \nQ 47.40625 15.53125 47.40625 23.390625 \nQ 47.40625 31.296875 43.53125 35.828125 \nQ 39.65625 40.375 33.015625 40.375 \nz\nM 52.59375 71.296875 \nL 52.59375 62.3125 \nQ 48.875 64.0625 45.09375 64.984375 \nQ 41.3125 65.921875 37.59375 65.921875 \nQ 27.828125 65.921875 22.671875 59.328125 \nQ 17.53125 52.734375 16.796875 39.40625 \nQ 19.671875 43.65625 24.015625 45.921875 \nQ 28.375 48.1875 33.59375 48.1875 \nQ 44.578125 48.1875 50.953125 41.515625 \nQ 57.328125 34.859375 57.328125 23.390625 \nQ 57.328125 12.15625 50.6875 5.359375 \nQ 44.046875 -1.421875 33.015625 -1.421875 \nQ 20.359375 -1.421875 13.671875 8.265625 \nQ 6.984375 17.96875 6.984375 36.375 \nQ 6.984375 53.65625 15.1875 63.9375 \nQ 23.390625 74.21875 37.203125 74.21875 \nQ 40.921875 74.21875 44.703125 73.484375 \nQ 48.484375 72.75 52.59375 71.296875 \nz\n\" id=\"DejaVuSans-54\"/>\n      </defs>\n      <g transform=\"translate(93.472159 239.238437)scale(0.1 -0.1)\">\n       <use xlink:href=\"#DejaVuSans-54\"/>\n      </g>\n     </g>\n    </g>\n    <g id=\"xtick_3\">\n     <g id=\"line2d_3\">\n      <g>\n       <use style=\"stroke:#000000;stroke-width:0.8;\" x=\"137.235227\" xlink:href=\"#mbf1678ef1e\" y=\"224.64\"/>\n      </g>\n     </g>\n     <g id=\"text_3\">\n      <!-- 8 -->\n      <defs>\n       <path d=\"M 31.78125 34.625 \nQ 24.75 34.625 20.71875 30.859375 \nQ 16.703125 27.09375 16.703125 20.515625 \nQ 16.703125 13.921875 20.71875 10.15625 \nQ 24.75 6.390625 31.78125 6.390625 \nQ 38.8125 6.390625 42.859375 10.171875 \nQ 46.921875 13.96875 46.921875 20.515625 \nQ 46.921875 27.09375 42.890625 30.859375 \nQ 38.875 34.625 31.78125 34.625 \nz\nM 21.921875 38.8125 \nQ 15.578125 40.375 12.03125 44.71875 \nQ 8.5 49.078125 8.5 55.328125 \nQ 8.5 64.0625 14.71875 69.140625 \nQ 20.953125 74.21875 31.78125 74.21875 \nQ 42.671875 74.21875 48.875 69.140625 \nQ 55.078125 64.0625 55.078125 55.328125 \nQ 55.078125 49.078125 51.53125 44.71875 \nQ 48 40.375 41.703125 38.8125 \nQ 48.828125 37.15625 52.796875 32.3125 \nQ 56.78125 27.484375 56.78125 20.515625 \nQ 56.78125 9.90625 50.3125 4.234375 \nQ 43.84375 -1.421875 31.78125 -1.421875 \nQ 19.734375 -1.421875 13.25 4.234375 \nQ 6.78125 9.90625 6.78125 20.515625 \nQ 6.78125 27.484375 10.78125 32.3125 \nQ 14.796875 37.15625 21.921875 38.8125 \nz\nM 18.3125 54.390625 \nQ 18.3125 48.734375 21.84375 45.5625 \nQ 25.390625 42.390625 31.78125 42.390625 \nQ 38.140625 42.390625 41.71875 45.5625 \nQ 45.3125 48.734375 45.3125 54.390625 \nQ 45.3125 60.0625 41.71875 63.234375 \nQ 38.140625 66.40625 31.78125 66.40625 \nQ 25.390625 66.40625 21.84375 63.234375 \nQ 18.3125 60.0625 18.3125 54.390625 \nz\n\" id=\"DejaVuSans-56\"/>\n      </defs>\n      <g transform=\"translate(134.053977 239.238437)scale(0.1 -0.1)\">\n       <use xlink:href=\"#DejaVuSans-56\"/>\n      </g>\n     </g>\n    </g>\n    <g id=\"xtick_4\">\n     <g id=\"line2d_4\">\n      <g>\n       <use style=\"stroke:#000000;stroke-width:0.8;\" x=\"177.817045\" xlink:href=\"#mbf1678ef1e\" y=\"224.64\"/>\n      </g>\n     </g>\n     <g id=\"text_4\">\n      <!-- 10 -->\n      <defs>\n       <path d=\"M 12.40625 8.296875 \nL 28.515625 8.296875 \nL 28.515625 63.921875 \nL 10.984375 60.40625 \nL 10.984375 69.390625 \nL 28.421875 72.90625 \nL 38.28125 72.90625 \nL 38.28125 8.296875 \nL 54.390625 8.296875 \nL 54.390625 0 \nL 12.40625 0 \nz\n\" id=\"DejaVuSans-49\"/>\n       <path d=\"M 31.78125 66.40625 \nQ 24.171875 66.40625 20.328125 58.90625 \nQ 16.5 51.421875 16.5 36.375 \nQ 16.5 21.390625 20.328125 13.890625 \nQ 24.171875 6.390625 31.78125 6.390625 \nQ 39.453125 6.390625 43.28125 13.890625 \nQ 47.125 21.390625 47.125 36.375 \nQ 47.125 51.421875 43.28125 58.90625 \nQ 39.453125 66.40625 31.78125 66.40625 \nz\nM 31.78125 74.21875 \nQ 44.046875 74.21875 50.515625 64.515625 \nQ 56.984375 54.828125 56.984375 36.375 \nQ 56.984375 17.96875 50.515625 8.265625 \nQ 44.046875 -1.421875 31.78125 -1.421875 \nQ 19.53125 -1.421875 13.0625 8.265625 \nQ 6.59375 17.96875 6.59375 36.375 \nQ 6.59375 54.828125 13.0625 64.515625 \nQ 19.53125 74.21875 31.78125 74.21875 \nz\n\" id=\"DejaVuSans-48\"/>\n      </defs>\n      <g transform=\"translate(171.454545 239.238437)scale(0.1 -0.1)\">\n       <use xlink:href=\"#DejaVuSans-49\"/>\n       <use x=\"63.623047\" xlink:href=\"#DejaVuSans-48\"/>\n      </g>\n     </g>\n    </g>\n    <g id=\"xtick_5\">\n     <g id=\"line2d_5\">\n      <g>\n       <use style=\"stroke:#000000;stroke-width:0.8;\" x=\"218.398864\" xlink:href=\"#mbf1678ef1e\" y=\"224.64\"/>\n      </g>\n     </g>\n     <g id=\"text_5\">\n      <!-- 12 -->\n      <defs>\n       <path d=\"M 19.1875 8.296875 \nL 53.609375 8.296875 \nL 53.609375 0 \nL 7.328125 0 \nL 7.328125 8.296875 \nQ 12.9375 14.109375 22.625 23.890625 \nQ 32.328125 33.6875 34.8125 36.53125 \nQ 39.546875 41.84375 41.421875 45.53125 \nQ 43.3125 49.21875 43.3125 52.78125 \nQ 43.3125 58.59375 39.234375 62.25 \nQ 35.15625 65.921875 28.609375 65.921875 \nQ 23.96875 65.921875 18.8125 64.3125 \nQ 13.671875 62.703125 7.8125 59.421875 \nL 7.8125 69.390625 \nQ 13.765625 71.78125 18.9375 73 \nQ 24.125 74.21875 28.421875 74.21875 \nQ 39.75 74.21875 46.484375 68.546875 \nQ 53.21875 62.890625 53.21875 53.421875 \nQ 53.21875 48.921875 51.53125 44.890625 \nQ 49.859375 40.875 45.40625 35.40625 \nQ 44.1875 33.984375 37.640625 27.21875 \nQ 31.109375 20.453125 19.1875 8.296875 \nz\n\" id=\"DejaVuSans-50\"/>\n      </defs>\n      <g transform=\"translate(212.036364 239.238437)scale(0.1 -0.1)\">\n       <use xlink:href=\"#DejaVuSans-49\"/>\n       <use x=\"63.623047\" xlink:href=\"#DejaVuSans-50\"/>\n      </g>\n     </g>\n    </g>\n    <g id=\"xtick_6\">\n     <g id=\"line2d_6\">\n      <g>\n       <use style=\"stroke:#000000;stroke-width:0.8;\" x=\"258.980682\" xlink:href=\"#mbf1678ef1e\" y=\"224.64\"/>\n      </g>\n     </g>\n     <g id=\"text_6\">\n      <!-- 14 -->\n      <g transform=\"translate(252.618182 239.238437)scale(0.1 -0.1)\">\n       <use xlink:href=\"#DejaVuSans-49\"/>\n       <use x=\"63.623047\" xlink:href=\"#DejaVuSans-52\"/>\n      </g>\n     </g>\n    </g>\n    <g id=\"xtick_7\">\n     <g id=\"line2d_7\">\n      <g>\n       <use style=\"stroke:#000000;stroke-width:0.8;\" x=\"299.5625\" xlink:href=\"#mbf1678ef1e\" y=\"224.64\"/>\n      </g>\n     </g>\n     <g id=\"text_7\">\n      <!-- 16 -->\n      <g transform=\"translate(293.2 239.238437)scale(0.1 -0.1)\">\n       <use xlink:href=\"#DejaVuSans-49\"/>\n       <use x=\"63.623047\" xlink:href=\"#DejaVuSans-54\"/>\n      </g>\n     </g>\n    </g>\n    <g id=\"xtick_8\">\n     <g id=\"line2d_8\">\n      <g>\n       <use style=\"stroke:#000000;stroke-width:0.8;\" x=\"340.144318\" xlink:href=\"#mbf1678ef1e\" y=\"224.64\"/>\n      </g>\n     </g>\n     <g id=\"text_8\">\n      <!-- 18 -->\n      <g transform=\"translate(333.781818 239.238437)scale(0.1 -0.1)\">\n       <use xlink:href=\"#DejaVuSans-49\"/>\n       <use x=\"63.623047\" xlink:href=\"#DejaVuSans-56\"/>\n      </g>\n     </g>\n    </g>\n    <g id=\"text_9\">\n     <!-- Grades -->\n     <defs>\n      <path d=\"M 59.515625 10.40625 \nL 59.515625 29.984375 \nL 43.40625 29.984375 \nL 43.40625 38.09375 \nL 69.28125 38.09375 \nL 69.28125 6.78125 \nQ 63.578125 2.734375 56.6875 0.65625 \nQ 49.8125 -1.421875 42 -1.421875 \nQ 24.90625 -1.421875 15.25 8.5625 \nQ 5.609375 18.5625 5.609375 36.375 \nQ 5.609375 54.25 15.25 64.234375 \nQ 24.90625 74.21875 42 74.21875 \nQ 49.125 74.21875 55.546875 72.453125 \nQ 61.96875 70.703125 67.390625 67.28125 \nL 67.390625 56.78125 \nQ 61.921875 61.421875 55.765625 63.765625 \nQ 49.609375 66.109375 42.828125 66.109375 \nQ 29.4375 66.109375 22.71875 58.640625 \nQ 16.015625 51.171875 16.015625 36.375 \nQ 16.015625 21.625 22.71875 14.15625 \nQ 29.4375 6.6875 42.828125 6.6875 \nQ 48.046875 6.6875 52.140625 7.59375 \nQ 56.25 8.5 59.515625 10.40625 \nz\n\" id=\"DejaVuSans-71\"/>\n      <path d=\"M 41.109375 46.296875 \nQ 39.59375 47.171875 37.8125 47.578125 \nQ 36.03125 48 33.890625 48 \nQ 26.265625 48 22.1875 43.046875 \nQ 18.109375 38.09375 18.109375 28.8125 \nL 18.109375 0 \nL 9.078125 0 \nL 9.078125 54.6875 \nL 18.109375 54.6875 \nL 18.109375 46.1875 \nQ 20.953125 51.171875 25.484375 53.578125 \nQ 30.03125 56 36.53125 56 \nQ 37.453125 56 38.578125 55.875 \nQ 39.703125 55.765625 41.0625 55.515625 \nz\n\" id=\"DejaVuSans-114\"/>\n      <path d=\"M 34.28125 27.484375 \nQ 23.390625 27.484375 19.1875 25 \nQ 14.984375 22.515625 14.984375 16.5 \nQ 14.984375 11.71875 18.140625 8.90625 \nQ 21.296875 6.109375 26.703125 6.109375 \nQ 34.1875 6.109375 38.703125 11.40625 \nQ 43.21875 16.703125 43.21875 25.484375 \nL 43.21875 27.484375 \nz\nM 52.203125 31.203125 \nL 52.203125 0 \nL 43.21875 0 \nL 43.21875 8.296875 \nQ 40.140625 3.328125 35.546875 0.953125 \nQ 30.953125 -1.421875 24.3125 -1.421875 \nQ 15.921875 -1.421875 10.953125 3.296875 \nQ 6 8.015625 6 15.921875 \nQ 6 25.140625 12.171875 29.828125 \nQ 18.359375 34.515625 30.609375 34.515625 \nL 43.21875 34.515625 \nL 43.21875 35.40625 \nQ 43.21875 41.609375 39.140625 45 \nQ 35.0625 48.390625 27.6875 48.390625 \nQ 23 48.390625 18.546875 47.265625 \nQ 14.109375 46.140625 10.015625 43.890625 \nL 10.015625 52.203125 \nQ 14.9375 54.109375 19.578125 55.046875 \nQ 24.21875 56 28.609375 56 \nQ 40.484375 56 46.34375 49.84375 \nQ 52.203125 43.703125 52.203125 31.203125 \nz\n\" id=\"DejaVuSans-97\"/>\n      <path d=\"M 45.40625 46.390625 \nL 45.40625 75.984375 \nL 54.390625 75.984375 \nL 54.390625 0 \nL 45.40625 0 \nL 45.40625 8.203125 \nQ 42.578125 3.328125 38.25 0.953125 \nQ 33.9375 -1.421875 27.875 -1.421875 \nQ 17.96875 -1.421875 11.734375 6.484375 \nQ 5.515625 14.40625 5.515625 27.296875 \nQ 5.515625 40.1875 11.734375 48.09375 \nQ 17.96875 56 27.875 56 \nQ 33.9375 56 38.25 53.625 \nQ 42.578125 51.265625 45.40625 46.390625 \nz\nM 14.796875 27.296875 \nQ 14.796875 17.390625 18.875 11.75 \nQ 22.953125 6.109375 30.078125 6.109375 \nQ 37.203125 6.109375 41.296875 11.75 \nQ 45.40625 17.390625 45.40625 27.296875 \nQ 45.40625 37.203125 41.296875 42.84375 \nQ 37.203125 48.484375 30.078125 48.484375 \nQ 22.953125 48.484375 18.875 42.84375 \nQ 14.796875 37.203125 14.796875 27.296875 \nz\n\" id=\"DejaVuSans-100\"/>\n      <path d=\"M 56.203125 29.59375 \nL 56.203125 25.203125 \nL 14.890625 25.203125 \nQ 15.484375 15.921875 20.484375 11.0625 \nQ 25.484375 6.203125 34.421875 6.203125 \nQ 39.59375 6.203125 44.453125 7.46875 \nQ 49.3125 8.734375 54.109375 11.28125 \nL 54.109375 2.78125 \nQ 49.265625 0.734375 44.1875 -0.34375 \nQ 39.109375 -1.421875 33.890625 -1.421875 \nQ 20.796875 -1.421875 13.15625 6.1875 \nQ 5.515625 13.8125 5.515625 26.8125 \nQ 5.515625 40.234375 12.765625 48.109375 \nQ 20.015625 56 32.328125 56 \nQ 43.359375 56 49.78125 48.890625 \nQ 56.203125 41.796875 56.203125 29.59375 \nz\nM 47.21875 32.234375 \nQ 47.125 39.59375 43.09375 43.984375 \nQ 39.0625 48.390625 32.421875 48.390625 \nQ 24.90625 48.390625 20.390625 44.140625 \nQ 15.875 39.890625 15.1875 32.171875 \nz\n\" id=\"DejaVuSans-101\"/>\n      <path d=\"M 44.28125 53.078125 \nL 44.28125 44.578125 \nQ 40.484375 46.53125 36.375 47.5 \nQ 32.28125 48.484375 27.875 48.484375 \nQ 21.1875 48.484375 17.84375 46.4375 \nQ 14.5 44.390625 14.5 40.28125 \nQ 14.5 37.15625 16.890625 35.375 \nQ 19.28125 33.59375 26.515625 31.984375 \nL 29.59375 31.296875 \nQ 39.15625 29.25 43.1875 25.515625 \nQ 47.21875 21.78125 47.21875 15.09375 \nQ 47.21875 7.46875 41.1875 3.015625 \nQ 35.15625 -1.421875 24.609375 -1.421875 \nQ 20.21875 -1.421875 15.453125 -0.5625 \nQ 10.6875 0.296875 5.421875 2 \nL 5.421875 11.28125 \nQ 10.40625 8.6875 15.234375 7.390625 \nQ 20.0625 6.109375 24.8125 6.109375 \nQ 31.15625 6.109375 34.5625 8.28125 \nQ 37.984375 10.453125 37.984375 14.40625 \nQ 37.984375 18.0625 35.515625 20.015625 \nQ 33.0625 21.96875 24.703125 23.78125 \nL 21.578125 24.515625 \nQ 13.234375 26.265625 9.515625 29.90625 \nQ 5.8125 33.546875 5.8125 39.890625 \nQ 5.8125 47.609375 11.28125 51.796875 \nQ 16.75 56 26.8125 56 \nQ 31.78125 56 36.171875 55.265625 \nQ 40.578125 54.546875 44.28125 53.078125 \nz\n\" id=\"DejaVuSans-115\"/>\n     </defs>\n     <g transform=\"translate(170.113281 252.916562)scale(0.1 -0.1)\">\n      <use xlink:href=\"#DejaVuSans-71\"/>\n      <use x=\"77.490234\" xlink:href=\"#DejaVuSans-114\"/>\n      <use x=\"118.603516\" xlink:href=\"#DejaVuSans-97\"/>\n      <use x=\"179.882812\" xlink:href=\"#DejaVuSans-100\"/>\n      <use x=\"243.359375\" xlink:href=\"#DejaVuSans-101\"/>\n      <use x=\"304.882812\" xlink:href=\"#DejaVuSans-115\"/>\n     </g>\n    </g>\n   </g>\n   <g id=\"matplotlib.axis_2\">\n    <g id=\"ytick_1\">\n     <g id=\"line2d_9\">\n      <defs>\n       <path d=\"M 0 0 \nL -3.5 0 \n\" id=\"maba2f3a224\" style=\"stroke:#000000;stroke-width:0.8;\"/>\n      </defs>\n      <g>\n       <use style=\"stroke:#000000;stroke-width:0.8;\" x=\"20.5625\" xlink:href=\"#maba2f3a224\" y=\"224.64\"/>\n      </g>\n     </g>\n     <g id=\"text_10\">\n      <!-- 0 -->\n      <g transform=\"translate(7.2 228.439219)scale(0.1 -0.1)\">\n       <use xlink:href=\"#DejaVuSans-48\"/>\n      </g>\n     </g>\n    </g>\n    <g id=\"ytick_2\">\n     <g id=\"line2d_10\">\n      <g>\n       <use style=\"stroke:#000000;stroke-width:0.8;\" x=\"20.5625\" xlink:href=\"#maba2f3a224\" y=\"190.125714\"/>\n      </g>\n     </g>\n     <g id=\"text_11\">\n      <!-- 1 -->\n      <g transform=\"translate(7.2 193.924933)scale(0.1 -0.1)\">\n       <use xlink:href=\"#DejaVuSans-49\"/>\n      </g>\n     </g>\n    </g>\n    <g id=\"ytick_3\">\n     <g id=\"line2d_11\">\n      <g>\n       <use style=\"stroke:#000000;stroke-width:0.8;\" x=\"20.5625\" xlink:href=\"#maba2f3a224\" y=\"155.611429\"/>\n      </g>\n     </g>\n     <g id=\"text_12\">\n      <!-- 2 -->\n      <g transform=\"translate(7.2 159.410647)scale(0.1 -0.1)\">\n       <use xlink:href=\"#DejaVuSans-50\"/>\n      </g>\n     </g>\n    </g>\n    <g id=\"ytick_4\">\n     <g id=\"line2d_12\">\n      <g>\n       <use style=\"stroke:#000000;stroke-width:0.8;\" x=\"20.5625\" xlink:href=\"#maba2f3a224\" y=\"121.097143\"/>\n      </g>\n     </g>\n     <g id=\"text_13\">\n      <!-- 3 -->\n      <defs>\n       <path d=\"M 40.578125 39.3125 \nQ 47.65625 37.796875 51.625 33 \nQ 55.609375 28.21875 55.609375 21.1875 \nQ 55.609375 10.40625 48.1875 4.484375 \nQ 40.765625 -1.421875 27.09375 -1.421875 \nQ 22.515625 -1.421875 17.65625 -0.515625 \nQ 12.796875 0.390625 7.625 2.203125 \nL 7.625 11.71875 \nQ 11.71875 9.328125 16.59375 8.109375 \nQ 21.484375 6.890625 26.8125 6.890625 \nQ 36.078125 6.890625 40.9375 10.546875 \nQ 45.796875 14.203125 45.796875 21.1875 \nQ 45.796875 27.640625 41.28125 31.265625 \nQ 36.765625 34.90625 28.71875 34.90625 \nL 20.21875 34.90625 \nL 20.21875 43.015625 \nL 29.109375 43.015625 \nQ 36.375 43.015625 40.234375 45.921875 \nQ 44.09375 48.828125 44.09375 54.296875 \nQ 44.09375 59.90625 40.109375 62.90625 \nQ 36.140625 65.921875 28.71875 65.921875 \nQ 24.65625 65.921875 20.015625 65.03125 \nQ 15.375 64.15625 9.8125 62.3125 \nL 9.8125 71.09375 \nQ 15.4375 72.65625 20.34375 73.4375 \nQ 25.25 74.21875 29.59375 74.21875 \nQ 40.828125 74.21875 47.359375 69.109375 \nQ 53.90625 64.015625 53.90625 55.328125 \nQ 53.90625 49.265625 50.4375 45.09375 \nQ 46.96875 40.921875 40.578125 39.3125 \nz\n\" id=\"DejaVuSans-51\"/>\n      </defs>\n      <g transform=\"translate(7.2 124.896362)scale(0.1 -0.1)\">\n       <use xlink:href=\"#DejaVuSans-51\"/>\n      </g>\n     </g>\n    </g>\n    <g id=\"ytick_5\">\n     <g id=\"line2d_13\">\n      <g>\n       <use style=\"stroke:#000000;stroke-width:0.8;\" x=\"20.5625\" xlink:href=\"#maba2f3a224\" y=\"86.582857\"/>\n      </g>\n     </g>\n     <g id=\"text_14\">\n      <!-- 4 -->\n      <g transform=\"translate(7.2 90.382076)scale(0.1 -0.1)\">\n       <use xlink:href=\"#DejaVuSans-52\"/>\n      </g>\n     </g>\n    </g>\n    <g id=\"ytick_6\">\n     <g id=\"line2d_14\">\n      <g>\n       <use style=\"stroke:#000000;stroke-width:0.8;\" x=\"20.5625\" xlink:href=\"#maba2f3a224\" y=\"52.068571\"/>\n      </g>\n     </g>\n     <g id=\"text_15\">\n      <!-- 5 -->\n      <defs>\n       <path d=\"M 10.796875 72.90625 \nL 49.515625 72.90625 \nL 49.515625 64.59375 \nL 19.828125 64.59375 \nL 19.828125 46.734375 \nQ 21.96875 47.46875 24.109375 47.828125 \nQ 26.265625 48.1875 28.421875 48.1875 \nQ 40.625 48.1875 47.75 41.5 \nQ 54.890625 34.8125 54.890625 23.390625 \nQ 54.890625 11.625 47.5625 5.09375 \nQ 40.234375 -1.421875 26.90625 -1.421875 \nQ 22.3125 -1.421875 17.546875 -0.640625 \nQ 12.796875 0.140625 7.71875 1.703125 \nL 7.71875 11.625 \nQ 12.109375 9.234375 16.796875 8.0625 \nQ 21.484375 6.890625 26.703125 6.890625 \nQ 35.15625 6.890625 40.078125 11.328125 \nQ 45.015625 15.765625 45.015625 23.390625 \nQ 45.015625 31 40.078125 35.4375 \nQ 35.15625 39.890625 26.703125 39.890625 \nQ 22.75 39.890625 18.8125 39.015625 \nQ 14.890625 38.140625 10.796875 36.28125 \nz\n\" id=\"DejaVuSans-53\"/>\n      </defs>\n      <g transform=\"translate(7.2 55.86779)scale(0.1 -0.1)\">\n       <use xlink:href=\"#DejaVuSans-53\"/>\n      </g>\n     </g>\n    </g>\n    <g id=\"ytick_7\">\n     <g id=\"line2d_15\">\n      <g>\n       <use style=\"stroke:#000000;stroke-width:0.8;\" x=\"20.5625\" xlink:href=\"#maba2f3a224\" y=\"17.554286\"/>\n      </g>\n     </g>\n     <g id=\"text_16\">\n      <!-- 6 -->\n      <g transform=\"translate(7.2 21.353504)scale(0.1 -0.1)\">\n       <use xlink:href=\"#DejaVuSans-54\"/>\n      </g>\n     </g>\n    </g>\n   </g>\n   <g id=\"patch_13\">\n    <path d=\"M 20.5625 224.64 \nL 20.5625 7.2 \n\" style=\"fill:none;stroke:#000000;stroke-linecap:square;stroke-linejoin:miter;stroke-width:0.8;\"/>\n   </g>\n   <g id=\"patch_14\">\n    <path d=\"M 355.3625 224.64 \nL 355.3625 7.2 \n\" style=\"fill:none;stroke:#000000;stroke-linecap:square;stroke-linejoin:miter;stroke-width:0.8;\"/>\n   </g>\n   <g id=\"patch_15\">\n    <path d=\"M 20.5625 224.64 \nL 355.3625 224.64 \n\" style=\"fill:none;stroke:#000000;stroke-linecap:square;stroke-linejoin:miter;stroke-width:0.8;\"/>\n   </g>\n   <g id=\"patch_16\">\n    <path d=\"M 20.5625 7.2 \nL 355.3625 7.2 \n\" style=\"fill:none;stroke:#000000;stroke-linecap:square;stroke-linejoin:miter;stroke-width:0.8;\"/>\n   </g>\n  </g>\n </g>\n <defs>\n  <clipPath id=\"p044441faa9\">\n   <rect height=\"217.44\" width=\"334.8\" x=\"20.5625\" y=\"7.2\"/>\n  </clipPath>\n </defs>\n</svg>\n",
      "image/png": "[encoded data removed]"
     },
     "metadata": {
      "needs_background": "light"
     }
    }
   ],
   "source": [
    "## Distribution\n",
    "grades = np.array([5, 18, 13, 17, 8, 12, 11, 15, 8, 11, 12, 3, 11, 10, 9, 14, 13, 12, 16, 10, 13])\n",
    "plt.hist(grades)\n",
    "plt.xlabel('Grades')\n",
    "plt.show()"
   ]
  },
  {
   "cell_type": "code",
   "execution_count": 96,
   "metadata": {},
   "outputs": [
    {
     "output_type": "stream",
     "name": "stdout",
     "text": [
      "mean value: 11.476190476190476\nmedian: 12.0\nmin and max: 3 18\nstandard deviation: 3.580623085163326\n"
     ]
    }
   ],
   "source": [
    "def stats_info(x):\n",
    "    print('mean value:',np.mean(x))\n",
    "    print('median:',np.median(x))\n",
    "    print('min and max:', np.min(x), np.max(x))\n",
    "    print('standard deviation:',np.std(x))\n",
    "stats_info(grades)"
   ]
  },
  {
   "source": [
    "### Sample & Population\n",
    "\n",
    "* For most of the case, we rarely observe on the population, we estimate mean, std, etc. on sample "
   ],
   "cell_type": "markdown",
   "metadata": {}
  },
  {
   "cell_type": "code",
   "execution_count": 97,
   "metadata": {},
   "outputs": [
    {
     "output_type": "stream",
     "name": "stdout",
     "text": [
      "----random sample of k = 5----\nmean value: 14.8\nmedian: 14.0\nmin and max: 12 18\nstandard deviation: 2.3151673805580453\n"
     ]
    }
   ],
   "source": [
    "k = 5\n",
    "random_student = random.choices(grades, k = 5) # sample with replacement from the original sample (Bootstrap)\n",
    "print('{:-^30s}'.format('random sample of k = ' + str(k)))\n",
    "stats_info(random_student) # We can see that the stats it actually quite the approx."
   ]
  },
  {
   "source": [
    "* The power of statistics (+ probability - distribution) comes from the fact that we can \"estimate\" the probability of distribution (density, cumulative) of the population from those of the sample\n",
    "* The the probability of a subset of value: `Pr(X>0)` could be estimated (also, statistics test feasible)"
   ],
   "cell_type": "markdown",
   "metadata": {}
  },
  {
   "cell_type": "code",
   "execution_count": 99,
   "metadata": {},
   "outputs": [
    {
     "output_type": "display_data",
     "data": {
      "text/plain": "<Figure size 432x288 with 1 Axes>",
      "image/svg+xml": "<?xml version=\"1.0\" encoding=\"utf-8\" standalone=\"no\"?>\n<!DOCTYPE svg PUBLIC \"-//W3C//DTD SVG 1.1//EN\"\n  \"http://www.w3.org/Graphics/SVG/1.1/DTD/svg11.dtd\">\n<!-- Created with matplotlib (https://matplotlib.org/) -->\n<svg height=\"262.19625pt\" version=\"1.1\" viewBox=\"0 0 372.103125 262.19625\" width=\"372.103125pt\" xmlns=\"http://www.w3.org/2000/svg\" xmlns:xlink=\"http://www.w3.org/1999/xlink\">\n <defs>\n  <style type=\"text/css\">\n*{stroke-linecap:butt;stroke-linejoin:round;}\n  </style>\n </defs>\n <g id=\"figure_1\">\n  <g id=\"patch_1\">\n   <path d=\"M 0 262.19625 \nL 372.103125 262.19625 \nL 372.103125 0 \nL 0 0 \nz\n\" style=\"fill:none;\"/>\n  </g>\n  <g id=\"axes_1\">\n   <g id=\"patch_2\">\n    <path d=\"M 30.103125 224.64 \nL 364.903125 224.64 \nL 364.903125 7.2 \nL 30.103125 7.2 \nz\n\" style=\"fill:#ffffff;\"/>\n   </g>\n   <g id=\"patch_3\">\n    <path clip-path=\"url(#p9d7df18290)\" d=\"M 45.321307 224.64 \nL 51.470067 224.64 \nL 51.470067 224.64 \nL 45.321307 224.64 \nz\n\" style=\"fill:#1f77b4;\"/>\n   </g>\n   <g id=\"patch_4\">\n    <path clip-path=\"url(#p9d7df18290)\" d=\"M 60.693208 224.64 \nL 66.841968 224.64 \nL 66.841968 224.64 \nL 60.693208 224.64 \nz\n\" style=\"fill:#1f77b4;\"/>\n   </g>\n   <g id=\"patch_5\">\n    <path clip-path=\"url(#p9d7df18290)\" d=\"M 76.065108 224.64 \nL 82.213869 224.64 \nL 82.213869 224.64 \nL 76.065108 224.64 \nz\n\" style=\"fill:#1f77b4;\"/>\n   </g>\n   <g id=\"patch_6\">\n    <path clip-path=\"url(#p9d7df18290)\" d=\"M 91.437009 224.64 \nL 97.58577 224.64 \nL 97.58577 224.64 \nL 91.437009 224.64 \nz\n\" style=\"fill:#1f77b4;\"/>\n   </g>\n   <g id=\"patch_7\">\n    <path clip-path=\"url(#p9d7df18290)\" d=\"M 106.80891 224.64 \nL 112.95767 224.64 \nL 112.95767 224.64 \nL 106.80891 224.64 \nz\n\" style=\"fill:#1f77b4;\"/>\n   </g>\n   <g id=\"patch_8\">\n    <path clip-path=\"url(#p9d7df18290)\" d=\"M 122.180811 224.64 \nL 128.329571 224.64 \nL 128.329571 224.64 \nL 122.180811 224.64 \nz\n\" style=\"fill:#1f77b4;\"/>\n   </g>\n   <g id=\"patch_9\">\n    <path clip-path=\"url(#p9d7df18290)\" d=\"M 137.552712 224.64 \nL 143.701472 224.64 \nL 143.701472 155.611429 \nL 137.552712 155.611429 \nz\n\" style=\"fill:#1f77b4;\"/>\n   </g>\n   <g id=\"patch_10\">\n    <path clip-path=\"url(#p9d7df18290)\" d=\"M 152.924613 224.64 \nL 159.073373 224.64 \nL 159.073373 224.64 \nL 152.924613 224.64 \nz\n\" style=\"fill:#1f77b4;\"/>\n   </g>\n   <g id=\"patch_11\">\n    <path clip-path=\"url(#p9d7df18290)\" d=\"M 168.296513 224.64 \nL 174.445274 224.64 \nL 174.445274 155.611429 \nL 168.296513 155.611429 \nz\n\" style=\"fill:#1f77b4;\"/>\n   </g>\n   <g id=\"patch_12\">\n    <path clip-path=\"url(#p9d7df18290)\" d=\"M 183.668414 224.64 \nL 189.817175 224.64 \nL 189.817175 155.611429 \nL 183.668414 155.611429 \nz\n\" style=\"fill:#1f77b4;\"/>\n   </g>\n   <g id=\"patch_13\">\n    <path clip-path=\"url(#p9d7df18290)\" d=\"M 199.040315 224.64 \nL 205.189075 224.64 \nL 205.189075 155.611429 \nL 199.040315 155.611429 \nz\n\" style=\"fill:#1f77b4;\"/>\n   </g>\n   <g id=\"patch_14\">\n    <path clip-path=\"url(#p9d7df18290)\" d=\"M 214.412216 224.64 \nL 220.560976 224.64 \nL 220.560976 155.611429 \nL 214.412216 155.611429 \nz\n\" style=\"fill:#1f77b4;\"/>\n   </g>\n   <g id=\"patch_15\">\n    <path clip-path=\"url(#p9d7df18290)\" d=\"M 229.784117 224.64 \nL 235.932877 224.64 \nL 235.932877 155.611429 \nL 229.784117 155.611429 \nz\n\" style=\"fill:#1f77b4;\"/>\n   </g>\n   <g id=\"patch_16\">\n    <path clip-path=\"url(#p9d7df18290)\" d=\"M 245.156018 224.64 \nL 251.304778 224.64 \nL 251.304778 155.611429 \nL 245.156018 155.611429 \nz\n\" style=\"fill:#1f77b4;\"/>\n   </g>\n   <g id=\"patch_17\">\n    <path clip-path=\"url(#p9d7df18290)\" d=\"M 260.527918 224.64 \nL 266.676679 224.64 \nL 266.676679 155.611429 \nL 260.527918 155.611429 \nz\n\" style=\"fill:#1f77b4;\"/>\n   </g>\n   <g id=\"patch_18\">\n    <path clip-path=\"url(#p9d7df18290)\" d=\"M 275.899819 224.64 \nL 282.04858 224.64 \nL 282.04858 224.64 \nL 275.899819 224.64 \nz\n\" style=\"fill:#1f77b4;\"/>\n   </g>\n   <g id=\"patch_19\">\n    <path clip-path=\"url(#p9d7df18290)\" d=\"M 291.27172 224.64 \nL 297.42048 224.64 \nL 297.42048 224.64 \nL 291.27172 224.64 \nz\n\" style=\"fill:#1f77b4;\"/>\n   </g>\n   <g id=\"patch_20\">\n    <path clip-path=\"url(#p9d7df18290)\" d=\"M 306.643621 224.64 \nL 312.792381 224.64 \nL 312.792381 86.582857 \nL 306.643621 86.582857 \nz\n\" style=\"fill:#1f77b4;\"/>\n   </g>\n   <g id=\"patch_21\">\n    <path clip-path=\"url(#p9d7df18290)\" d=\"M 322.015522 224.64 \nL 328.164282 224.64 \nL 328.164282 224.64 \nL 322.015522 224.64 \nz\n\" style=\"fill:#1f77b4;\"/>\n   </g>\n   <g id=\"patch_22\">\n    <path clip-path=\"url(#p9d7df18290)\" d=\"M 337.387423 224.64 \nL 343.536183 224.64 \nL 343.536183 224.64 \nL 337.387423 224.64 \nz\n\" style=\"fill:#1f77b4;\"/>\n   </g>\n   <g id=\"patch_23\">\n    <path clip-path=\"url(#p9d7df18290)\" d=\"M 51.470067 224.64 \nL 57.618827 224.64 \nL 57.618827 224.64 \nL 51.470067 224.64 \nz\n\" style=\"fill:#ff7f0e;\"/>\n   </g>\n   <g id=\"patch_24\">\n    <path clip-path=\"url(#p9d7df18290)\" d=\"M 66.841968 224.64 \nL 72.990728 224.64 \nL 72.990728 224.64 \nL 66.841968 224.64 \nz\n\" style=\"fill:#ff7f0e;\"/>\n   </g>\n   <g id=\"patch_25\">\n    <path clip-path=\"url(#p9d7df18290)\" d=\"M 82.213869 224.64 \nL 88.362629 224.64 \nL 88.362629 224.64 \nL 82.213869 224.64 \nz\n\" style=\"fill:#ff7f0e;\"/>\n   </g>\n   <g id=\"patch_26\">\n    <path clip-path=\"url(#p9d7df18290)\" d=\"M 97.58577 224.64 \nL 103.73453 224.64 \nL 103.73453 155.611429 \nL 97.58577 155.611429 \nz\n\" style=\"fill:#ff7f0e;\"/>\n   </g>\n   <g id=\"patch_27\">\n    <path clip-path=\"url(#p9d7df18290)\" d=\"M 112.95767 224.64 \nL 119.106431 224.64 \nL 119.106431 224.64 \nL 112.95767 224.64 \nz\n\" style=\"fill:#ff7f0e;\"/>\n   </g>\n   <g id=\"patch_28\">\n    <path clip-path=\"url(#p9d7df18290)\" d=\"M 128.329571 224.64 \nL 134.478332 224.64 \nL 134.478332 155.611429 \nL 128.329571 155.611429 \nz\n\" style=\"fill:#ff7f0e;\"/>\n   </g>\n   <g id=\"patch_29\">\n    <path clip-path=\"url(#p9d7df18290)\" d=\"M 143.701472 224.64 \nL 149.850232 224.64 \nL 149.850232 224.64 \nL 143.701472 224.64 \nz\n\" style=\"fill:#ff7f0e;\"/>\n   </g>\n   <g id=\"patch_30\">\n    <path clip-path=\"url(#p9d7df18290)\" d=\"M 159.073373 224.64 \nL 165.222133 224.64 \nL 165.222133 224.64 \nL 159.073373 224.64 \nz\n\" style=\"fill:#ff7f0e;\"/>\n   </g>\n   <g id=\"patch_31\">\n    <path clip-path=\"url(#p9d7df18290)\" d=\"M 174.445274 224.64 \nL 180.594034 224.64 \nL 180.594034 86.582857 \nL 174.445274 86.582857 \nz\n\" style=\"fill:#ff7f0e;\"/>\n   </g>\n   <g id=\"patch_32\">\n    <path clip-path=\"url(#p9d7df18290)\" d=\"M 189.817175 224.64 \nL 195.965935 224.64 \nL 195.965935 155.611429 \nL 189.817175 155.611429 \nz\n\" style=\"fill:#ff7f0e;\"/>\n   </g>\n   <g id=\"patch_33\">\n    <path clip-path=\"url(#p9d7df18290)\" d=\"M 205.189075 224.64 \nL 211.337836 224.64 \nL 211.337836 86.582857 \nL 205.189075 86.582857 \nz\n\" style=\"fill:#ff7f0e;\"/>\n   </g>\n   <g id=\"patch_34\">\n    <path clip-path=\"url(#p9d7df18290)\" d=\"M 220.560976 224.64 \nL 226.709737 224.64 \nL 226.709737 17.554286 \nL 220.560976 17.554286 \nz\n\" style=\"fill:#ff7f0e;\"/>\n   </g>\n   <g id=\"patch_35\">\n    <path clip-path=\"url(#p9d7df18290)\" d=\"M 235.932877 224.64 \nL 242.081637 224.64 \nL 242.081637 17.554286 \nL 235.932877 17.554286 \nz\n\" style=\"fill:#ff7f0e;\"/>\n   </g>\n   <g id=\"patch_36\">\n    <path clip-path=\"url(#p9d7df18290)\" d=\"M 251.304778 224.64 \nL 257.453538 224.64 \nL 257.453538 17.554286 \nL 251.304778 17.554286 \nz\n\" style=\"fill:#ff7f0e;\"/>\n   </g>\n   <g id=\"patch_37\">\n    <path clip-path=\"url(#p9d7df18290)\" d=\"M 266.676679 224.64 \nL 272.825439 224.64 \nL 272.825439 155.611429 \nL 266.676679 155.611429 \nz\n\" style=\"fill:#ff7f0e;\"/>\n   </g>\n   <g id=\"patch_38\">\n    <path clip-path=\"url(#p9d7df18290)\" d=\"M 282.04858 224.64 \nL 288.19734 224.64 \nL 288.19734 155.611429 \nL 282.04858 155.611429 \nz\n\" style=\"fill:#ff7f0e;\"/>\n   </g>\n   <g id=\"patch_39\">\n    <path clip-path=\"url(#p9d7df18290)\" d=\"M 297.42048 224.64 \nL 303.569241 224.64 \nL 303.569241 155.611429 \nL 297.42048 155.611429 \nz\n\" style=\"fill:#ff7f0e;\"/>\n   </g>\n   <g id=\"patch_40\">\n    <path clip-path=\"url(#p9d7df18290)\" d=\"M 312.792381 224.64 \nL 318.941142 224.64 \nL 318.941142 155.611429 \nL 312.792381 155.611429 \nz\n\" style=\"fill:#ff7f0e;\"/>\n   </g>\n   <g id=\"patch_41\">\n    <path clip-path=\"url(#p9d7df18290)\" d=\"M 328.164282 224.64 \nL 334.313042 224.64 \nL 334.313042 155.611429 \nL 328.164282 155.611429 \nz\n\" style=\"fill:#ff7f0e;\"/>\n   </g>\n   <g id=\"patch_42\">\n    <path clip-path=\"url(#p9d7df18290)\" d=\"M 343.536183 224.64 \nL 349.684943 224.64 \nL 349.684943 224.64 \nL 343.536183 224.64 \nz\n\" style=\"fill:#ff7f0e;\"/>\n   </g>\n   <g id=\"matplotlib.axis_1\">\n    <g id=\"xtick_1\">\n     <g id=\"line2d_1\">\n      <defs>\n       <path d=\"M 0 0 \nL 0 3.5 \n\" id=\"m6e55d092c8\" style=\"stroke:#000000;stroke-width:0.8;\"/>\n      </defs>\n      <g>\n       <use style=\"stroke:#000000;stroke-width:0.8;\" x=\"43.784117\" xlink:href=\"#m6e55d092c8\" y=\"224.64\"/>\n      </g>\n     </g>\n     <g id=\"text_1\">\n      <!-- 0.0 -->\n      <defs>\n       <path d=\"M 31.78125 66.40625 \nQ 24.171875 66.40625 20.328125 58.90625 \nQ 16.5 51.421875 16.5 36.375 \nQ 16.5 21.390625 20.328125 13.890625 \nQ 24.171875 6.390625 31.78125 6.390625 \nQ 39.453125 6.390625 43.28125 13.890625 \nQ 47.125 21.390625 47.125 36.375 \nQ 47.125 51.421875 43.28125 58.90625 \nQ 39.453125 66.40625 31.78125 66.40625 \nz\nM 31.78125 74.21875 \nQ 44.046875 74.21875 50.515625 64.515625 \nQ 56.984375 54.828125 56.984375 36.375 \nQ 56.984375 17.96875 50.515625 8.265625 \nQ 44.046875 -1.421875 31.78125 -1.421875 \nQ 19.53125 -1.421875 13.0625 8.265625 \nQ 6.59375 17.96875 6.59375 36.375 \nQ 6.59375 54.828125 13.0625 64.515625 \nQ 19.53125 74.21875 31.78125 74.21875 \nz\n\" id=\"DejaVuSans-48\"/>\n       <path d=\"M 10.6875 12.40625 \nL 21 12.40625 \nL 21 0 \nL 10.6875 0 \nz\n\" id=\"DejaVuSans-46\"/>\n      </defs>\n      <g transform=\"translate(35.832554 239.238437)scale(0.1 -0.1)\">\n       <use xlink:href=\"#DejaVuSans-48\"/>\n       <use x=\"63.623047\" xlink:href=\"#DejaVuSans-46\"/>\n       <use x=\"95.410156\" xlink:href=\"#DejaVuSans-48\"/>\n      </g>\n     </g>\n    </g>\n    <g id=\"xtick_2\">\n     <g id=\"line2d_2\">\n      <g>\n       <use style=\"stroke:#000000;stroke-width:0.8;\" x=\"82.213869\" xlink:href=\"#m6e55d092c8\" y=\"224.64\"/>\n      </g>\n     </g>\n     <g id=\"text_2\">\n      <!-- 2.5 -->\n      <defs>\n       <path d=\"M 19.1875 8.296875 \nL 53.609375 8.296875 \nL 53.609375 0 \nL 7.328125 0 \nL 7.328125 8.296875 \nQ 12.9375 14.109375 22.625 23.890625 \nQ 32.328125 33.6875 34.8125 36.53125 \nQ 39.546875 41.84375 41.421875 45.53125 \nQ 43.3125 49.21875 43.3125 52.78125 \nQ 43.3125 58.59375 39.234375 62.25 \nQ 35.15625 65.921875 28.609375 65.921875 \nQ 23.96875 65.921875 18.8125 64.3125 \nQ 13.671875 62.703125 7.8125 59.421875 \nL 7.8125 69.390625 \nQ 13.765625 71.78125 18.9375 73 \nQ 24.125 74.21875 28.421875 74.21875 \nQ 39.75 74.21875 46.484375 68.546875 \nQ 53.21875 62.890625 53.21875 53.421875 \nQ 53.21875 48.921875 51.53125 44.890625 \nQ 49.859375 40.875 45.40625 35.40625 \nQ 44.1875 33.984375 37.640625 27.21875 \nQ 31.109375 20.453125 19.1875 8.296875 \nz\n\" id=\"DejaVuSans-50\"/>\n       <path d=\"M 10.796875 72.90625 \nL 49.515625 72.90625 \nL 49.515625 64.59375 \nL 19.828125 64.59375 \nL 19.828125 46.734375 \nQ 21.96875 47.46875 24.109375 47.828125 \nQ 26.265625 48.1875 28.421875 48.1875 \nQ 40.625 48.1875 47.75 41.5 \nQ 54.890625 34.8125 54.890625 23.390625 \nQ 54.890625 11.625 47.5625 5.09375 \nQ 40.234375 -1.421875 26.90625 -1.421875 \nQ 22.3125 -1.421875 17.546875 -0.640625 \nQ 12.796875 0.140625 7.71875 1.703125 \nL 7.71875 11.625 \nQ 12.109375 9.234375 16.796875 8.0625 \nQ 21.484375 6.890625 26.703125 6.890625 \nQ 35.15625 6.890625 40.078125 11.328125 \nQ 45.015625 15.765625 45.015625 23.390625 \nQ 45.015625 31 40.078125 35.4375 \nQ 35.15625 39.890625 26.703125 39.890625 \nQ 22.75 39.890625 18.8125 39.015625 \nQ 14.890625 38.140625 10.796875 36.28125 \nz\n\" id=\"DejaVuSans-53\"/>\n      </defs>\n      <g transform=\"translate(74.262306 239.238437)scale(0.1 -0.1)\">\n       <use xlink:href=\"#DejaVuSans-50\"/>\n       <use x=\"63.623047\" xlink:href=\"#DejaVuSans-46\"/>\n       <use x=\"95.410156\" xlink:href=\"#DejaVuSans-53\"/>\n      </g>\n     </g>\n    </g>\n    <g id=\"xtick_3\">\n     <g id=\"line2d_3\">\n      <g>\n       <use style=\"stroke:#000000;stroke-width:0.8;\" x=\"120.643621\" xlink:href=\"#m6e55d092c8\" y=\"224.64\"/>\n      </g>\n     </g>\n     <g id=\"text_3\">\n      <!-- 5.0 -->\n      <g transform=\"translate(112.692058 239.238437)scale(0.1 -0.1)\">\n       <use xlink:href=\"#DejaVuSans-53\"/>\n       <use x=\"63.623047\" xlink:href=\"#DejaVuSans-46\"/>\n       <use x=\"95.410156\" xlink:href=\"#DejaVuSans-48\"/>\n      </g>\n     </g>\n    </g>\n    <g id=\"xtick_4\">\n     <g id=\"line2d_4\">\n      <g>\n       <use style=\"stroke:#000000;stroke-width:0.8;\" x=\"159.073373\" xlink:href=\"#m6e55d092c8\" y=\"224.64\"/>\n      </g>\n     </g>\n     <g id=\"text_4\">\n      <!-- 7.5 -->\n      <defs>\n       <path d=\"M 8.203125 72.90625 \nL 55.078125 72.90625 \nL 55.078125 68.703125 \nL 28.609375 0 \nL 18.3125 0 \nL 43.21875 64.59375 \nL 8.203125 64.59375 \nz\n\" id=\"DejaVuSans-55\"/>\n      </defs>\n      <g transform=\"translate(151.12181 239.238437)scale(0.1 -0.1)\">\n       <use xlink:href=\"#DejaVuSans-55\"/>\n       <use x=\"63.623047\" xlink:href=\"#DejaVuSans-46\"/>\n       <use x=\"95.410156\" xlink:href=\"#DejaVuSans-53\"/>\n      </g>\n     </g>\n    </g>\n    <g id=\"xtick_5\">\n     <g id=\"line2d_5\">\n      <g>\n       <use style=\"stroke:#000000;stroke-width:0.8;\" x=\"197.503125\" xlink:href=\"#m6e55d092c8\" y=\"224.64\"/>\n      </g>\n     </g>\n     <g id=\"text_5\">\n      <!-- 10.0 -->\n      <defs>\n       <path d=\"M 12.40625 8.296875 \nL 28.515625 8.296875 \nL 28.515625 63.921875 \nL 10.984375 60.40625 \nL 10.984375 69.390625 \nL 28.421875 72.90625 \nL 38.28125 72.90625 \nL 38.28125 8.296875 \nL 54.390625 8.296875 \nL 54.390625 0 \nL 12.40625 0 \nz\n\" id=\"DejaVuSans-49\"/>\n      </defs>\n      <g transform=\"translate(186.370313 239.238437)scale(0.1 -0.1)\">\n       <use xlink:href=\"#DejaVuSans-49\"/>\n       <use x=\"63.623047\" xlink:href=\"#DejaVuSans-48\"/>\n       <use x=\"127.246094\" xlink:href=\"#DejaVuSans-46\"/>\n       <use x=\"159.033203\" xlink:href=\"#DejaVuSans-48\"/>\n      </g>\n     </g>\n    </g>\n    <g id=\"xtick_6\">\n     <g id=\"line2d_6\">\n      <g>\n       <use style=\"stroke:#000000;stroke-width:0.8;\" x=\"235.932877\" xlink:href=\"#m6e55d092c8\" y=\"224.64\"/>\n      </g>\n     </g>\n     <g id=\"text_6\">\n      <!-- 12.5 -->\n      <g transform=\"translate(224.800065 239.238437)scale(0.1 -0.1)\">\n       <use xlink:href=\"#DejaVuSans-49\"/>\n       <use x=\"63.623047\" xlink:href=\"#DejaVuSans-50\"/>\n       <use x=\"127.246094\" xlink:href=\"#DejaVuSans-46\"/>\n       <use x=\"159.033203\" xlink:href=\"#DejaVuSans-53\"/>\n      </g>\n     </g>\n    </g>\n    <g id=\"xtick_7\">\n     <g id=\"line2d_7\">\n      <g>\n       <use style=\"stroke:#000000;stroke-width:0.8;\" x=\"274.362629\" xlink:href=\"#m6e55d092c8\" y=\"224.64\"/>\n      </g>\n     </g>\n     <g id=\"text_7\">\n      <!-- 15.0 -->\n      <g transform=\"translate(263.229817 239.238437)scale(0.1 -0.1)\">\n       <use xlink:href=\"#DejaVuSans-49\"/>\n       <use x=\"63.623047\" xlink:href=\"#DejaVuSans-53\"/>\n       <use x=\"127.246094\" xlink:href=\"#DejaVuSans-46\"/>\n       <use x=\"159.033203\" xlink:href=\"#DejaVuSans-48\"/>\n      </g>\n     </g>\n    </g>\n    <g id=\"xtick_8\">\n     <g id=\"line2d_8\">\n      <g>\n       <use style=\"stroke:#000000;stroke-width:0.8;\" x=\"312.792381\" xlink:href=\"#m6e55d092c8\" y=\"224.64\"/>\n      </g>\n     </g>\n     <g id=\"text_8\">\n      <!-- 17.5 -->\n      <g transform=\"translate(301.659569 239.238437)scale(0.1 -0.1)\">\n       <use xlink:href=\"#DejaVuSans-49\"/>\n       <use x=\"63.623047\" xlink:href=\"#DejaVuSans-55\"/>\n       <use x=\"127.246094\" xlink:href=\"#DejaVuSans-46\"/>\n       <use x=\"159.033203\" xlink:href=\"#DejaVuSans-53\"/>\n      </g>\n     </g>\n    </g>\n    <g id=\"xtick_9\">\n     <g id=\"line2d_9\">\n      <g>\n       <use style=\"stroke:#000000;stroke-width:0.8;\" x=\"351.222133\" xlink:href=\"#m6e55d092c8\" y=\"224.64\"/>\n      </g>\n     </g>\n     <g id=\"text_9\">\n      <!-- 20.0 -->\n      <g transform=\"translate(340.089321 239.238437)scale(0.1 -0.1)\">\n       <use xlink:href=\"#DejaVuSans-50\"/>\n       <use x=\"63.623047\" xlink:href=\"#DejaVuSans-48\"/>\n       <use x=\"127.246094\" xlink:href=\"#DejaVuSans-46\"/>\n       <use x=\"159.033203\" xlink:href=\"#DejaVuSans-48\"/>\n      </g>\n     </g>\n    </g>\n    <g id=\"text_10\">\n     <!-- Grades -->\n     <defs>\n      <path d=\"M 59.515625 10.40625 \nL 59.515625 29.984375 \nL 43.40625 29.984375 \nL 43.40625 38.09375 \nL 69.28125 38.09375 \nL 69.28125 6.78125 \nQ 63.578125 2.734375 56.6875 0.65625 \nQ 49.8125 -1.421875 42 -1.421875 \nQ 24.90625 -1.421875 15.25 8.5625 \nQ 5.609375 18.5625 5.609375 36.375 \nQ 5.609375 54.25 15.25 64.234375 \nQ 24.90625 74.21875 42 74.21875 \nQ 49.125 74.21875 55.546875 72.453125 \nQ 61.96875 70.703125 67.390625 67.28125 \nL 67.390625 56.78125 \nQ 61.921875 61.421875 55.765625 63.765625 \nQ 49.609375 66.109375 42.828125 66.109375 \nQ 29.4375 66.109375 22.71875 58.640625 \nQ 16.015625 51.171875 16.015625 36.375 \nQ 16.015625 21.625 22.71875 14.15625 \nQ 29.4375 6.6875 42.828125 6.6875 \nQ 48.046875 6.6875 52.140625 7.59375 \nQ 56.25 8.5 59.515625 10.40625 \nz\n\" id=\"DejaVuSans-71\"/>\n      <path d=\"M 41.109375 46.296875 \nQ 39.59375 47.171875 37.8125 47.578125 \nQ 36.03125 48 33.890625 48 \nQ 26.265625 48 22.1875 43.046875 \nQ 18.109375 38.09375 18.109375 28.8125 \nL 18.109375 0 \nL 9.078125 0 \nL 9.078125 54.6875 \nL 18.109375 54.6875 \nL 18.109375 46.1875 \nQ 20.953125 51.171875 25.484375 53.578125 \nQ 30.03125 56 36.53125 56 \nQ 37.453125 56 38.578125 55.875 \nQ 39.703125 55.765625 41.0625 55.515625 \nz\n\" id=\"DejaVuSans-114\"/>\n      <path d=\"M 34.28125 27.484375 \nQ 23.390625 27.484375 19.1875 25 \nQ 14.984375 22.515625 14.984375 16.5 \nQ 14.984375 11.71875 18.140625 8.90625 \nQ 21.296875 6.109375 26.703125 6.109375 \nQ 34.1875 6.109375 38.703125 11.40625 \nQ 43.21875 16.703125 43.21875 25.484375 \nL 43.21875 27.484375 \nz\nM 52.203125 31.203125 \nL 52.203125 0 \nL 43.21875 0 \nL 43.21875 8.296875 \nQ 40.140625 3.328125 35.546875 0.953125 \nQ 30.953125 -1.421875 24.3125 -1.421875 \nQ 15.921875 -1.421875 10.953125 3.296875 \nQ 6 8.015625 6 15.921875 \nQ 6 25.140625 12.171875 29.828125 \nQ 18.359375 34.515625 30.609375 34.515625 \nL 43.21875 34.515625 \nL 43.21875 35.40625 \nQ 43.21875 41.609375 39.140625 45 \nQ 35.0625 48.390625 27.6875 48.390625 \nQ 23 48.390625 18.546875 47.265625 \nQ 14.109375 46.140625 10.015625 43.890625 \nL 10.015625 52.203125 \nQ 14.9375 54.109375 19.578125 55.046875 \nQ 24.21875 56 28.609375 56 \nQ 40.484375 56 46.34375 49.84375 \nQ 52.203125 43.703125 52.203125 31.203125 \nz\n\" id=\"DejaVuSans-97\"/>\n      <path d=\"M 45.40625 46.390625 \nL 45.40625 75.984375 \nL 54.390625 75.984375 \nL 54.390625 0 \nL 45.40625 0 \nL 45.40625 8.203125 \nQ 42.578125 3.328125 38.25 0.953125 \nQ 33.9375 -1.421875 27.875 -1.421875 \nQ 17.96875 -1.421875 11.734375 6.484375 \nQ 5.515625 14.40625 5.515625 27.296875 \nQ 5.515625 40.1875 11.734375 48.09375 \nQ 17.96875 56 27.875 56 \nQ 33.9375 56 38.25 53.625 \nQ 42.578125 51.265625 45.40625 46.390625 \nz\nM 14.796875 27.296875 \nQ 14.796875 17.390625 18.875 11.75 \nQ 22.953125 6.109375 30.078125 6.109375 \nQ 37.203125 6.109375 41.296875 11.75 \nQ 45.40625 17.390625 45.40625 27.296875 \nQ 45.40625 37.203125 41.296875 42.84375 \nQ 37.203125 48.484375 30.078125 48.484375 \nQ 22.953125 48.484375 18.875 42.84375 \nQ 14.796875 37.203125 14.796875 27.296875 \nz\n\" id=\"DejaVuSans-100\"/>\n      <path d=\"M 56.203125 29.59375 \nL 56.203125 25.203125 \nL 14.890625 25.203125 \nQ 15.484375 15.921875 20.484375 11.0625 \nQ 25.484375 6.203125 34.421875 6.203125 \nQ 39.59375 6.203125 44.453125 7.46875 \nQ 49.3125 8.734375 54.109375 11.28125 \nL 54.109375 2.78125 \nQ 49.265625 0.734375 44.1875 -0.34375 \nQ 39.109375 -1.421875 33.890625 -1.421875 \nQ 20.796875 -1.421875 13.15625 6.1875 \nQ 5.515625 13.8125 5.515625 26.8125 \nQ 5.515625 40.234375 12.765625 48.109375 \nQ 20.015625 56 32.328125 56 \nQ 43.359375 56 49.78125 48.890625 \nQ 56.203125 41.796875 56.203125 29.59375 \nz\nM 47.21875 32.234375 \nQ 47.125 39.59375 43.09375 43.984375 \nQ 39.0625 48.390625 32.421875 48.390625 \nQ 24.90625 48.390625 20.390625 44.140625 \nQ 15.875 39.890625 15.1875 32.171875 \nz\n\" id=\"DejaVuSans-101\"/>\n      <path d=\"M 44.28125 53.078125 \nL 44.28125 44.578125 \nQ 40.484375 46.53125 36.375 47.5 \nQ 32.28125 48.484375 27.875 48.484375 \nQ 21.1875 48.484375 17.84375 46.4375 \nQ 14.5 44.390625 14.5 40.28125 \nQ 14.5 37.15625 16.890625 35.375 \nQ 19.28125 33.59375 26.515625 31.984375 \nL 29.59375 31.296875 \nQ 39.15625 29.25 43.1875 25.515625 \nQ 47.21875 21.78125 47.21875 15.09375 \nQ 47.21875 7.46875 41.1875 3.015625 \nQ 35.15625 -1.421875 24.609375 -1.421875 \nQ 20.21875 -1.421875 15.453125 -0.5625 \nQ 10.6875 0.296875 5.421875 2 \nL 5.421875 11.28125 \nQ 10.40625 8.6875 15.234375 7.390625 \nQ 20.0625 6.109375 24.8125 6.109375 \nQ 31.15625 6.109375 34.5625 8.28125 \nQ 37.984375 10.453125 37.984375 14.40625 \nQ 37.984375 18.0625 35.515625 20.015625 \nQ 33.0625 21.96875 24.703125 23.78125 \nL 21.578125 24.515625 \nQ 13.234375 26.265625 9.515625 29.90625 \nQ 5.8125 33.546875 5.8125 39.890625 \nQ 5.8125 47.609375 11.28125 51.796875 \nQ 16.75 56 26.8125 56 \nQ 31.78125 56 36.171875 55.265625 \nQ 40.578125 54.546875 44.28125 53.078125 \nz\n\" id=\"DejaVuSans-115\"/>\n     </defs>\n     <g transform=\"translate(179.653906 252.916562)scale(0.1 -0.1)\">\n      <use xlink:href=\"#DejaVuSans-71\"/>\n      <use x=\"77.490234\" xlink:href=\"#DejaVuSans-114\"/>\n      <use x=\"118.603516\" xlink:href=\"#DejaVuSans-97\"/>\n      <use x=\"179.882812\" xlink:href=\"#DejaVuSans-100\"/>\n      <use x=\"243.359375\" xlink:href=\"#DejaVuSans-101\"/>\n      <use x=\"304.882812\" xlink:href=\"#DejaVuSans-115\"/>\n     </g>\n    </g>\n   </g>\n   <g id=\"matplotlib.axis_2\">\n    <g id=\"ytick_1\">\n     <g id=\"line2d_10\">\n      <defs>\n       <path d=\"M 0 0 \nL -3.5 0 \n\" id=\"mb59766d111\" style=\"stroke:#000000;stroke-width:0.8;\"/>\n      </defs>\n      <g>\n       <use style=\"stroke:#000000;stroke-width:0.8;\" x=\"30.103125\" xlink:href=\"#mb59766d111\" y=\"224.64\"/>\n      </g>\n     </g>\n     <g id=\"text_11\">\n      <!-- 0.0 -->\n      <g transform=\"translate(7.2 228.439219)scale(0.1 -0.1)\">\n       <use xlink:href=\"#DejaVuSans-48\"/>\n       <use x=\"63.623047\" xlink:href=\"#DejaVuSans-46\"/>\n       <use x=\"95.410156\" xlink:href=\"#DejaVuSans-48\"/>\n      </g>\n     </g>\n    </g>\n    <g id=\"ytick_2\">\n     <g id=\"line2d_11\">\n      <g>\n       <use style=\"stroke:#000000;stroke-width:0.8;\" x=\"30.103125\" xlink:href=\"#mb59766d111\" y=\"190.125714\"/>\n      </g>\n     </g>\n     <g id=\"text_12\">\n      <!-- 0.5 -->\n      <g transform=\"translate(7.2 193.924933)scale(0.1 -0.1)\">\n       <use xlink:href=\"#DejaVuSans-48\"/>\n       <use x=\"63.623047\" xlink:href=\"#DejaVuSans-46\"/>\n       <use x=\"95.410156\" xlink:href=\"#DejaVuSans-53\"/>\n      </g>\n     </g>\n    </g>\n    <g id=\"ytick_3\">\n     <g id=\"line2d_12\">\n      <g>\n       <use style=\"stroke:#000000;stroke-width:0.8;\" x=\"30.103125\" xlink:href=\"#mb59766d111\" y=\"155.611429\"/>\n      </g>\n     </g>\n     <g id=\"text_13\">\n      <!-- 1.0 -->\n      <g transform=\"translate(7.2 159.410647)scale(0.1 -0.1)\">\n       <use xlink:href=\"#DejaVuSans-49\"/>\n       <use x=\"63.623047\" xlink:href=\"#DejaVuSans-46\"/>\n       <use x=\"95.410156\" xlink:href=\"#DejaVuSans-48\"/>\n      </g>\n     </g>\n    </g>\n    <g id=\"ytick_4\">\n     <g id=\"line2d_13\">\n      <g>\n       <use style=\"stroke:#000000;stroke-width:0.8;\" x=\"30.103125\" xlink:href=\"#mb59766d111\" y=\"121.097143\"/>\n      </g>\n     </g>\n     <g id=\"text_14\">\n      <!-- 1.5 -->\n      <g transform=\"translate(7.2 124.896362)scale(0.1 -0.1)\">\n       <use xlink:href=\"#DejaVuSans-49\"/>\n       <use x=\"63.623047\" xlink:href=\"#DejaVuSans-46\"/>\n       <use x=\"95.410156\" xlink:href=\"#DejaVuSans-53\"/>\n      </g>\n     </g>\n    </g>\n    <g id=\"ytick_5\">\n     <g id=\"line2d_14\">\n      <g>\n       <use style=\"stroke:#000000;stroke-width:0.8;\" x=\"30.103125\" xlink:href=\"#mb59766d111\" y=\"86.582857\"/>\n      </g>\n     </g>\n     <g id=\"text_15\">\n      <!-- 2.0 -->\n      <g transform=\"translate(7.2 90.382076)scale(0.1 -0.1)\">\n       <use xlink:href=\"#DejaVuSans-50\"/>\n       <use x=\"63.623047\" xlink:href=\"#DejaVuSans-46\"/>\n       <use x=\"95.410156\" xlink:href=\"#DejaVuSans-48\"/>\n      </g>\n     </g>\n    </g>\n    <g id=\"ytick_6\">\n     <g id=\"line2d_15\">\n      <g>\n       <use style=\"stroke:#000000;stroke-width:0.8;\" x=\"30.103125\" xlink:href=\"#mb59766d111\" y=\"52.068571\"/>\n      </g>\n     </g>\n     <g id=\"text_16\">\n      <!-- 2.5 -->\n      <g transform=\"translate(7.2 55.86779)scale(0.1 -0.1)\">\n       <use xlink:href=\"#DejaVuSans-50\"/>\n       <use x=\"63.623047\" xlink:href=\"#DejaVuSans-46\"/>\n       <use x=\"95.410156\" xlink:href=\"#DejaVuSans-53\"/>\n      </g>\n     </g>\n    </g>\n    <g id=\"ytick_7\">\n     <g id=\"line2d_16\">\n      <g>\n       <use style=\"stroke:#000000;stroke-width:0.8;\" x=\"30.103125\" xlink:href=\"#mb59766d111\" y=\"17.554286\"/>\n      </g>\n     </g>\n     <g id=\"text_17\">\n      <!-- 3.0 -->\n      <defs>\n       <path d=\"M 40.578125 39.3125 \nQ 47.65625 37.796875 51.625 33 \nQ 55.609375 28.21875 55.609375 21.1875 \nQ 55.609375 10.40625 48.1875 4.484375 \nQ 40.765625 -1.421875 27.09375 -1.421875 \nQ 22.515625 -1.421875 17.65625 -0.515625 \nQ 12.796875 0.390625 7.625 2.203125 \nL 7.625 11.71875 \nQ 11.71875 9.328125 16.59375 8.109375 \nQ 21.484375 6.890625 26.8125 6.890625 \nQ 36.078125 6.890625 40.9375 10.546875 \nQ 45.796875 14.203125 45.796875 21.1875 \nQ 45.796875 27.640625 41.28125 31.265625 \nQ 36.765625 34.90625 28.71875 34.90625 \nL 20.21875 34.90625 \nL 20.21875 43.015625 \nL 29.109375 43.015625 \nQ 36.375 43.015625 40.234375 45.921875 \nQ 44.09375 48.828125 44.09375 54.296875 \nQ 44.09375 59.90625 40.109375 62.90625 \nQ 36.140625 65.921875 28.71875 65.921875 \nQ 24.65625 65.921875 20.015625 65.03125 \nQ 15.375 64.15625 9.8125 62.3125 \nL 9.8125 71.09375 \nQ 15.4375 72.65625 20.34375 73.4375 \nQ 25.25 74.21875 29.59375 74.21875 \nQ 40.828125 74.21875 47.359375 69.109375 \nQ 53.90625 64.015625 53.90625 55.328125 \nQ 53.90625 49.265625 50.4375 45.09375 \nQ 46.96875 40.921875 40.578125 39.3125 \nz\n\" id=\"DejaVuSans-51\"/>\n      </defs>\n      <g transform=\"translate(7.2 21.353504)scale(0.1 -0.1)\">\n       <use xlink:href=\"#DejaVuSans-51\"/>\n       <use x=\"63.623047\" xlink:href=\"#DejaVuSans-46\"/>\n       <use x=\"95.410156\" xlink:href=\"#DejaVuSans-48\"/>\n      </g>\n     </g>\n    </g>\n   </g>\n   <g id=\"patch_43\">\n    <path d=\"M 30.103125 224.64 \nL 30.103125 7.2 \n\" style=\"fill:none;stroke:#000000;stroke-linecap:square;stroke-linejoin:miter;stroke-width:0.8;\"/>\n   </g>\n   <g id=\"patch_44\">\n    <path d=\"M 364.903125 224.64 \nL 364.903125 7.2 \n\" style=\"fill:none;stroke:#000000;stroke-linecap:square;stroke-linejoin:miter;stroke-width:0.8;\"/>\n   </g>\n   <g id=\"patch_45\">\n    <path d=\"M 30.103125 224.64 \nL 364.903125 224.64 \n\" style=\"fill:none;stroke:#000000;stroke-linecap:square;stroke-linejoin:miter;stroke-width:0.8;\"/>\n   </g>\n   <g id=\"patch_46\">\n    <path d=\"M 30.103125 7.2 \nL 364.903125 7.2 \n\" style=\"fill:none;stroke:#000000;stroke-linecap:square;stroke-linejoin:miter;stroke-width:0.8;\"/>\n   </g>\n  </g>\n </g>\n <defs>\n  <clipPath id=\"p9d7df18290\">\n   <rect height=\"217.44\" width=\"334.8\" x=\"30.103125\" y=\"7.2\"/>\n  </clipPath>\n </defs>\n</svg>\n",
      "image/png": "[encoded data removed]"
     },
     "metadata": {
      "needs_background": "light"
     }
    }
   ],
   "source": [
    "# Inferential Statistics: Guess the score of new students\n",
    "mu = np.mean(grades)\n",
    "sigma = np.std(grades)\n",
    "# Assume that they have the normal distribution\n",
    "# We can reconstruct the distribution with stats parameters mu, sigmu => Infer new data\n",
    "infer_students = np.random.normal(mu, sigma, size=10) \n",
    "plt.hist([infer_students, grades], 20, range=[0,20], stacked=False)\n",
    "plt.xlabel('Grades')\n",
    "plt.show()"
   ]
  },
  {
   "source": [
    "* Most of popular statistic metrics is to describe the curve of distribution"
   ],
   "cell_type": "markdown",
   "metadata": {}
  },
  {
   "cell_type": "code",
   "execution_count": 105,
   "metadata": {},
   "outputs": [
    {
     "output_type": "stream",
     "name": "stdout",
     "text": [
      "=========Basic Statistics==========\nMean: 43900.6\nMedian: 44627.5\nMode: 4978\nSTD: 30466.9\nConfidence Interval: 25017.0 62784.2\n"
     ]
    }
   ],
   "source": [
    "## Basics Statistics\n",
    "import numpy as np\n",
    "import statistics\n",
    "n = 10\n",
    "X = [int(num) for num in '64630 11735 14216 99233 14470 4978 73429 38120 51135 67060'.split()]\n",
    "mean = np.mean(X)\n",
    "median = np.median(X)\n",
    "std = np.std(X)\n",
    "ci_up = mean + 1.96 * std / np.sqrt(n)\n",
    "ci_low = mean - 1.96 * std / np.sqrt(n)\n",
    "def mode(X):\n",
    "    X = sorted(X)\n",
    "    val_count = {val:X.count(val) for val in set(X)}\n",
    "    max_val = max(val_count.values())\n",
    "    val_valid = {k:v for k,v in val_count.items() if v == max_val}\n",
    "    out = [x for x in X if x in val_valid][0] # take smallest integer in multiple cases\n",
    "    return int(out)\n",
    "print('{:=^35s}'.format('Basic Statistics'))\n",
    "print('Mean: {0:.1f}'.format(np.mean(X)))\n",
    "print('Median: {0:.1f}'.format(np.median(X)))\n",
    "print('Mode: {}'.format(mode(X)))\n",
    "print('STD: {0:.1f}'.format(np.std(X)))\n",
    "print('Confidence Interval: {0:.1f} {1:.1f}'.format(ci_low, ci_up))"
   ]
  },
  {
   "source": [
    "## Pearson Correlation\n",
    "* Measure the association between 2 variables (take for value from -1 to 1)\n",
    "* Be cautious, **Spurious Correlation**: Correlation doesn't mean necessarily causality!"
   ],
   "cell_type": "markdown",
   "metadata": {}
  },
  {
   "cell_type": "code",
   "execution_count": 113,
   "metadata": {},
   "outputs": [
    {
     "output_type": "execute_result",
     "data": {
      "text/plain": [
       "   sepal_length  sepal_width  petal_length  petal_width species\n",
       "0           5.1          3.5           1.4          0.2  setosa\n",
       "1           4.9          3.0           1.4          0.2  setosa\n",
       "2           4.7          3.2           1.3          0.2  setosa\n",
       "3           4.6          3.1           1.5          0.2  setosa\n",
       "4           5.0          3.6           1.4          0.2  setosa"
      ],
      "text/html": "<div>\n<style scoped>\n    .dataframe tbody tr th:only-of-type {\n        vertical-align: middle;\n    }\n\n    .dataframe tbody tr th {\n        vertical-align: top;\n    }\n\n    .dataframe thead th {\n        text-align: right;\n    }\n</style>\n<table border=\"1\" class=\"dataframe\">\n  <thead>\n    <tr style=\"text-align: right;\">\n      <th></th>\n      <th>sepal_length</th>\n      <th>sepal_width</th>\n      <th>petal_length</th>\n      <th>petal_width</th>\n      <th>species</th>\n    </tr>\n  </thead>\n  <tbody>\n    <tr>\n      <td>0</td>\n      <td>5.1</td>\n      <td>3.5</td>\n      <td>1.4</td>\n      <td>0.2</td>\n      <td>setosa</td>\n    </tr>\n    <tr>\n      <td>1</td>\n      <td>4.9</td>\n      <td>3.0</td>\n      <td>1.4</td>\n      <td>0.2</td>\n      <td>setosa</td>\n    </tr>\n    <tr>\n      <td>2</td>\n      <td>4.7</td>\n      <td>3.2</td>\n      <td>1.3</td>\n      <td>0.2</td>\n      <td>setosa</td>\n    </tr>\n    <tr>\n      <td>3</td>\n      <td>4.6</td>\n      <td>3.1</td>\n      <td>1.5</td>\n      <td>0.2</td>\n      <td>setosa</td>\n    </tr>\n    <tr>\n      <td>4</td>\n      <td>5.0</td>\n      <td>3.6</td>\n      <td>1.4</td>\n      <td>0.2</td>\n      <td>setosa</td>\n    </tr>\n  </tbody>\n</table>\n</div>"
     },
     "metadata": {},
     "execution_count": 113
    }
   ],
   "source": [
    "iris = sns.load_dataset('iris')\n",
    "iris.head()"
   ]
  },
  {
   "cell_type": "code",
   "execution_count": 129,
   "metadata": {},
   "outputs": [
    {
     "output_type": "display_data",
     "data": {
      "text/plain": "<Figure size 432x288 with 2 Axes>",
      "image/svg+xml": "<?xml version=\"1.0\" encoding=\"utf-8\" standalone=\"no\"?>\n<!DOCTYPE svg PUBLIC \"-//W3C//DTD SVG 1.1//EN\"\n  \"http://www.w3.org/Graphics/SVG/1.1/DTD/svg11.dtd\">\n<!-- Created with matplotlib (https://matplotlib.org/) -->\n<svg height=\"282.495888pt\" version=\"1.1\" viewBox=\"0 0 359.590701 282.495888\" width=\"359.590701pt\" xmlns=\"http://www.w3.org/2000/svg\" xmlns:xlink=\"http://www.w3.org/1999/xlink\">\n <defs>\n  <style type=\"text/css\">\n*{stroke-linecap:butt;stroke-linejoin:round;}\n  </style>\n </defs>\n <g id=\"figure_1\">\n  <g id=\"patch_1\">\n   <path d=\"M 0 282.495888 \nL 359.590701 282.495888 \nL 359.590701 0 \nL 0 0 \nz\n\" style=\"fill:none;\"/>\n  </g>\n  <g id=\"axes_1\">\n   <g id=\"patch_2\">\n    <path d=\"M 25.655888 216.36 \nL 293.495888 216.36 \nL 293.495888 15.48 \nL 25.655888 15.48 \nz\n\" style=\"fill:#ffffff;\"/>\n   </g>\n   <g id=\"QuadMesh_1\">\n    <path clip-path=\"url(#p0d2bea994c)\" d=\"M 25.655888 -18 \nL 92.615888 -18 \nL 92.615888 48.96 \nL 25.655888 48.96 \nL 25.655888 -18 \n\" style=\"fill:#3f7f93;\"/>\n    <path clip-path=\"url(#p0d2bea994c)\" d=\"M 92.615888 -18 \nL 159.575888 -18 \nL 159.575888 48.96 \nL 92.615888 48.96 \nL 92.615888 -18 \n\" style=\"fill:#f4e0db;\"/>\n    <path clip-path=\"url(#p0d2bea994c)\" d=\"M 159.575888 -18 \nL 226.535888 -18 \nL 226.535888 48.96 \nL 159.575888 48.96 \nL 159.575888 -18 \n\" style=\"fill:#548e9f;\"/>\n    <path clip-path=\"url(#p0d2bea994c)\" d=\"M 226.535888 -18 \nL 293.495888 -18 \nL 293.495888 48.96 \nL 226.535888 48.96 \nL 226.535888 -18 \n\" style=\"fill:#6095a6;\"/>\n    <path clip-path=\"url(#p0d2bea994c)\" d=\"M 25.655888 48.96 \nL 92.615888 48.96 \nL 92.615888 115.92 \nL 25.655888 115.92 \nL 25.655888 48.96 \n\" style=\"fill:#f4e0db;\"/>\n    <path clip-path=\"url(#p0d2bea994c)\" d=\"M 92.615888 48.96 \nL 159.575888 48.96 \nL 159.575888 115.92 \nL 92.615888 115.92 \nL 92.615888 48.96 \n\" style=\"fill:#3f7f93;\"/>\n    <path clip-path=\"url(#p0d2bea994c)\" d=\"M 159.575888 48.96 \nL 226.535888 48.96 \nL 226.535888 115.92 \nL 159.575888 115.92 \nL 159.575888 48.96 \n\" style=\"fill:#e3b1a4;\"/>\n    <path clip-path=\"url(#p0d2bea994c)\" d=\"M 226.535888 48.96 \nL 293.495888 48.96 \nL 293.495888 115.92 \nL 226.535888 115.92 \nL 226.535888 48.96 \n\" style=\"fill:#e7bbaf;\"/>\n    <path clip-path=\"url(#p0d2bea994c)\" d=\"M 25.655888 115.92 \nL 92.615888 115.92 \nL 92.615888 182.88 \nL 25.655888 182.88 \nL 25.655888 115.92 \n\" style=\"fill:#548e9f;\"/>\n    <path clip-path=\"url(#p0d2bea994c)\" d=\"M 92.615888 115.92 \nL 159.575888 115.92 \nL 159.575888 182.88 \nL 92.615888 182.88 \nL 92.615888 115.92 \n\" style=\"fill:#e3b1a4;\"/>\n    <path clip-path=\"url(#p0d2bea994c)\" d=\"M 159.575888 115.92 \nL 226.535888 115.92 \nL 226.535888 182.88 \nL 159.575888 182.88 \nL 159.575888 115.92 \n\" style=\"fill:#3f7f93;\"/>\n    <path clip-path=\"url(#p0d2bea994c)\" d=\"M 226.535888 115.92 \nL 293.495888 115.92 \nL 293.495888 182.88 \nL 226.535888 182.88 \nL 226.535888 115.92 \n\" style=\"fill:#438295;\"/>\n    <path clip-path=\"url(#p0d2bea994c)\" d=\"M 25.655888 182.88 \nL 92.615888 182.88 \nL 92.615888 249.84 \nL 25.655888 249.84 \nL 25.655888 182.88 \n\" style=\"fill:#6095a6;\"/>\n    <path clip-path=\"url(#p0d2bea994c)\" d=\"M 92.615888 182.88 \nL 159.575888 182.88 \nL 159.575888 249.84 \nL 92.615888 249.84 \nL 92.615888 182.88 \n\" style=\"fill:#e7bbaf;\"/>\n    <path clip-path=\"url(#p0d2bea994c)\" d=\"M 159.575888 182.88 \nL 226.535888 182.88 \nL 226.535888 249.84 \nL 159.575888 249.84 \nL 159.575888 182.88 \n\" style=\"fill:#438295;\"/>\n    <path clip-path=\"url(#p0d2bea994c)\" d=\"M 226.535888 182.88 \nL 293.495888 182.88 \nL 293.495888 249.84 \nL 226.535888 249.84 \nL 226.535888 182.88 \n\" style=\"fill:#3f7f93;\"/>\n   </g>\n   <g id=\"matplotlib.axis_1\">\n    <g id=\"xtick_1\">\n     <g id=\"line2d_1\">\n      <defs>\n       <path d=\"M 0 0 \nL 0 3.5 \n\" id=\"mb4efb8a9e0\" style=\"stroke:#000000;stroke-width:0.8;\"/>\n      </defs>\n      <g>\n       <use style=\"stroke:#000000;stroke-width:0.8;\" x=\"59.135888\" xlink:href=\"#mb4efb8a9e0\" y=\"216.36\"/>\n      </g>\n     </g>\n     <g id=\"text_1\">\n      <!-- sepal_length -->\n      <defs>\n       <path d=\"M 44.28125 53.078125 \nL 44.28125 44.578125 \nQ 40.484375 46.53125 36.375 47.5 \nQ 32.28125 48.484375 27.875 48.484375 \nQ 21.1875 48.484375 17.84375 46.4375 \nQ 14.5 44.390625 14.5 40.28125 \nQ 14.5 37.15625 16.890625 35.375 \nQ 19.28125 33.59375 26.515625 31.984375 \nL 29.59375 31.296875 \nQ 39.15625 29.25 43.1875 25.515625 \nQ 47.21875 21.78125 47.21875 15.09375 \nQ 47.21875 7.46875 41.1875 3.015625 \nQ 35.15625 -1.421875 24.609375 -1.421875 \nQ 20.21875 -1.421875 15.453125 -0.5625 \nQ 10.6875 0.296875 5.421875 2 \nL 5.421875 11.28125 \nQ 10.40625 8.6875 15.234375 7.390625 \nQ 20.0625 6.109375 24.8125 6.109375 \nQ 31.15625 6.109375 34.5625 8.28125 \nQ 37.984375 10.453125 37.984375 14.40625 \nQ 37.984375 18.0625 35.515625 20.015625 \nQ 33.0625 21.96875 24.703125 23.78125 \nL 21.578125 24.515625 \nQ 13.234375 26.265625 9.515625 29.90625 \nQ 5.8125 33.546875 5.8125 39.890625 \nQ 5.8125 47.609375 11.28125 51.796875 \nQ 16.75 56 26.8125 56 \nQ 31.78125 56 36.171875 55.265625 \nQ 40.578125 54.546875 44.28125 53.078125 \nz\n\" id=\"DejaVuSans-115\"/>\n       <path d=\"M 56.203125 29.59375 \nL 56.203125 25.203125 \nL 14.890625 25.203125 \nQ 15.484375 15.921875 20.484375 11.0625 \nQ 25.484375 6.203125 34.421875 6.203125 \nQ 39.59375 6.203125 44.453125 7.46875 \nQ 49.3125 8.734375 54.109375 11.28125 \nL 54.109375 2.78125 \nQ 49.265625 0.734375 44.1875 -0.34375 \nQ 39.109375 -1.421875 33.890625 -1.421875 \nQ 20.796875 -1.421875 13.15625 6.1875 \nQ 5.515625 13.8125 5.515625 26.8125 \nQ 5.515625 40.234375 12.765625 48.109375 \nQ 20.015625 56 32.328125 56 \nQ 43.359375 56 49.78125 48.890625 \nQ 56.203125 41.796875 56.203125 29.59375 \nz\nM 47.21875 32.234375 \nQ 47.125 39.59375 43.09375 43.984375 \nQ 39.0625 48.390625 32.421875 48.390625 \nQ 24.90625 48.390625 20.390625 44.140625 \nQ 15.875 39.890625 15.1875 32.171875 \nz\n\" id=\"DejaVuSans-101\"/>\n       <path d=\"M 18.109375 8.203125 \nL 18.109375 -20.796875 \nL 9.078125 -20.796875 \nL 9.078125 54.6875 \nL 18.109375 54.6875 \nL 18.109375 46.390625 \nQ 20.953125 51.265625 25.265625 53.625 \nQ 29.59375 56 35.59375 56 \nQ 45.5625 56 51.78125 48.09375 \nQ 58.015625 40.1875 58.015625 27.296875 \nQ 58.015625 14.40625 51.78125 6.484375 \nQ 45.5625 -1.421875 35.59375 -1.421875 \nQ 29.59375 -1.421875 25.265625 0.953125 \nQ 20.953125 3.328125 18.109375 8.203125 \nz\nM 48.6875 27.296875 \nQ 48.6875 37.203125 44.609375 42.84375 \nQ 40.53125 48.484375 33.40625 48.484375 \nQ 26.265625 48.484375 22.1875 42.84375 \nQ 18.109375 37.203125 18.109375 27.296875 \nQ 18.109375 17.390625 22.1875 11.75 \nQ 26.265625 6.109375 33.40625 6.109375 \nQ 40.53125 6.109375 44.609375 11.75 \nQ 48.6875 17.390625 48.6875 27.296875 \nz\n\" id=\"DejaVuSans-112\"/>\n       <path d=\"M 34.28125 27.484375 \nQ 23.390625 27.484375 19.1875 25 \nQ 14.984375 22.515625 14.984375 16.5 \nQ 14.984375 11.71875 18.140625 8.90625 \nQ 21.296875 6.109375 26.703125 6.109375 \nQ 34.1875 6.109375 38.703125 11.40625 \nQ 43.21875 16.703125 43.21875 25.484375 \nL 43.21875 27.484375 \nz\nM 52.203125 31.203125 \nL 52.203125 0 \nL 43.21875 0 \nL 43.21875 8.296875 \nQ 40.140625 3.328125 35.546875 0.953125 \nQ 30.953125 -1.421875 24.3125 -1.421875 \nQ 15.921875 -1.421875 10.953125 3.296875 \nQ 6 8.015625 6 15.921875 \nQ 6 25.140625 12.171875 29.828125 \nQ 18.359375 34.515625 30.609375 34.515625 \nL 43.21875 34.515625 \nL 43.21875 35.40625 \nQ 43.21875 41.609375 39.140625 45 \nQ 35.0625 48.390625 27.6875 48.390625 \nQ 23 48.390625 18.546875 47.265625 \nQ 14.109375 46.140625 10.015625 43.890625 \nL 10.015625 52.203125 \nQ 14.9375 54.109375 19.578125 55.046875 \nQ 24.21875 56 28.609375 56 \nQ 40.484375 56 46.34375 49.84375 \nQ 52.203125 43.703125 52.203125 31.203125 \nz\n\" id=\"DejaVuSans-97\"/>\n       <path d=\"M 9.421875 75.984375 \nL 18.40625 75.984375 \nL 18.40625 0 \nL 9.421875 0 \nz\n\" id=\"DejaVuSans-108\"/>\n       <path d=\"M 50.984375 -16.609375 \nL 50.984375 -23.578125 \nL -0.984375 -23.578125 \nL -0.984375 -16.609375 \nz\n\" id=\"DejaVuSans-95\"/>\n       <path d=\"M 54.890625 33.015625 \nL 54.890625 0 \nL 45.90625 0 \nL 45.90625 32.71875 \nQ 45.90625 40.484375 42.875 44.328125 \nQ 39.84375 48.1875 33.796875 48.1875 \nQ 26.515625 48.1875 22.3125 43.546875 \nQ 18.109375 38.921875 18.109375 30.90625 \nL 18.109375 0 \nL 9.078125 0 \nL 9.078125 54.6875 \nL 18.109375 54.6875 \nL 18.109375 46.1875 \nQ 21.34375 51.125 25.703125 53.5625 \nQ 30.078125 56 35.796875 56 \nQ 45.21875 56 50.046875 50.171875 \nQ 54.890625 44.34375 54.890625 33.015625 \nz\n\" id=\"DejaVuSans-110\"/>\n       <path d=\"M 45.40625 27.984375 \nQ 45.40625 37.75 41.375 43.109375 \nQ 37.359375 48.484375 30.078125 48.484375 \nQ 22.859375 48.484375 18.828125 43.109375 \nQ 14.796875 37.75 14.796875 27.984375 \nQ 14.796875 18.265625 18.828125 12.890625 \nQ 22.859375 7.515625 30.078125 7.515625 \nQ 37.359375 7.515625 41.375 12.890625 \nQ 45.40625 18.265625 45.40625 27.984375 \nz\nM 54.390625 6.78125 \nQ 54.390625 -7.171875 48.1875 -13.984375 \nQ 42 -20.796875 29.203125 -20.796875 \nQ 24.46875 -20.796875 20.265625 -20.09375 \nQ 16.0625 -19.390625 12.109375 -17.921875 \nL 12.109375 -9.1875 \nQ 16.0625 -11.328125 19.921875 -12.34375 \nQ 23.78125 -13.375 27.78125 -13.375 \nQ 36.625 -13.375 41.015625 -8.765625 \nQ 45.40625 -4.15625 45.40625 5.171875 \nL 45.40625 9.625 \nQ 42.625 4.78125 38.28125 2.390625 \nQ 33.9375 0 27.875 0 \nQ 17.828125 0 11.671875 7.65625 \nQ 5.515625 15.328125 5.515625 27.984375 \nQ 5.515625 40.671875 11.671875 48.328125 \nQ 17.828125 56 27.875 56 \nQ 33.9375 56 38.28125 53.609375 \nQ 42.625 51.21875 45.40625 46.390625 \nL 45.40625 54.6875 \nL 54.390625 54.6875 \nz\n\" id=\"DejaVuSans-103\"/>\n       <path d=\"M 18.3125 70.21875 \nL 18.3125 54.6875 \nL 36.8125 54.6875 \nL 36.8125 47.703125 \nL 18.3125 47.703125 \nL 18.3125 18.015625 \nQ 18.3125 11.328125 20.140625 9.421875 \nQ 21.96875 7.515625 27.59375 7.515625 \nL 36.8125 7.515625 \nL 36.8125 0 \nL 27.59375 0 \nQ 17.1875 0 13.234375 3.875 \nQ 9.28125 7.765625 9.28125 18.015625 \nL 9.28125 47.703125 \nL 2.6875 47.703125 \nL 2.6875 54.6875 \nL 9.28125 54.6875 \nL 9.28125 70.21875 \nz\n\" id=\"DejaVuSans-116\"/>\n       <path d=\"M 54.890625 33.015625 \nL 54.890625 0 \nL 45.90625 0 \nL 45.90625 32.71875 \nQ 45.90625 40.484375 42.875 44.328125 \nQ 39.84375 48.1875 33.796875 48.1875 \nQ 26.515625 48.1875 22.3125 43.546875 \nQ 18.109375 38.921875 18.109375 30.90625 \nL 18.109375 0 \nL 9.078125 0 \nL 9.078125 75.984375 \nL 18.109375 75.984375 \nL 18.109375 46.1875 \nQ 21.34375 51.125 25.703125 53.5625 \nQ 30.078125 56 35.796875 56 \nQ 45.21875 56 50.046875 50.171875 \nQ 54.890625 44.34375 54.890625 33.015625 \nz\n\" id=\"DejaVuSans-104\"/>\n      </defs>\n      <g transform=\"translate(12.572907 273.628663)rotate(-45)scale(0.1 -0.1)\">\n       <use xlink:href=\"#DejaVuSans-115\"/>\n       <use x=\"52.099609\" xlink:href=\"#DejaVuSans-101\"/>\n       <use x=\"113.623047\" xlink:href=\"#DejaVuSans-112\"/>\n       <use x=\"177.099609\" xlink:href=\"#DejaVuSans-97\"/>\n       <use x=\"238.378906\" xlink:href=\"#DejaVuSans-108\"/>\n       <use x=\"266.162109\" xlink:href=\"#DejaVuSans-95\"/>\n       <use x=\"316.162109\" xlink:href=\"#DejaVuSans-108\"/>\n       <use x=\"343.945312\" xlink:href=\"#DejaVuSans-101\"/>\n       <use x=\"405.46875\" xlink:href=\"#DejaVuSans-110\"/>\n       <use x=\"468.847656\" xlink:href=\"#DejaVuSans-103\"/>\n       <use x=\"532.324219\" xlink:href=\"#DejaVuSans-116\"/>\n       <use x=\"571.533203\" xlink:href=\"#DejaVuSans-104\"/>\n      </g>\n     </g>\n    </g>\n    <g id=\"xtick_2\">\n     <g id=\"line2d_2\">\n      <g>\n       <use style=\"stroke:#000000;stroke-width:0.8;\" x=\"126.095888\" xlink:href=\"#mb4efb8a9e0\" y=\"216.36\"/>\n      </g>\n     </g>\n     <g id=\"text_2\">\n      <!-- sepal_width -->\n      <defs>\n       <path d=\"M 4.203125 54.6875 \nL 13.1875 54.6875 \nL 24.421875 12.015625 \nL 35.59375 54.6875 \nL 46.1875 54.6875 \nL 57.421875 12.015625 \nL 68.609375 54.6875 \nL 77.59375 54.6875 \nL 63.28125 0 \nL 52.6875 0 \nL 40.921875 44.828125 \nL 29.109375 0 \nL 18.5 0 \nz\n\" id=\"DejaVuSans-119\"/>\n       <path d=\"M 9.421875 54.6875 \nL 18.40625 54.6875 \nL 18.40625 0 \nL 9.421875 0 \nz\nM 9.421875 75.984375 \nL 18.40625 75.984375 \nL 18.40625 64.59375 \nL 9.421875 64.59375 \nz\n\" id=\"DejaVuSans-105\"/>\n       <path d=\"M 45.40625 46.390625 \nL 45.40625 75.984375 \nL 54.390625 75.984375 \nL 54.390625 0 \nL 45.40625 0 \nL 45.40625 8.203125 \nQ 42.578125 3.328125 38.25 0.953125 \nQ 33.9375 -1.421875 27.875 -1.421875 \nQ 17.96875 -1.421875 11.734375 6.484375 \nQ 5.515625 14.40625 5.515625 27.296875 \nQ 5.515625 40.1875 11.734375 48.09375 \nQ 17.96875 56 27.875 56 \nQ 33.9375 56 38.25 53.625 \nQ 42.578125 51.265625 45.40625 46.390625 \nz\nM 14.796875 27.296875 \nQ 14.796875 17.390625 18.875 11.75 \nQ 22.953125 6.109375 30.078125 6.109375 \nQ 37.203125 6.109375 41.296875 11.75 \nQ 45.40625 17.390625 45.40625 27.296875 \nQ 45.40625 37.203125 41.296875 42.84375 \nQ 37.203125 48.484375 30.078125 48.484375 \nQ 22.953125 48.484375 18.875 42.84375 \nQ 14.796875 37.203125 14.796875 27.296875 \nz\n\" id=\"DejaVuSans-100\"/>\n      </defs>\n      <g transform=\"translate(82.582305 270.579265)rotate(-45)scale(0.1 -0.1)\">\n       <use xlink:href=\"#DejaVuSans-115\"/>\n       <use x=\"52.099609\" xlink:href=\"#DejaVuSans-101\"/>\n       <use x=\"113.623047\" xlink:href=\"#DejaVuSans-112\"/>\n       <use x=\"177.099609\" xlink:href=\"#DejaVuSans-97\"/>\n       <use x=\"238.378906\" xlink:href=\"#DejaVuSans-108\"/>\n       <use x=\"266.162109\" xlink:href=\"#DejaVuSans-95\"/>\n       <use x=\"316.162109\" xlink:href=\"#DejaVuSans-119\"/>\n       <use x=\"397.949219\" xlink:href=\"#DejaVuSans-105\"/>\n       <use x=\"425.732422\" xlink:href=\"#DejaVuSans-100\"/>\n       <use x=\"489.208984\" xlink:href=\"#DejaVuSans-116\"/>\n       <use x=\"528.417969\" xlink:href=\"#DejaVuSans-104\"/>\n      </g>\n     </g>\n    </g>\n    <g id=\"xtick_3\">\n     <g id=\"line2d_3\">\n      <g>\n       <use style=\"stroke:#000000;stroke-width:0.8;\" x=\"193.055888\" xlink:href=\"#mb4efb8a9e0\" y=\"216.36\"/>\n      </g>\n     </g>\n     <g id=\"text_3\">\n      <!-- petal_length -->\n      <g transform=\"translate(147.404412 272.717158)rotate(-45)scale(0.1 -0.1)\">\n       <use xlink:href=\"#DejaVuSans-112\"/>\n       <use x=\"63.476562\" xlink:href=\"#DejaVuSans-101\"/>\n       <use x=\"125\" xlink:href=\"#DejaVuSans-116\"/>\n       <use x=\"164.208984\" xlink:href=\"#DejaVuSans-97\"/>\n       <use x=\"225.488281\" xlink:href=\"#DejaVuSans-108\"/>\n       <use x=\"253.271484\" xlink:href=\"#DejaVuSans-95\"/>\n       <use x=\"303.271484\" xlink:href=\"#DejaVuSans-108\"/>\n       <use x=\"331.054688\" xlink:href=\"#DejaVuSans-101\"/>\n       <use x=\"392.578125\" xlink:href=\"#DejaVuSans-110\"/>\n       <use x=\"455.957031\" xlink:href=\"#DejaVuSans-103\"/>\n       <use x=\"519.433594\" xlink:href=\"#DejaVuSans-116\"/>\n       <use x=\"558.642578\" xlink:href=\"#DejaVuSans-104\"/>\n      </g>\n     </g>\n    </g>\n    <g id=\"xtick_4\">\n     <g id=\"line2d_4\">\n      <g>\n       <use style=\"stroke:#000000;stroke-width:0.8;\" x=\"260.015888\" xlink:href=\"#mb4efb8a9e0\" y=\"216.36\"/>\n      </g>\n     </g>\n     <g id=\"text_4\">\n      <!-- petal_width -->\n      <g transform=\"translate(217.41381 269.66776)rotate(-45)scale(0.1 -0.1)\">\n       <use xlink:href=\"#DejaVuSans-112\"/>\n       <use x=\"63.476562\" xlink:href=\"#DejaVuSans-101\"/>\n       <use x=\"125\" xlink:href=\"#DejaVuSans-116\"/>\n       <use x=\"164.208984\" xlink:href=\"#DejaVuSans-97\"/>\n       <use x=\"225.488281\" xlink:href=\"#DejaVuSans-108\"/>\n       <use x=\"253.271484\" xlink:href=\"#DejaVuSans-95\"/>\n       <use x=\"303.271484\" xlink:href=\"#DejaVuSans-119\"/>\n       <use x=\"385.058594\" xlink:href=\"#DejaVuSans-105\"/>\n       <use x=\"412.841797\" xlink:href=\"#DejaVuSans-100\"/>\n       <use x=\"476.318359\" xlink:href=\"#DejaVuSans-116\"/>\n       <use x=\"515.527344\" xlink:href=\"#DejaVuSans-104\"/>\n      </g>\n     </g>\n    </g>\n   </g>\n   <g id=\"matplotlib.axis_2\">\n    <g id=\"ytick_1\">\n     <g id=\"line2d_5\">\n      <defs>\n       <path d=\"M 0 0 \nL -3.5 0 \n\" id=\"ma9302b7e9f\" style=\"stroke:#000000;stroke-width:0.8;\"/>\n      </defs>\n      <g>\n       <use style=\"stroke:#000000;stroke-width:0.8;\" x=\"25.655888\" xlink:href=\"#ma9302b7e9f\" y=\"15.48\"/>\n      </g>\n     </g>\n     <g id=\"text_5\">\n      <!-- sepal_length -->\n      <g transform=\"translate(16.298076 75.172969)rotate(-90)scale(0.1 -0.1)\">\n       <use xlink:href=\"#DejaVuSans-115\"/>\n       <use x=\"52.099609\" xlink:href=\"#DejaVuSans-101\"/>\n       <use x=\"113.623047\" xlink:href=\"#DejaVuSans-112\"/>\n       <use x=\"177.099609\" xlink:href=\"#DejaVuSans-97\"/>\n       <use x=\"238.378906\" xlink:href=\"#DejaVuSans-108\"/>\n       <use x=\"266.162109\" xlink:href=\"#DejaVuSans-95\"/>\n       <use x=\"316.162109\" xlink:href=\"#DejaVuSans-108\"/>\n       <use x=\"343.945312\" xlink:href=\"#DejaVuSans-101\"/>\n       <use x=\"405.46875\" xlink:href=\"#DejaVuSans-110\"/>\n       <use x=\"468.847656\" xlink:href=\"#DejaVuSans-103\"/>\n       <use x=\"532.324219\" xlink:href=\"#DejaVuSans-116\"/>\n       <use x=\"571.533203\" xlink:href=\"#DejaVuSans-104\"/>\n      </g>\n     </g>\n    </g>\n    <g id=\"ytick_2\">\n     <g id=\"line2d_6\">\n      <g>\n       <use style=\"stroke:#000000;stroke-width:0.8;\" x=\"25.655888\" xlink:href=\"#ma9302b7e9f\" y=\"82.44\"/>\n      </g>\n     </g>\n     <g id=\"text_6\">\n      <!-- sepal_width -->\n      <g transform=\"translate(16.298076 137.820469)rotate(-90)scale(0.1 -0.1)\">\n       <use xlink:href=\"#DejaVuSans-115\"/>\n       <use x=\"52.099609\" xlink:href=\"#DejaVuSans-101\"/>\n       <use x=\"113.623047\" xlink:href=\"#DejaVuSans-112\"/>\n       <use x=\"177.099609\" xlink:href=\"#DejaVuSans-97\"/>\n       <use x=\"238.378906\" xlink:href=\"#DejaVuSans-108\"/>\n       <use x=\"266.162109\" xlink:href=\"#DejaVuSans-95\"/>\n       <use x=\"316.162109\" xlink:href=\"#DejaVuSans-119\"/>\n       <use x=\"397.949219\" xlink:href=\"#DejaVuSans-105\"/>\n       <use x=\"425.732422\" xlink:href=\"#DejaVuSans-100\"/>\n       <use x=\"489.208984\" xlink:href=\"#DejaVuSans-116\"/>\n       <use x=\"528.417969\" xlink:href=\"#DejaVuSans-104\"/>\n      </g>\n     </g>\n    </g>\n    <g id=\"ytick_3\">\n     <g id=\"line2d_7\">\n      <g>\n       <use style=\"stroke:#000000;stroke-width:0.8;\" x=\"25.655888\" xlink:href=\"#ma9302b7e9f\" y=\"149.4\"/>\n      </g>\n     </g>\n     <g id=\"text_7\">\n      <!-- petal_length -->\n      <g transform=\"translate(16.298076 207.803906)rotate(-90)scale(0.1 -0.1)\">\n       <use xlink:href=\"#DejaVuSans-112\"/>\n       <use x=\"63.476562\" xlink:href=\"#DejaVuSans-101\"/>\n       <use x=\"125\" xlink:href=\"#DejaVuSans-116\"/>\n       <use x=\"164.208984\" xlink:href=\"#DejaVuSans-97\"/>\n       <use x=\"225.488281\" xlink:href=\"#DejaVuSans-108\"/>\n       <use x=\"253.271484\" xlink:href=\"#DejaVuSans-95\"/>\n       <use x=\"303.271484\" xlink:href=\"#DejaVuSans-108\"/>\n       <use x=\"331.054688\" xlink:href=\"#DejaVuSans-101\"/>\n       <use x=\"392.578125\" xlink:href=\"#DejaVuSans-110\"/>\n       <use x=\"455.957031\" xlink:href=\"#DejaVuSans-103\"/>\n       <use x=\"519.433594\" xlink:href=\"#DejaVuSans-116\"/>\n       <use x=\"558.642578\" xlink:href=\"#DejaVuSans-104\"/>\n      </g>\n     </g>\n    </g>\n    <g id=\"ytick_4\">\n     <g id=\"line2d_8\">\n      <g>\n       <use style=\"stroke:#000000;stroke-width:0.8;\" x=\"25.655888\" xlink:href=\"#ma9302b7e9f\" y=\"216.36\"/>\n      </g>\n     </g>\n     <g id=\"text_8\">\n      <!-- petal_width -->\n      <g transform=\"translate(16.298076 270.451406)rotate(-90)scale(0.1 -0.1)\">\n       <use xlink:href=\"#DejaVuSans-112\"/>\n       <use x=\"63.476562\" xlink:href=\"#DejaVuSans-101\"/>\n       <use x=\"125\" xlink:href=\"#DejaVuSans-116\"/>\n       <use x=\"164.208984\" xlink:href=\"#DejaVuSans-97\"/>\n       <use x=\"225.488281\" xlink:href=\"#DejaVuSans-108\"/>\n       <use x=\"253.271484\" xlink:href=\"#DejaVuSans-95\"/>\n       <use x=\"303.271484\" xlink:href=\"#DejaVuSans-119\"/>\n       <use x=\"385.058594\" xlink:href=\"#DejaVuSans-105\"/>\n       <use x=\"412.841797\" xlink:href=\"#DejaVuSans-100\"/>\n       <use x=\"476.318359\" xlink:href=\"#DejaVuSans-116\"/>\n       <use x=\"515.527344\" xlink:href=\"#DejaVuSans-104\"/>\n      </g>\n     </g>\n    </g>\n   </g>\n  </g>\n  <g id=\"axes_2\">\n   <g id=\"patch_3\">\n    <path clip-path=\"url(#p112daf80f5)\" d=\"M 310.235888 224.64 \nL 310.235888 223.790625 \nL 310.235888 8.049375 \nL 310.235888 7.2 \nL 321.107888 7.2 \nL 321.107888 8.049375 \nL 321.107888 223.790625 \nL 321.107888 224.64 \nz\n\" style=\"fill:#ffffff;stroke:#ffffff;stroke-linejoin:miter;stroke-width:0.01;\"/>\n   </g>\n   <image height=\"217\" id=\"image8d6a86c400\" transform=\"scale(1 -1)translate(0 -217)\" width=\"11\" x=\"310\" xlink:href=\"data:image/png;base64,\niVBORw0KGgoAAAANSUhEUgAAAAsAAADZCAYAAAD2WsoCAAAABHNCSVQICAgIfAhkiAAAAXpJREFUaIHtmEEOQjEIBdtfjHfyHp7YUxl/W7cumcUkaHRNyPvwGKj9cb/tlvxFO3o2tkXvILj1A2Q+BsisaSYy8l/XcDWGJYNkjoZKxz4QBKPSMc2HZFGxKaZFNRSgOjOLkswWCiiRND+PSAdX8UaPSzoYjhXbVqjOZGBRuxmRJIqKde6Rt6ip2SL/zx9UqjfyKEBjZbKOoUBrt3ZQkUmhZw9AgXZvUG5o97MFc+YN8TgpclDV8IY5ViXuZ+1wjU68UeWEsJoian7G1ZHxD/78xWuAs2eu9H97UMbe+cws+JwrHcw0r/aFmkEH2QeupWnOq2hxzkkyl/AzkQE7qI0VQQHKTL2BxirvDdGirM47P1bUdelY6jqAAgQZ1hRCUdGiHgpe2pqAKEB1tmSg0iHNRdYEQq65jhG+rAWEiMQsmg6ttNpKsO5kKNC8wVabhAKxzoT8HkXp0wPVGWT2DioEGc2idAbBC0hbQOIeJJAxX8fi28o6qGrg6w3UqvZcHijLMgAAAABJRU5ErkJggg==\" y=\"-7\"/>\n   <g id=\"matplotlib.axis_3\"/>\n   <g id=\"matplotlib.axis_4\">\n    <g id=\"ytick_5\">\n     <g id=\"line2d_9\">\n      <defs>\n       <path d=\"M 0 0 \nL 3.5 0 \n\" id=\"m59aae8553d\" style=\"stroke:#000000;stroke-width:0.8;\"/>\n      </defs>\n      <g>\n       <use style=\"stroke:#000000;stroke-width:0.8;\" x=\"321.107888\" xlink:href=\"#m59aae8553d\" y=\"202.896\"/>\n      </g>\n     </g>\n     <g id=\"text_9\">\n      <!-- −0.8 -->\n      <defs>\n       <path d=\"M 10.59375 35.5 \nL 73.1875 35.5 \nL 73.1875 27.203125 \nL 10.59375 27.203125 \nz\n\" id=\"DejaVuSans-8722\"/>\n       <path d=\"M 31.78125 66.40625 \nQ 24.171875 66.40625 20.328125 58.90625 \nQ 16.5 51.421875 16.5 36.375 \nQ 16.5 21.390625 20.328125 13.890625 \nQ 24.171875 6.390625 31.78125 6.390625 \nQ 39.453125 6.390625 43.28125 13.890625 \nQ 47.125 21.390625 47.125 36.375 \nQ 47.125 51.421875 43.28125 58.90625 \nQ 39.453125 66.40625 31.78125 66.40625 \nz\nM 31.78125 74.21875 \nQ 44.046875 74.21875 50.515625 64.515625 \nQ 56.984375 54.828125 56.984375 36.375 \nQ 56.984375 17.96875 50.515625 8.265625 \nQ 44.046875 -1.421875 31.78125 -1.421875 \nQ 19.53125 -1.421875 13.0625 8.265625 \nQ 6.59375 17.96875 6.59375 36.375 \nQ 6.59375 54.828125 13.0625 64.515625 \nQ 19.53125 74.21875 31.78125 74.21875 \nz\n\" id=\"DejaVuSans-48\"/>\n       <path d=\"M 10.6875 12.40625 \nL 21 12.40625 \nL 21 0 \nL 10.6875 0 \nz\n\" id=\"DejaVuSans-46\"/>\n       <path d=\"M 31.78125 34.625 \nQ 24.75 34.625 20.71875 30.859375 \nQ 16.703125 27.09375 16.703125 20.515625 \nQ 16.703125 13.921875 20.71875 10.15625 \nQ 24.75 6.390625 31.78125 6.390625 \nQ 38.8125 6.390625 42.859375 10.171875 \nQ 46.921875 13.96875 46.921875 20.515625 \nQ 46.921875 27.09375 42.890625 30.859375 \nQ 38.875 34.625 31.78125 34.625 \nz\nM 21.921875 38.8125 \nQ 15.578125 40.375 12.03125 44.71875 \nQ 8.5 49.078125 8.5 55.328125 \nQ 8.5 64.0625 14.71875 69.140625 \nQ 20.953125 74.21875 31.78125 74.21875 \nQ 42.671875 74.21875 48.875 69.140625 \nQ 55.078125 64.0625 55.078125 55.328125 \nQ 55.078125 49.078125 51.53125 44.71875 \nQ 48 40.375 41.703125 38.8125 \nQ 48.828125 37.15625 52.796875 32.3125 \nQ 56.78125 27.484375 56.78125 20.515625 \nQ 56.78125 9.90625 50.3125 4.234375 \nQ 43.84375 -1.421875 31.78125 -1.421875 \nQ 19.734375 -1.421875 13.25 4.234375 \nQ 6.78125 9.90625 6.78125 20.515625 \nQ 6.78125 27.484375 10.78125 32.3125 \nQ 14.796875 37.15625 21.921875 38.8125 \nz\nM 18.3125 54.390625 \nQ 18.3125 48.734375 21.84375 45.5625 \nQ 25.390625 42.390625 31.78125 42.390625 \nQ 38.140625 42.390625 41.71875 45.5625 \nQ 45.3125 48.734375 45.3125 54.390625 \nQ 45.3125 60.0625 41.71875 63.234375 \nQ 38.140625 66.40625 31.78125 66.40625 \nQ 25.390625 66.40625 21.84375 63.234375 \nQ 18.3125 60.0625 18.3125 54.390625 \nz\n\" id=\"DejaVuSans-56\"/>\n      </defs>\n      <g transform=\"translate(328.107888 206.695219)scale(0.1 -0.1)\">\n       <use xlink:href=\"#DejaVuSans-8722\"/>\n       <use x=\"83.789062\" xlink:href=\"#DejaVuSans-48\"/>\n       <use x=\"147.412109\" xlink:href=\"#DejaVuSans-46\"/>\n       <use x=\"179.199219\" xlink:href=\"#DejaVuSans-56\"/>\n      </g>\n     </g>\n    </g>\n    <g id=\"ytick_6\">\n     <g id=\"line2d_10\">\n      <g>\n       <use style=\"stroke:#000000;stroke-width:0.8;\" x=\"321.107888\" xlink:href=\"#m59aae8553d\" y=\"159.408\"/>\n      </g>\n     </g>\n     <g id=\"text_10\">\n      <!-- −0.4 -->\n      <defs>\n       <path d=\"M 37.796875 64.3125 \nL 12.890625 25.390625 \nL 37.796875 25.390625 \nz\nM 35.203125 72.90625 \nL 47.609375 72.90625 \nL 47.609375 25.390625 \nL 58.015625 25.390625 \nL 58.015625 17.1875 \nL 47.609375 17.1875 \nL 47.609375 0 \nL 37.796875 0 \nL 37.796875 17.1875 \nL 4.890625 17.1875 \nL 4.890625 26.703125 \nz\n\" id=\"DejaVuSans-52\"/>\n      </defs>\n      <g transform=\"translate(328.107888 163.207219)scale(0.1 -0.1)\">\n       <use xlink:href=\"#DejaVuSans-8722\"/>\n       <use x=\"83.789062\" xlink:href=\"#DejaVuSans-48\"/>\n       <use x=\"147.412109\" xlink:href=\"#DejaVuSans-46\"/>\n       <use x=\"179.199219\" xlink:href=\"#DejaVuSans-52\"/>\n      </g>\n     </g>\n    </g>\n    <g id=\"ytick_7\">\n     <g id=\"line2d_11\">\n      <g>\n       <use style=\"stroke:#000000;stroke-width:0.8;\" x=\"321.107888\" xlink:href=\"#m59aae8553d\" y=\"115.92\"/>\n      </g>\n     </g>\n     <g id=\"text_11\">\n      <!-- 0.0 -->\n      <g transform=\"translate(328.107888 119.719219)scale(0.1 -0.1)\">\n       <use xlink:href=\"#DejaVuSans-48\"/>\n       <use x=\"63.623047\" xlink:href=\"#DejaVuSans-46\"/>\n       <use x=\"95.410156\" xlink:href=\"#DejaVuSans-48\"/>\n      </g>\n     </g>\n    </g>\n    <g id=\"ytick_8\">\n     <g id=\"line2d_12\">\n      <g>\n       <use style=\"stroke:#000000;stroke-width:0.8;\" x=\"321.107888\" xlink:href=\"#m59aae8553d\" y=\"72.432\"/>\n      </g>\n     </g>\n     <g id=\"text_12\">\n      <!-- 0.4 -->\n      <g transform=\"translate(328.107888 76.231219)scale(0.1 -0.1)\">\n       <use xlink:href=\"#DejaVuSans-48\"/>\n       <use x=\"63.623047\" xlink:href=\"#DejaVuSans-46\"/>\n       <use x=\"95.410156\" xlink:href=\"#DejaVuSans-52\"/>\n      </g>\n     </g>\n    </g>\n    <g id=\"ytick_9\">\n     <g id=\"line2d_13\">\n      <g>\n       <use style=\"stroke:#000000;stroke-width:0.8;\" x=\"321.107888\" xlink:href=\"#m59aae8553d\" y=\"28.944\"/>\n      </g>\n     </g>\n     <g id=\"text_13\">\n      <!-- 0.8 -->\n      <g transform=\"translate(328.107888 32.743219)scale(0.1 -0.1)\">\n       <use xlink:href=\"#DejaVuSans-48\"/>\n       <use x=\"63.623047\" xlink:href=\"#DejaVuSans-46\"/>\n       <use x=\"95.410156\" xlink:href=\"#DejaVuSans-56\"/>\n      </g>\n     </g>\n    </g>\n   </g>\n   <g id=\"patch_4\">\n    <path d=\"M 310.235888 224.64 \nL 310.235888 223.790625 \nL 310.235888 8.049375 \nL 310.235888 7.2 \nL 321.107888 7.2 \nL 321.107888 8.049375 \nL 321.107888 223.790625 \nL 321.107888 224.64 \nz\n\" style=\"fill:none;\"/>\n   </g>\n  </g>\n </g>\n <defs>\n  <clipPath id=\"p0d2bea994c\">\n   <rect height=\"200.88\" width=\"267.84\" x=\"25.655888\" y=\"15.48\"/>\n  </clipPath>\n  <clipPath id=\"p112daf80f5\">\n   <rect height=\"217.44\" width=\"10.872\" x=\"310.235888\" y=\"7.2\"/>\n  </clipPath>\n </defs>\n</svg>\n",
      "image/png": "[encoded data removed]"
     },
     "metadata": {
      "needs_background": "light"
     }
    }
   ],
   "source": [
    "## Correlation Matrix\n",
    "corr = df.corr()\n",
    "ax = sns.heatmap(\n",
    "    corr, \n",
    "    vmin=-1, vmax=1, center=0,\n",
    "    cmap=sns.diverging_palette(20, 220, n=200),\n",
    "    square=True\n",
    ")\n",
    "ax.set_xticklabels(\n",
    "    ax.get_xticklabels(),\n",
    "    rotation=45,\n",
    "    horizontalalignment='right'\n",
    ");"
   ]
  },
  {
   "cell_type": "code",
   "execution_count": 127,
   "metadata": {},
   "outputs": [
    {
     "output_type": "execute_result",
     "data": {
      "text/plain": [
       "              sepal_length  sepal_width  petal_length  petal_width\n",
       "sepal_length      1.000000    -0.117570      0.871754     0.817941\n",
       "sepal_width      -0.117570     1.000000     -0.428440    -0.366126\n",
       "petal_length      0.871754    -0.428440      1.000000     0.962865\n",
       "petal_width       0.817941    -0.366126      0.962865     1.000000"
      ],
      "text/html": "<div>\n<style scoped>\n    .dataframe tbody tr th:only-of-type {\n        vertical-align: middle;\n    }\n\n    .dataframe tbody tr th {\n        vertical-align: top;\n    }\n\n    .dataframe thead th {\n        text-align: right;\n    }\n</style>\n<table border=\"1\" class=\"dataframe\">\n  <thead>\n    <tr style=\"text-align: right;\">\n      <th></th>\n      <th>sepal_length</th>\n      <th>sepal_width</th>\n      <th>petal_length</th>\n      <th>petal_width</th>\n    </tr>\n  </thead>\n  <tbody>\n    <tr>\n      <td>sepal_length</td>\n      <td>1.000000</td>\n      <td>-0.117570</td>\n      <td>0.871754</td>\n      <td>0.817941</td>\n    </tr>\n    <tr>\n      <td>sepal_width</td>\n      <td>-0.117570</td>\n      <td>1.000000</td>\n      <td>-0.428440</td>\n      <td>-0.366126</td>\n    </tr>\n    <tr>\n      <td>petal_length</td>\n      <td>0.871754</td>\n      <td>-0.428440</td>\n      <td>1.000000</td>\n      <td>0.962865</td>\n    </tr>\n    <tr>\n      <td>petal_width</td>\n      <td>0.817941</td>\n      <td>-0.366126</td>\n      <td>0.962865</td>\n      <td>1.000000</td>\n    </tr>\n  </tbody>\n</table>\n</div>"
     },
     "metadata": {},
     "execution_count": 127
    }
   ],
   "source": [
    "df = iris.loc[:,'sepal_length':'petal_width']\n",
    "df.corr()"
   ]
  },
  {
   "cell_type": "code",
   "execution_count": 128,
   "metadata": {},
   "outputs": [
    {
     "output_type": "execute_result",
     "data": {
      "text/plain": [
       "-0.11756978413300208"
      ]
     },
     "metadata": {},
     "execution_count": 128
    }
   ],
   "source": [
    "np.corrcoef(iris.sepal_length, iris.sepal_width)[0][1]"
   ]
  },
  {
   "source": [
    "\n",
    "![pearson-corr.png](./images/pearson-corr.png)\n",
    "\n",
    "* ρ(x,y)=std(x)×std(y)mean((x−mean(x))×(y−mean(y)))"
   ],
   "cell_type": "markdown",
   "metadata": {}
  },
  {
   "cell_type": "code",
   "execution_count": 109,
   "metadata": {},
   "outputs": [
    {
     "output_type": "stream",
     "name": "stdout",
     "text": [
      "0.145\n"
     ]
    }
   ],
   "source": [
    "physics_score = list(map(int, '15  12  8   8   7   7   7   6   5   3'.split()))\n",
    "history_score = list(map(int, '10  25  17  11  13  17  20  13  9   15'.split()))\n",
    "corr = np.corrcoef(physics_score, history_score)[0][1]\n",
    "print('{:.3f}'.format(corr))"
   ]
  },
  {
   "cell_type": "code",
   "execution_count": 110,
   "metadata": {},
   "outputs": [],
   "source": [
    "# DYI pearson corr formula\n",
    "def pearson_corr(x, y):\n",
    "    mean_x = sum(x)/len(x)\n",
    "    mean_y = sum(y)/len(y)\n",
    "    xi_meanx = [i - mean_x for i in x]\n",
    "    yi_meany = [i - mean_y for i in y]\n",
    "    nu = sum([x * y for x, y in zip(xi_meanx, yi_meany)])\n",
    "    de1 = sum([x ** 2 for x in xi_meanx]) * sum([y ** 2 for y in yi_meany])\n",
    "    de = de1 ** 0.5 \n",
    "    corr = nu / de \n",
    "    return corr"
   ]
  },
  {
   "cell_type": "code",
   "execution_count": 111,
   "metadata": {},
   "outputs": [
    {
     "output_type": "stream",
     "name": "stdout",
     "text": [
      "Pearson Correlation: 0.145\n"
     ]
    }
   ],
   "source": [
    "print('Pearson Correlation: {:.3f}'.format(corr))\n"
   ]
  },
  {
   "source": [
    "## Correlation on Categorical Variables (Pearson Chi-Sqr)\n",
    "> Reference: \n",
    "> * [Chi-Squared Test for ML](https://machinelearningmastery.com/chi-squared-test-for-machine-learning/)\n",
    "> * [SPSS Tutorial](https://www.spss-tutorials.com/chi-square-independence-test/)\n",
    "\n",
    "* From data of 2 categorical variables like this:\n",
    "```\n",
    "Sex,\tInterest\n",
    "Male,\tArt\n",
    "Female,\tMath\n",
    "Male, \tScience\n",
    "Male,\tMath\n",
    "```\n",
    "* We can summarize into the **Contingency table** as this: \n",
    "```\n",
    "\n",
    "        Science,\tMath,\tArt\n",
    "Male         20,      30,    15\n",
    "Female       20,      15,    30\n",
    "```"
   ],
   "cell_type": "markdown",
   "metadata": {}
  },
  {
   "cell_type": "code",
   "execution_count": 112,
   "metadata": {},
   "outputs": [
    {
     "output_type": "stream",
     "name": "stdout",
     "text": [
      "[[30, 20, 15], [6, 9, 17]]\n-------Chi2 Pearson Score-------\ndof=2\n[[24.12371134 19.43298969 21.44329897]\n [11.87628866  9.56701031 10.55670103]]\n10.2578565359748\n--------------------------------\nprobability=0.950, critical=5.991, stat=10.258\nDependent or 2 Variables correlated (reject H0)\n"
     ]
    }
   ],
   "source": [
    "# chi-squared test with similar proportions\n",
    "from scipy.stats import chi2_contingency\n",
    "from scipy.stats import chi2\n",
    "\n",
    "# contingency table\n",
    "table = [[30, 20, 15],[6, 9, 17]]\n",
    "print(table)\n",
    "print('{:-^32s}'.format('Chi2 Pearson Score'))\n",
    "stat, p, dof, expected = chi2_contingency(table)\n",
    "print('dof=%d' % dof)\n",
    "print(expected)\n",
    "print(stat)\n",
    "print('-'*32)\n",
    "# interpret test-statistic\n",
    "prob = 0.95\n",
    "critical = chi2.ppf(prob, dof)\n",
    "print('probability=%.3f, critical=%.3f, stat=%.3f' % (prob, critical, stat))\n",
    "if abs(stat) >= critical:\n",
    "    ## H0: 2 variables is independent\n",
    "\tprint('Dependent or 2 Variables correlated (reject H0)')\n",
    "else:\n",
    "\tprint('Independent (fail to reject H0)') "
   ]
  },
  {
   "cell_type": "code",
   "execution_count": null,
   "metadata": {},
   "outputs": [],
   "source": []
  }
 ]
}