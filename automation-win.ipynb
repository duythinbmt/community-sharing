{
 "cells": [
  {
   "cell_type": "code",
   "execution_count": 7,
   "source": [
    "import os\r\n",
    "from shutil import move\r\n",
    "from pathlib import Path"
   ],
   "outputs": [],
   "metadata": {}
  },
  {
   "cell_type": "code",
   "execution_count": null,
   "source": [
    "# directory paths\r\n",
    "download_dir = '{}\\\\Downloads\\\\'.format(Path.home())\r\n",
    "print(download_dir)\r\n",
    "test_dir = download_dir + 'test'\r\n",
    "image_dir = download_dir + 'images'\r\n",
    "print(image_dir)\r\n",
    "documents_dir = download_dir + 'documents'\r\n",
    "print(test_dir)\r\n",
    "others_dir = download_dir + 'others'\r\n",
    "software_dir = download_dir + 'softwares'"
   ],
   "outputs": [],
   "metadata": {}
  },
  {
   "cell_type": "code",
   "execution_count": 3,
   "source": [
    "# category wise file types\r\n",
    "doc_types = ('.doc', '.docx', '.txt', '.pdf', '.xls', '.ppt', '.xlsx', '.pptx', '.md', '.csv')\r\n",
    "img_types = ('.jpg', '.jpeg', '.png', '.svg', '.gif', '.tif', '.tiff')\r\n",
    "software_types = ('.exe', '.pkg', '.dmg')"
   ],
   "outputs": [],
   "metadata": {}
  },
  {
   "cell_type": "code",
   "execution_count": 9,
   "source": [
    "def get_files(dir):\r\n",
    "    return Path(dir).glob('*.*')"
   ],
   "outputs": [],
   "metadata": {}
  },
  {
   "cell_type": "code",
   "execution_count": 12,
   "source": [
    "def move_files(files):\r\n",
    "    for file in files:\r\n",
    "        # file moved and overwritten if already exists\r\n",
    "        if file.name.endswith(doc_types):\r\n",
    "            move(file, '{}/{}'.format(documents_dir, file.name))\r\n",
    "            print('file {} moved to {}'.format(file.name, documents_dir))\r\n",
    "        elif file.name.endswith(img_types):\r\n",
    "            move(file, '{}/{}'.format(image_dir, file.name))\r\n",
    "            print('file {} moved to {}'.format(file.name, image_dir))\r\n",
    "        elif file.name.endswith(software_types):\r\n",
    "            move(file, '{}/{}'.format(software_dir, file.name))\r\n",
    "            print('file {} moved to {}'.format(file.name, software_dir))\r\n",
    "        else:\r\n",
    "            move(file, '{}/{}'.format(others_dir, file.name))\r\n",
    "            print('file {} moved to {}'.format(file.name, others_dir))\r\n",
    "        \r\n",
    "    "
   ],
   "outputs": [],
   "metadata": {}
  },
  {
   "cell_type": "code",
   "execution_count": null,
   "source": [
    "files = get_files(test_dir)\r\n",
    "move_files(files)"
   ],
   "outputs": [],
   "metadata": {}
  }
 ],
 "metadata": {
  "orig_nbformat": 4,
  "language_info": {
   "name": "python",
   "version": "3.8.8",
   "mimetype": "text/x-python",
   "codemirror_mode": {
    "name": "ipython",
    "version": 3
   },
   "pygments_lexer": "ipython3",
   "nbconvert_exporter": "python",
   "file_extension": ".py"
  },
  "kernelspec": {
   "name": "python3",
   "display_name": "Python 3.8.8 64-bit ('base': conda)"
  },
  "interpreter": {
   "hash": "27c8280a805424fe1487d86b467299993bca489a9d207f36d28011e5bcf9447b"
  }
 },
 "nbformat": 4,
 "nbformat_minor": 2
}