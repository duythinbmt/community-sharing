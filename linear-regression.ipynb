{
 "cells": [
  {
   "cell_type": "code",
   "execution_count": 14,
   "id": "6c626677",
   "metadata": {},
   "outputs": [],
   "source": [
    "import numpy as np\n",
    "from sklearn.linear_model import LinearRegression"
   ]
  },
  {
   "cell_type": "code",
   "execution_count": 2,
   "id": "dc959861",
   "metadata": {},
   "outputs": [
    {
     "data": {
      "text/plain": [
       "array([[1, 1],\n",
       "       [1, 2],\n",
       "       [2, 2],\n",
       "       [2, 3]])"
      ]
     },
     "execution_count": 2,
     "metadata": {},
     "output_type": "execute_result"
    }
   ],
   "source": [
    "X = np.array([[1, 1], [1, 2], [2, 2], [2, 3]])\n",
    "X"
   ]
  },
  {
   "cell_type": "code",
   "execution_count": 3,
   "id": "defbebaa",
   "metadata": {},
   "outputs": [
    {
     "data": {
      "text/plain": [
       "array([ 6,  8,  9, 11])"
      ]
     },
     "execution_count": 3,
     "metadata": {},
     "output_type": "execute_result"
    }
   ],
   "source": [
    "y = np.dot(X, np.array([1, 2])) + 3\n",
    "y"
   ]
  },
  {
   "cell_type": "code",
   "execution_count": 4,
   "id": "b08625d4",
   "metadata": {},
   "outputs": [
    {
     "data": {
      "text/plain": [
       "LinearRegression()"
      ]
     },
     "execution_count": 4,
     "metadata": {},
     "output_type": "execute_result"
    }
   ],
   "source": [
    "reg = LinearRegression()\n",
    "reg"
   ]
  },
  {
   "cell_type": "code",
   "execution_count": 5,
   "id": "1e2ebd44",
   "metadata": {},
   "outputs": [
    {
     "data": {
      "text/plain": [
       "LinearRegression()"
      ]
     },
     "execution_count": 5,
     "metadata": {},
     "output_type": "execute_result"
    }
   ],
   "source": [
    "reg.fit(X, y)"
   ]
  },
  {
   "cell_type": "code",
   "execution_count": 6,
   "id": "22298411",
   "metadata": {},
   "outputs": [
    {
     "data": {
      "text/plain": [
       "array([1., 2.])"
      ]
     },
     "execution_count": 6,
     "metadata": {},
     "output_type": "execute_result"
    }
   ],
   "source": [
    "reg.coef_"
   ]
  },
  {
   "cell_type": "code",
   "execution_count": 7,
   "id": "b8413005",
   "metadata": {},
   "outputs": [
    {
     "data": {
      "text/plain": [
       "3.000000000000001"
      ]
     },
     "execution_count": 7,
     "metadata": {},
     "output_type": "execute_result"
    }
   ],
   "source": [
    "reg.intercept_, reg.coef_"
   ]
  },
  {
   "cell_type": "code",
   "execution_count": null,
   "id": "47c90833",
   "metadata": {},
   "outputs": [],
   "source": []
  },
  {
   "cell_type": "code",
   "execution_count": 1,
   "id": "ffc516b2",
   "metadata": {},
   "outputs": [
    {
     "data": {
      "text/html": [
       "<div>\n",
       "<style scoped>\n",
       "    .dataframe tbody tr th:only-of-type {\n",
       "        vertical-align: middle;\n",
       "    }\n",
       "\n",
       "    .dataframe tbody tr th {\n",
       "        vertical-align: top;\n",
       "    }\n",
       "\n",
       "    .dataframe thead th {\n",
       "        text-align: right;\n",
       "    }\n",
       "</style>\n",
       "<table border=\"1\" class=\"dataframe\">\n",
       "  <thead>\n",
       "    <tr style=\"text-align: right;\">\n",
       "      <th></th>\n",
       "      <th>longitude</th>\n",
       "      <th>latitude</th>\n",
       "      <th>housing_median_age</th>\n",
       "      <th>total_rooms</th>\n",
       "      <th>total_bedrooms</th>\n",
       "      <th>population</th>\n",
       "      <th>households</th>\n",
       "      <th>median_income</th>\n",
       "      <th>median_house_value</th>\n",
       "      <th>ocean_proximity</th>\n",
       "    </tr>\n",
       "  </thead>\n",
       "  <tbody>\n",
       "    <tr>\n",
       "      <th>0</th>\n",
       "      <td>-122.23</td>\n",
       "      <td>37.88</td>\n",
       "      <td>41.0</td>\n",
       "      <td>880.0</td>\n",
       "      <td>129.0</td>\n",
       "      <td>322.0</td>\n",
       "      <td>126.0</td>\n",
       "      <td>8.3252</td>\n",
       "      <td>452600.0</td>\n",
       "      <td>NEAR BAY</td>\n",
       "    </tr>\n",
       "    <tr>\n",
       "      <th>1</th>\n",
       "      <td>-122.22</td>\n",
       "      <td>37.86</td>\n",
       "      <td>21.0</td>\n",
       "      <td>7099.0</td>\n",
       "      <td>1106.0</td>\n",
       "      <td>2401.0</td>\n",
       "      <td>1138.0</td>\n",
       "      <td>8.3014</td>\n",
       "      <td>358500.0</td>\n",
       "      <td>NEAR BAY</td>\n",
       "    </tr>\n",
       "    <tr>\n",
       "      <th>2</th>\n",
       "      <td>-122.24</td>\n",
       "      <td>37.85</td>\n",
       "      <td>52.0</td>\n",
       "      <td>1467.0</td>\n",
       "      <td>190.0</td>\n",
       "      <td>496.0</td>\n",
       "      <td>177.0</td>\n",
       "      <td>7.2574</td>\n",
       "      <td>352100.0</td>\n",
       "      <td>NEAR BAY</td>\n",
       "    </tr>\n",
       "    <tr>\n",
       "      <th>3</th>\n",
       "      <td>-122.25</td>\n",
       "      <td>37.85</td>\n",
       "      <td>52.0</td>\n",
       "      <td>1274.0</td>\n",
       "      <td>235.0</td>\n",
       "      <td>558.0</td>\n",
       "      <td>219.0</td>\n",
       "      <td>5.6431</td>\n",
       "      <td>341300.0</td>\n",
       "      <td>NEAR BAY</td>\n",
       "    </tr>\n",
       "    <tr>\n",
       "      <th>4</th>\n",
       "      <td>-122.25</td>\n",
       "      <td>37.85</td>\n",
       "      <td>52.0</td>\n",
       "      <td>1627.0</td>\n",
       "      <td>280.0</td>\n",
       "      <td>565.0</td>\n",
       "      <td>259.0</td>\n",
       "      <td>3.8462</td>\n",
       "      <td>342200.0</td>\n",
       "      <td>NEAR BAY</td>\n",
       "    </tr>\n",
       "  </tbody>\n",
       "</table>\n",
       "</div>"
      ],
      "text/plain": [
       "   longitude  latitude  housing_median_age  total_rooms  total_bedrooms  \\\n",
       "0    -122.23     37.88                41.0        880.0           129.0   \n",
       "1    -122.22     37.86                21.0       7099.0          1106.0   \n",
       "2    -122.24     37.85                52.0       1467.0           190.0   \n",
       "3    -122.25     37.85                52.0       1274.0           235.0   \n",
       "4    -122.25     37.85                52.0       1627.0           280.0   \n",
       "\n",
       "   population  households  median_income  median_house_value ocean_proximity  \n",
       "0       322.0       126.0         8.3252            452600.0        NEAR BAY  \n",
       "1      2401.0      1138.0         8.3014            358500.0        NEAR BAY  \n",
       "2       496.0       177.0         7.2574            352100.0        NEAR BAY  \n",
       "3       558.0       219.0         5.6431            341300.0        NEAR BAY  \n",
       "4       565.0       259.0         3.8462            342200.0        NEAR BAY  "
      ]
     },
     "execution_count": 1,
     "metadata": {},
     "output_type": "execute_result"
    }
   ],
   "source": [
    "import pandas as pd\n",
    "from sklearn.preprocessing import MinMaxScaler\n",
    "from sklearn.metrics import mean_absolute_error\n",
    "\n",
    "\n",
    "pd00 = pd.read_csv('house_big.csv')\n",
    "pd00.head()"
   ]
  },
  {
   "cell_type": "code",
   "execution_count": 2,
   "id": "7699d879",
   "metadata": {},
   "outputs": [
    {
     "data": {
      "text/plain": [
       "(20640, 10)"
      ]
     },
     "execution_count": 2,
     "metadata": {},
     "output_type": "execute_result"
    }
   ],
   "source": [
    "pd00.shape"
   ]
  },
  {
   "cell_type": "code",
   "execution_count": 3,
   "id": "8a1ba4b0",
   "metadata": {},
   "outputs": [
    {
     "data": {
      "text/plain": [
       "<AxesSubplot:ylabel='Frequency'>"
      ]
     },
     "execution_count": 3,
     "metadata": {},
     "output_type": "execute_result"
    },
    {
     "data": {
      "image/png": "[encoded data removed]",
      "text/plain": [
       "<Figure size 432x288 with 1 Axes>"
      ]
     },
     "metadata": {
      "needs_background": "light"
     },
     "output_type": "display_data"
    }
   ],
   "source": [
    "pd00['median_house_value'].plot(kind='hist', bins=100)"
   ]
  },
  {
   "cell_type": "code",
   "execution_count": 4,
   "id": "91c4b65f",
   "metadata": {},
   "outputs": [
    {
     "data": {
      "text/plain": [
       "count     20640.000000\n",
       "mean     206855.816909\n",
       "std      115395.615874\n",
       "min       14999.000000\n",
       "50%      179700.000000\n",
       "74%      260300.000000\n",
       "90%      376600.000000\n",
       "92%      410288.000000\n",
       "95%      489810.000000\n",
       "99%      500001.000000\n",
       "max      500001.000000\n",
       "Name: median_house_value, dtype: float64"
      ]
     },
     "execution_count": 4,
     "metadata": {},
     "output_type": "execute_result"
    }
   ],
   "source": [
    "pd00['median_house_value'].describe([0.74, 0.9, 0.92, 0.95, 0.99])"
   ]
  },
  {
   "cell_type": "code",
   "execution_count": 5,
   "id": "0d567cd5",
   "metadata": {},
   "outputs": [
    {
     "data": {
      "text/plain": [
       "(18988, 10)"
      ]
     },
     "execution_count": 5,
     "metadata": {},
     "output_type": "execute_result"
    }
   ],
   "source": [
    "pd01 = pd00[pd00['median_house_value']<410288]\n",
    "pd01.shape"
   ]
  },
  {
   "cell_type": "code",
   "execution_count": 6,
   "id": "788f833f",
   "metadata": {},
   "outputs": [
    {
     "data": {
      "text/plain": [
       "longitude               0\n",
       "latitude                0\n",
       "housing_median_age      0\n",
       "total_rooms             0\n",
       "total_bedrooms        191\n",
       "population              0\n",
       "households              0\n",
       "median_income           0\n",
       "median_house_value      0\n",
       "ocean_proximity         0\n",
       "dtype: int64"
      ]
     },
     "execution_count": 6,
     "metadata": {},
     "output_type": "execute_result"
    }
   ],
   "source": [
    "pd01.isnull().sum()"
   ]
  },
  {
   "cell_type": "code",
   "execution_count": 7,
   "id": "a0d961e2",
   "metadata": {},
   "outputs": [
    {
     "name": "stderr",
     "output_type": "stream",
     "text": [
      "<ipython-input-7-a9bb69cc338a>:1: SettingWithCopyWarning: \n",
      "A value is trying to be set on a copy of a slice from a DataFrame.\n",
      "Try using .loc[row_indexer,col_indexer] = value instead\n",
      "\n",
      "See the caveats in the documentation: https://pandas.pydata.org/pandas-docs/stable/user_guide/indexing.html#returning-a-view-versus-a-copy\n",
      "  pd01['total_bedrooms'] = pd01['total_bedrooms'].fillna(pd01[\"total_bedrooms\"].median())\n"
     ]
    }
   ],
   "source": [
    "pd01['total_bedrooms'] = pd01['total_bedrooms'].fillna(pd01[\"total_bedrooms\"].median())"
   ]
  },
  {
   "cell_type": "code",
   "execution_count": 8,
   "id": "2dd6f806",
   "metadata": {},
   "outputs": [
    {
     "data": {
      "text/plain": [
       "longitude             0\n",
       "latitude              0\n",
       "housing_median_age    0\n",
       "total_rooms           0\n",
       "total_bedrooms        0\n",
       "population            0\n",
       "households            0\n",
       "median_income         0\n",
       "median_house_value    0\n",
       "ocean_proximity       0\n",
       "dtype: int64"
      ]
     },
     "execution_count": 8,
     "metadata": {},
     "output_type": "execute_result"
    }
   ],
   "source": [
    "pd01.isnull().sum()"
   ]
  },
  {
   "cell_type": "code",
   "execution_count": 9,
   "id": "fb7d8f8c",
   "metadata": {},
   "outputs": [],
   "source": [
    "feats = ['housing_median_age', 'total_rooms', 'total_bedrooms', 'population', 'households', 'median_income']\n",
    "label = ['median_house_value']"
   ]
  },
  {
   "cell_type": "code",
   "execution_count": 10,
   "id": "d30ad27e",
   "metadata": {},
   "outputs": [
    {
     "data": {
      "text/plain": [
       "((18988, 10), (15190, 10), (3798, 10))"
      ]
     },
     "execution_count": 10,
     "metadata": {},
     "output_type": "execute_result"
    }
   ],
   "source": [
    "from sklearn.model_selection import train_test_split\n",
    "\n",
    "pd_train, pd_test = train_test_split(pd01, test_size=0.2, random_state=0)\n",
    "pd01.shape, pd_train.shape, pd_test.shape"
   ]
  },
  {
   "cell_type": "code",
   "execution_count": 15,
   "id": "77e77c98",
   "metadata": {},
   "outputs": [],
   "source": [
    "from sklearn.metrics import mean_squared_error\n",
    "\n",
    "def evaluate_linear_regression(feats, label, pd_train, pd_test):\n",
    "    reg = LinearRegression()\n",
    "    reg.fit(pd_train[feats], pd_train[label])\n",
    "    y_pred = reg.predict(pd_test[feats])\n",
    "    y_true = pd_test[label].values\n",
    "    return mean_absolute_error(y_true, y_pred)"
   ]
  },
  {
   "cell_type": "code",
   "execution_count": 16,
   "id": "45e34400",
   "metadata": {},
   "outputs": [
    {
     "data": {
      "text/plain": [
       "46853.50147015495"
      ]
     },
     "execution_count": 16,
     "metadata": {},
     "output_type": "execute_result"
    }
   ],
   "source": [
    "evaluate_linear_regression(feats, label, pd_train, pd_test)"
   ]
  },
  {
   "cell_type": "code",
   "execution_count": 17,
   "id": "fa89b9c8",
   "metadata": {},
   "outputs": [],
   "source": [
    "# KNN\n",
    "\n",
    "from sklearn.neighbors import KNeighborsRegressor\n",
    "\n",
    "def evaluate_knn_regression(feats, label, pd_train, pd_test):\n",
    "    knn = KNeighborsRegressor()\n",
    "    knn.fit(pd_train[feats], pd_train[label])\n",
    "    y_pred = knn.predict(pd_test[feats])\n",
    "    y_true = pd_test[label].values\n",
    "    return mean_absolute_error(y_true, y_pred)"
   ]
  },
  {
   "cell_type": "code",
   "execution_count": 18,
   "id": "2fea39d9",
   "metadata": {},
   "outputs": [
    {
     "data": {
      "text/plain": [
       "65700.66956292785"
      ]
     },
     "execution_count": 18,
     "metadata": {},
     "output_type": "execute_result"
    }
   ],
   "source": [
    "evaluate_knn_regression(feats, label, pd_train, pd_test)"
   ]
  },
  {
   "cell_type": "code",
   "execution_count": null,
   "id": "43f1a991",
   "metadata": {},
   "outputs": [],
   "source": [
    "# tune"
   ]
  },
  {
   "cell_type": "code",
   "execution_count": 22,
   "id": "fb9d508e",
   "metadata": {
    "scrolled": true
   },
   "outputs": [
    {
     "data": {
      "text/plain": [
       "[-80428.99302172482,\n",
       " -67485.3304366908,\n",
       " -65062.74534562211,\n",
       " -63901.250954575386,\n",
       " -63467.2490161656,\n",
       " -63259.74812376563,\n",
       " -63167.44272547729,\n",
       " -63221.6213166557,\n",
       " -63144.942953955775,\n",
       " -63201.57382280587,\n",
       " -63249.641126681076,\n",
       " -63213.52355955004,\n",
       " -63219.094743910464,\n",
       " -63225.440787067506,\n",
       " -63219.536071825845,\n",
       " -63237.293499543426,\n",
       " -63238.104089612374,\n",
       " -63231.627649769594,\n",
       " -63289.73603188442,\n",
       " -63290.3832548404,\n",
       " -63312.68893848649,\n",
       " -63330.646915810576,\n",
       " -63378.072339989754,\n",
       " -63423.36916644489,\n",
       " -63446.98721097392]"
      ]
     },
     "execution_count": 22,
     "metadata": {},
     "output_type": "execute_result"
    }
   ],
   "source": [
    "from sklearn.model_selection import cross_val_score\n",
    "\n",
    "validation_error = []\n",
    "k_list = range(1, 50, 2)\n",
    "for k in k_list:\n",
    "    model = KNeighborsRegressor(n_neighbors=k)\n",
    "    validation_error.append(np.mean(cross_val_score(model, pd_train[feats], pd_train[label], cv=5,\n",
    "                                                   scoring='neg_mean_absolute_error')))\n",
    "    \n",
    "validation_error"
   ]
  },
  {
   "cell_type": "code",
   "execution_count": 24,
   "id": "5b05bace",
   "metadata": {},
   "outputs": [
    {
     "data": {
      "text/plain": [
       "[<matplotlib.lines.Line2D at 0x7f8dc3eb9d00>]"
      ]
     },
     "execution_count": 24,
     "metadata": {},
     "output_type": "execute_result"
    },
    {
     "data": {
      "image/png": "[encoded data removed]",
      "text/plain": [
       "<Figure size 432x288 with 1 Axes>"
      ]
     },
     "metadata": {
      "needs_background": "light"
     },
     "output_type": "display_data"
    }
   ],
   "source": [
    "import matplotlib.pyplot as plt\n",
    "\n",
    "plt.plot(k_list, validation_error,'b-o',label='Choose k')"
   ]
  },
  {
   "cell_type": "code",
   "execution_count": 25,
   "id": "e8f8fca8",
   "metadata": {},
   "outputs": [],
   "source": [
    "def evaluate_tune_knn_regression(feats, label, pd_train, pd_test):\n",
    "    knn = KNeighborsRegressor(n_neighbors=10)\n",
    "    knn.fit(pd_train[feats], pd_train[label])\n",
    "    y_pred = knn.predict(pd_test[feats])\n",
    "    y_true = pd_test[label].values\n",
    "    return mean_absolute_error(y_true, y_pred)\n"
   ]
  },
  {
   "cell_type": "code",
   "execution_count": 26,
   "id": "c6c3232d",
   "metadata": {},
   "outputs": [
    {
     "data": {
      "text/plain": [
       "63635.57214323328"
      ]
     },
     "execution_count": 26,
     "metadata": {},
     "output_type": "execute_result"
    }
   ],
   "source": [
    "evaluate_tune_knn_regression(feats, label, pd_train, pd_test)"
   ]
  },
  {
   "cell_type": "code",
   "execution_count": null,
   "id": "fab23dc6",
   "metadata": {},
   "outputs": [],
   "source": [
    "### Model2"
   ]
  },
  {
   "cell_type": "code",
   "execution_count": 86,
   "id": "f0177880",
   "metadata": {},
   "outputs": [
    {
     "data": {
      "text/plain": [
       "Ridge(alpha=100)"
      ]
     },
     "execution_count": 86,
     "metadata": {},
     "output_type": "execute_result"
    }
   ],
   "source": [
    "from sklearn.linear_model import Ridge\n",
    "\n",
    "reg2 = Ridge(alpha=100) # LinearRegresion\n",
    "reg2.fit(pd_train[feats], pd_train[label])"
   ]
  },
  {
   "cell_type": "code",
   "execution_count": 87,
   "id": "33b7b628",
   "metadata": {},
   "outputs": [],
   "source": [
    "y_pred2 = reg2.predict(pd_test[feats])"
   ]
  },
  {
   "cell_type": "code",
   "execution_count": 88,
   "id": "4acd1ae3",
   "metadata": {},
   "outputs": [
    {
     "data": {
      "text/plain": [
       "46961.91162412965"
      ]
     },
     "execution_count": 88,
     "metadata": {},
     "output_type": "execute_result"
    }
   ],
   "source": [
    "mean_absolute_error(y_true, y_pred2)"
   ]
  },
  {
   "cell_type": "code",
   "execution_count": 89,
   "id": "797df4f4",
   "metadata": {},
   "outputs": [
    {
     "data": {
      "text/plain": [
       "array([[115003.87143662],\n",
       "       [122971.47045854],\n",
       "       [111726.85400571],\n",
       "       ...,\n",
       "       [147274.94167685],\n",
       "       [207640.51345203],\n",
       "       [163780.56666939]])"
      ]
     },
     "execution_count": 89,
     "metadata": {},
     "output_type": "execute_result"
    }
   ],
   "source": [
    "y_pred2"
   ]
  },
  {
   "cell_type": "code",
   "execution_count": 90,
   "id": "64e0c236",
   "metadata": {},
   "outputs": [
    {
     "data": {
      "text/plain": [
       "array([[ 68300.],\n",
       "       [142300.],\n",
       "       [101800.],\n",
       "       ...,\n",
       "       [ 81900.],\n",
       "       [235100.],\n",
       "       [156300.]])"
      ]
     },
     "execution_count": 90,
     "metadata": {},
     "output_type": "execute_result"
    }
   ],
   "source": [
    "y_true"
   ]
  },
  {
   "cell_type": "code",
   "execution_count": 94,
   "id": "1d10354b",
   "metadata": {},
   "outputs": [
    {
     "data": {
      "text/plain": [
       "array([[2.18125161e+09],\n",
       "       [3.73592054e+08],\n",
       "       [9.85424305e+07],\n",
       "       ...,\n",
       "       [4.27388300e+09],\n",
       "       [7.54023401e+08],\n",
       "       [5.59588777e+07]])"
      ]
     },
     "execution_count": 94,
     "metadata": {},
     "output_type": "execute_result"
    }
   ],
   "source": [
    "np.square(y_true - y_pred2)"
   ]
  },
  {
   "cell_type": "code",
   "execution_count": 96,
   "id": "f75bec01",
   "metadata": {},
   "outputs": [
    {
     "data": {
      "text/plain": [
       "14413193143531.482"
      ]
     },
     "execution_count": 96,
     "metadata": {},
     "output_type": "execute_result"
    }
   ],
   "source": [
    "RSS = np.square(y_true - y_pred2).sum() # Residual Sum of Squared \n",
    "RSS"
   ]
  },
  {
   "cell_type": "code",
   "execution_count": 98,
   "id": "df6d5d65",
   "metadata": {},
   "outputs": [
    {
     "data": {
      "text/plain": [
       "3794942902.4569464"
      ]
     },
     "execution_count": 98,
     "metadata": {},
     "output_type": "execute_result"
    }
   ],
   "source": [
    "MSE = RSS/ len(y_true) # Mean Square Error\n",
    "MSE"
   ]
  },
  {
   "cell_type": "code",
   "execution_count": 101,
   "id": "9cf4fe7c",
   "metadata": {},
   "outputs": [
    {
     "data": {
      "text/plain": [
       "3.0"
      ]
     },
     "execution_count": 101,
     "metadata": {},
     "output_type": "execute_result"
    }
   ],
   "source": [
    "np.sqrt(9)"
   ]
  },
  {
   "cell_type": "code",
   "execution_count": 102,
   "id": "445663db",
   "metadata": {},
   "outputs": [
    {
     "data": {
      "text/plain": [
       "61603.10789608708"
      ]
     },
     "execution_count": 102,
     "metadata": {},
     "output_type": "execute_result"
    }
   ],
   "source": [
    "RMSE = np.sqrt(MSE)\n",
    "RMSE"
   ]
  },
  {
   "cell_type": "code",
   "execution_count": null,
   "id": "14a3cdf9",
   "metadata": {},
   "outputs": [],
   "source": []
  }
 ],
 "metadata": {
  "kernelspec": {
   "display_name": "Python 3",
   "language": "python",
   "name": "python3"
  },
  "language_info": {
   "codemirror_mode": {
    "name": "ipython",
    "version": 3
   },
   "file_extension": ".py",
   "mimetype": "text/x-python",
   "name": "python",
   "nbconvert_exporter": "python",
   "pygments_lexer": "ipython3",
   "version": "3.8.8"
  }
 },
 "nbformat": 4,
 "nbformat_minor": 5
}
